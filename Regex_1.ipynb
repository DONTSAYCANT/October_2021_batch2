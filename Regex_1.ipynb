{
  "nbformat": 4,
  "nbformat_minor": 0,
  "metadata": {
    "colab": {
      "name": "Regex_1.ipynb",
      "provenance": [],
      "collapsed_sections": []
    },
    "kernelspec": {
      "name": "python3",
      "display_name": "Python 3"
    },
    "language_info": {
      "name": "python"
    }
  },
  "cells": [
    {
      "cell_type": "code",
      "metadata": {
        "id": "DsBqUPmmG0zY"
      },
      "source": [
        "#Regular expression part1\n",
        "\n",
        "\n",
        "#what ?\n",
        "#how to  write regular expression\n",
        "\n",
        "https://regex101.com/\n",
        "\n",
        "#Regular ex part 2\n",
        "Extracted string = python(Main_string, regex pattern)\n"
      ],
      "execution_count": null,
      "outputs": []
    },
    {
      "cell_type": "code",
      "metadata": {
        "colab": {
          "base_uri": "https://localhost:8080/",
          "height": 135
        },
        "id": "cGOo6evEJOpT",
        "outputId": "aaa8b9c8-4672-4dae-d1c9-f78716890e26"
      },
      "source": [
        "\\d   ===> all digits\n",
        "\\D   ====> All non digits\n",
        "\\s  ==> All spaces\n",
        "\\S  ===> Non spaces\n",
        "\\w  ===> All words/chars (a-z,A-Z,0-9,_)\n",
        "\\W ===> Except word or char\n",
        "\\b ==> start every words in a string (space as delimted)\n",
        "\\B ==> middle or end of each and every words in a string\n",
        "\\A  ===> start of the main Main_string\n",
        "\\Z  ===> End of the main string\n",
        "\n",
        "Quantifiers:\n",
        "*    0 or more\n",
        "+    1 or more\n",
        "?    0 or 1\n",
        "{}   specific count\n",
        "\n",
        "50 89 ===> identify numbers\n",
        "Date ==> \n",
        "\n",
        ". ==> anything (one char) except \\n\n",
        "[] ==> one value/char\n",
        "[^] ==> except that char\n",
        "^...$\n",
        "|\n",
        "\n"
      ],
      "execution_count": 1,
      "outputs": [
        {
          "output_type": "error",
          "ename": "SyntaxError",
          "evalue": "ignored",
          "traceback": [
            "\u001b[0;36m  File \u001b[0;32m\"<ipython-input-1-88d5b4ffaf4a>\"\u001b[0;36m, line \u001b[0;32m1\u001b[0m\n\u001b[0;31m    \\d\u001b[0m\n\u001b[0m      ^\u001b[0m\n\u001b[0;31mSyntaxError\u001b[0m\u001b[0;31m:\u001b[0m unexpected character after line continuation character\n"
          ]
        }
      ]
    },
    {
      "cell_type": "code",
      "metadata": {
        "id": "N6yWwxtdO_d5"
      },
      "source": [
        "https://www.programiz.com/python-programming/regex\n",
        "\n",
        "50 89 ===> identify numbers\n"
      ],
      "execution_count": null,
      "outputs": []
    },
    {
      "cell_type": "code",
      "metadata": {
        "id": "tWEyUNDYJWQ_"
      },
      "source": [
        "+"
      ],
      "execution_count": null,
      "outputs": []
    }
  ]
}