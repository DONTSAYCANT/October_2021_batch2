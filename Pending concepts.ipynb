{
 "cells": [
  {
   "cell_type": "code",
   "execution_count": 3,
   "metadata": {},
   "outputs": [
    {
     "name": "stdout",
     "output_type": "stream",
     "text": [
      "1\n",
      "2\n",
      "3\n",
      "4\n"
     ]
    }
   ],
   "source": [
    "#Iterator (For loop)\n",
    "\n",
    "\n",
    "a = iter([1,2,3,4])\n",
    "\n",
    "print(next(a))\n",
    "print(next(a))\n",
    "print(next(a))\n",
    "print(next(a))"
   ]
  },
  {
   "cell_type": "code",
   "execution_count": 4,
   "metadata": {},
   "outputs": [
    {
     "name": "stdout",
     "output_type": "stream",
     "text": [
      "no 1\n",
      "no 2\n",
      "no 3\n"
     ]
    }
   ],
   "source": [
    "#generators (iterator + return )\n",
    "#https://www.geeksforgeeks.org/generators-in-python/\n",
    "\n",
    "#yield ==> return iteratively\n",
    "\n",
    "def func():\n",
    "    yield \"no 1\"\n",
    "    yield \"no 2\"\n",
    "    yield \"no 3\"\n",
    "    \n",
    "for i in func():\n",
    "    print(i)\n"
   ]
  },
  {
   "cell_type": "code",
   "execution_count": null,
   "metadata": {},
   "outputs": [],
   "source": [
    "#decorator\n",
    "#https://www.geeksforgeeks.org/decorators-in-python/\n",
    "#"
   ]
  },
  {
   "cell_type": "code",
   "execution_count": 11,
   "metadata": {},
   "outputs": [
    {
     "name": "stdout",
     "output_type": "stream",
     "text": [
      "Lines to be executed before func1\n",
      "main functionality\n",
      "Lines to be executed after func1\n"
     ]
    }
   ],
   "source": [
    "\n",
    "def decorator_function(func): #3\n",
    "    def inner_function():\n",
    "        print(\"Lines to be executed before func1\") #4\n",
    "        func()  #5\n",
    "        print(\"Lines to be executed after func1\") #7\n",
    "    return inner_function   \n",
    "\n",
    "def func1(): #6\n",
    "    print(\"main functionality\")\n",
    "\n",
    "\n",
    "func1 = decorator_function(func1)  #2\n",
    "\n",
    "func1()  #1\n"
   ]
  },
  {
   "cell_type": "code",
   "execution_count": 12,
   "metadata": {},
   "outputs": [
    {
     "name": "stdout",
     "output_type": "stream",
     "text": [
      "Lines to be executed before func1\n",
      "main functionality\n",
      "Lines to be executed after func1\n"
     ]
    }
   ],
   "source": [
    "def decorator_function(func):\n",
    "    def inner_function():\n",
    "        print(\"Lines to be executed before func1\")\n",
    "        func()\n",
    "        print(\"Lines to be executed after func1\")\n",
    "    return inner_function\n",
    "\n",
    "@decorator_function\n",
    "def func1():\n",
    "    print(\"main functionality\")\n",
    "\n",
    "func1()\n"
   ]
  },
  {
   "cell_type": "code",
   "execution_count": null,
   "metadata": {},
   "outputs": [],
   "source": []
  },
  {
   "cell_type": "code",
   "execution_count": 2,
   "metadata": {},
   "outputs": [
    {
     "name": "stdout",
     "output_type": "stream",
     "text": [
      "line 1\n",
      "Actual\n",
      "line 2\n"
     ]
    }
   ],
   "source": [
    "#Example 1\n",
    "\n",
    "\n",
    "#decorator function\n",
    "def supporting_func(func):\n",
    "    def inner_func():\n",
    "        print(\"line 1\")\n",
    "        func()\n",
    "        print(\"line 2\")\n",
    "    return inner_func\n",
    "\n",
    "#function that we cant alter #available in some other system or module \n",
    "def actual_func():\n",
    "    print(\"Actual\")\n",
    "    \n",
    "actual_func = supporting_func(actual_func)\n",
    "actual_func()"
   ]
  },
  {
   "cell_type": "code",
   "execution_count": 13,
   "metadata": {},
   "outputs": [
    {
     "name": "stdout",
     "output_type": "stream",
     "text": [
      "The time before factorial calculation is  1639916433.4659548\n",
      "3628800\n",
      "The time after factorial calculation is  1639916443.4712214\n",
      "Total time taken in :  factorial 10.005266666412354\n"
     ]
    }
   ],
   "source": [
    "#example 2\n",
    "\n",
    "# importing libraries\n",
    "import time\n",
    "import math\n",
    "\n",
    "def calculate_time(func):\n",
    "\n",
    "    def inner1(*args, **kwargs):\n",
    "\n",
    "        begin = time.time()\n",
    "        print(\"The time before factorial calculation is \", begin)\n",
    "\n",
    "        func(*args, **kwargs)\n",
    "        end = time.time()\n",
    "        print(\"The time after factorial calculation is \", end)\n",
    "        print(\"Total time taken in : \", func.__name__, end - begin)\n",
    "\n",
    "    return inner1\n",
    "@calculate_time\n",
    "def factorial(num):\n",
    "    time.sleep(10)\n",
    "    print(math.factorial(num))\n",
    "    \n",
    "#factorial = calculate_time(factorial)\n",
    "\n",
    "factorial(10)"
   ]
  },
  {
   "cell_type": "code",
   "execution_count": 3,
   "metadata": {},
   "outputs": [
    {
     "name": "stdout",
     "output_type": "stream",
     "text": [
      "hello\n"
     ]
    }
   ],
   "source": [
    "if __name__ == \"__main__\":\n",
    "    print(\"hello\")"
   ]
  },
  {
   "cell_type": "code",
   "execution_count": null,
   "metadata": {},
   "outputs": [],
   "source": [
    "#DB connectivity with python\n",
    "\n",
    "#https://www.geeksforgeeks.org/mysqldb-connection-python/\n",
    "\n",
    "#Mysql \n",
    "\n",
    "#python\n",
    "\n",
    "mysql-connector-python\n",
    "mysql-python\n",
    "pymysql\n",
    "mysqlDB\n"
   ]
  },
  {
   "cell_type": "code",
   "execution_count": null,
   "metadata": {},
   "outputs": [],
   "source": [
    "connect(): This method is used for creating a connection to our database it has four arguments:\n",
    "Server Name\n",
    "Database User Name\n",
    "Database Password\n",
    "Database Name\n",
    "cursor(): This method creates a cursor object that is capable of executing SQL queries on the database.\n",
    "execute(): This method is used for executing SQL queries on the database. It takes a sql query( as string) as an argument.\n",
    "fetchone(): This method retrieves the next row of a query result set and returns a single sequence, or None if no more rows are available.\n",
    "close() : This method close the database connection."
   ]
  },
  {
   "cell_type": "code",
   "execution_count": null,
   "metadata": {},
   "outputs": [],
   "source": [
    "#Boto 3:\n",
    "\n",
    "https://boto3.amazonaws.com/v1/documentation/api/latest/index.html"
   ]
  },
  {
   "cell_type": "code",
   "execution_count": null,
   "metadata": {},
   "outputs": [],
   "source": [
    "#Networking:\n",
    "\n",
    "https://www.geeksforgeeks.org/python-network-programming/\n",
    "https://www.tutorialspoint.com/python/python_networking.htm\n",
    "    "
   ]
  },
  {
   "cell_type": "code",
   "execution_count": null,
   "metadata": {},
   "outputs": [],
   "source": [
    "#Django #Html/css/\n",
    "\n",
    "#https://docs.djangoproject.com/en/4.0/\n",
    "#https://realpython.com/tutorials/django/"
   ]
  },
  {
   "cell_type": "code",
   "execution_count": null,
   "metadata": {},
   "outputs": [],
   "source": [
    "#selenium \n",
    "#https://selenium-python.readthedocs.io/\n",
    "\n",
    "#json json/csv\n",
    "\n",
    "https://www.geeksforgeeks.org/python-json/\n",
    "https://www.geeksforgeeks.org/working-with-json-data-in-python/    "
   ]
  },
  {
   "cell_type": "code",
   "execution_count": null,
   "metadata": {},
   "outputs": [],
   "source": [
    "#Pandas/numpy ==> excel/ data analysis\n",
    "\n",
    "#seaborn/matplotlib/ggplot/bokeh  ===> Visualisation"
   ]
  }
 ],
 "metadata": {
  "kernelspec": {
   "display_name": "Python 3",
   "language": "python",
   "name": "python3"
  },
  "language_info": {
   "codemirror_mode": {
    "name": "ipython",
    "version": 3
   },
   "file_extension": ".py",
   "mimetype": "text/x-python",
   "name": "python",
   "nbconvert_exporter": "python",
   "pygments_lexer": "ipython3",
   "version": "3.7.6"
  }
 },
 "nbformat": 4,
 "nbformat_minor": 4
}
