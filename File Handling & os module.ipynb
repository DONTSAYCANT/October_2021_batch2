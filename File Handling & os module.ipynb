{
 "cells": [
  {
   "cell_type": "code",
   "execution_count": null,
   "metadata": {},
   "outputs": [],
   "source": [
    "#FFile handling\n",
    "\n",
    "#open\n",
    "#close\n",
    "\n",
    "#read\n",
    "#write/over write\n",
    "\n",
    "#delete\n",
    "#create \n",
    "#create directory\n",
    "#delete directory\n",
    "\n",
    "#check file existance"
   ]
  },
  {
   "cell_type": "code",
   "execution_count": null,
   "metadata": {},
   "outputs": [],
   "source": [
    "f = open(<file_path>, <mode, default: read mode>)"
   ]
  },
  {
   "cell_type": "code",
   "execution_count": 7,
   "metadata": {},
   "outputs": [
    {
     "name": "stdout",
     "output_type": "stream",
     "text": [
      "hello\n",
      "welcome to python\n",
      "this is helpful\n"
     ]
    }
   ],
   "source": [
    "#Read\n",
    "\n",
    "#f = open(\"file_discussion\", \"r\")\n",
    "\n",
    "f = open(\"file_discussion\")\n",
    "\n",
    "print(f.read())\n",
    "\n",
    "#FileNotFoundError  ===> trying open unavailable file, read mode expects file availability "
   ]
  },
  {
   "cell_type": "code",
   "execution_count": 9,
   "metadata": {},
   "outputs": [
    {
     "name": "stdout",
     "output_type": "stream",
     "text": [
      "hello\n",
      "\n",
      "welcome to python\n",
      "\n"
     ]
    }
   ],
   "source": [
    "f = open(\"file_discussion\")\n",
    "\n",
    "print(f.readline())\n",
    "print(f.readline())"
   ]
  },
  {
   "cell_type": "code",
   "execution_count": 10,
   "metadata": {},
   "outputs": [
    {
     "name": "stdout",
     "output_type": "stream",
     "text": [
      "hello\n",
      "welc\n"
     ]
    }
   ],
   "source": [
    "f = open(\"file_discussion\")\n",
    "\n",
    "print(f.read(10))"
   ]
  },
  {
   "cell_type": "code",
   "execution_count": 11,
   "metadata": {},
   "outputs": [
    {
     "name": "stdout",
     "output_type": "stream",
     "text": [
      "hello\n",
      "\n",
      "welcome to python\n",
      "\n",
      "this is helpful\n"
     ]
    }
   ],
   "source": [
    "f = open(\"file_discussion\")\n",
    "\n",
    "\n",
    "for i in f:\n",
    "    print(i)"
   ]
  },
  {
   "cell_type": "code",
   "execution_count": 12,
   "metadata": {},
   "outputs": [],
   "source": [
    "f = open(\"file_discussion_write\", \"w\")\n",
    "\n",
    "f.write(\"hello world\")\n",
    "f.write(\"\\n\")\n",
    "f.write(\"welcome to file handling topic\")\n",
    "\n",
    "f.close()\n",
    "#If file not available ===> it will create an empty file"
   ]
  },
  {
   "cell_type": "code",
   "execution_count": 13,
   "metadata": {},
   "outputs": [],
   "source": [
    "f = open(\"file_discussion\", \"w\")\n",
    "\n",
    "f.write(\"9999999\")\n",
    "f.write(\"\\n\")\n",
    "f.write(\"8888888\")\n",
    "\n",
    "f.close()\n",
    "\n",
    "#w ===> clear the file then write new content"
   ]
  },
  {
   "cell_type": "code",
   "execution_count": 18,
   "metadata": {},
   "outputs": [],
   "source": [
    "f = open(\"file_discussion\", \"a\")\n",
    "\n",
    "f.write(\"9999999\")\n",
    "f.write(\"\\n\")\n",
    "f.write(\"8888888\")\n",
    "\n",
    "f.close()"
   ]
  },
  {
   "cell_type": "code",
   "execution_count": 19,
   "metadata": {},
   "outputs": [],
   "source": [
    "import os\n",
    "\n"
   ]
  },
  {
   "cell_type": "code",
   "execution_count": 20,
   "metadata": {},
   "outputs": [],
   "source": [
    "os.remove(\"file_discussion\")"
   ]
  },
  {
   "cell_type": "code",
   "execution_count": 21,
   "metadata": {},
   "outputs": [],
   "source": [
    "os.mkdir(\"class_folder\")"
   ]
  },
  {
   "cell_type": "code",
   "execution_count": 22,
   "metadata": {},
   "outputs": [],
   "source": [
    "os.rmdir(\"class_folder\")"
   ]
  },
  {
   "cell_type": "code",
   "execution_count": 23,
   "metadata": {},
   "outputs": [
    {
     "name": "stdout",
     "output_type": "stream",
     "text": [
      "False\n"
     ]
    }
   ],
   "source": [
    "print(os.path.exists(\"file_discussion\"))"
   ]
  },
  {
   "cell_type": "code",
   "execution_count": 24,
   "metadata": {},
   "outputs": [
    {
     "name": "stdout",
     "output_type": "stream",
     "text": [
      "True\n"
     ]
    }
   ],
   "source": [
    "print(os.path.exists(\"file_discussion_write\"))"
   ]
  },
  {
   "cell_type": "code",
   "execution_count": 25,
   "metadata": {},
   "outputs": [
    {
     "data": {
      "text/plain": [
       "'C:\\\\Users\\\\kanna\\\\Downloads\\\\dontsaycant\\\\python October 2021 batch2'"
      ]
     },
     "execution_count": 25,
     "metadata": {},
     "output_type": "execute_result"
    }
   ],
   "source": [
    "os.getcwd()"
   ]
  },
  {
   "cell_type": "code",
   "execution_count": null,
   "metadata": {},
   "outputs": [],
   "source": []
  }
 ],
 "metadata": {
  "kernelspec": {
   "display_name": "Python 3",
   "language": "python",
   "name": "python3"
  },
  "language_info": {
   "codemirror_mode": {
    "name": "ipython",
    "version": 3
   },
   "file_extension": ".py",
   "mimetype": "text/x-python",
   "name": "python",
   "nbconvert_exporter": "python",
   "pygments_lexer": "ipython3",
   "version": "3.7.6"
  }
 },
 "nbformat": 4,
 "nbformat_minor": 4
}
