{
 "cells": [
  {
   "cell_type": "code",
   "execution_count": 4,
   "metadata": {},
   "outputs": [
    {
     "name": "stdout",
     "output_type": "stream",
     "text": [
      "hello\n",
      "hello\n",
      "hello\n",
      "hello\n",
      "hello\n",
      "hello\n",
      "hello\n",
      "hello\n",
      "hello\n"
     ]
    }
   ],
   "source": [
    "#Loop:  ==> executing set of program or code for multiple attempts based on count (no of times ) or based on some condition\n",
    "\n",
    "\n",
    "print(\"hello\")\n",
    "print(\"hello\")\n",
    "print(\"hello\")\n",
    "print(\"hello\")\n",
    "print(\"hello\")\n",
    "print(\"hello\")\n",
    "print(\"hello\")\n",
    "print(\"hello\")\n",
    "print(\"hello\")\n"
   ]
  },
  {
   "cell_type": "code",
   "execution_count": 2,
   "metadata": {},
   "outputs": [
    {
     "name": "stdout",
     "output_type": "stream",
     "text": [
      "Hello\n",
      "Hello\n",
      "Hello\n",
      "Hello\n",
      "Hello\n",
      "Hello\n",
      "Hello\n",
      "Hello\n",
      "Hello\n",
      "Hello\n"
     ]
    }
   ],
   "source": [
    "for i in range(10):\n",
    "    print(\"Hello\")"
   ]
  },
  {
   "cell_type": "code",
   "execution_count": null,
   "metadata": {},
   "outputs": [],
   "source": [
    "#For :\n",
    "\n",
    "    For with range\n",
    "    For with Data structure \n",
    "\n",
    "#while loop:\n",
    "\n",
    "    While with condition\n",
    "    \n",
    "Continue pass break\n",
    "For else\n",
    "While else\n",
    "\n"
   ]
  },
  {
   "cell_type": "code",
   "execution_count": 10,
   "metadata": {},
   "outputs": [
    {
     "name": "stdout",
     "output_type": "stream",
     "text": [
      "[10, 11, 12, 13, 14, 15, 16, 17, 18, 19, 20, 21, 22, 23, 24, 25, 26, 27, 28, 29, 30, 31, 32, 33, 34, 35, 36, 37, 38, 39, 40, 41, 42, 43, 44, 45, 46, 47, 48, 49]\n",
      "[0, 1, 2, 3, 4, 5, 6, 7, 8, 9]\n",
      "[1000, 1013, 1026, 1039, 1052, 1065, 1078, 1091, 1104, 1117, 1130, 1143, 1156, 1169, 1182, 1195, 1208, 1221, 1234, 1247, 1260, 1273, 1286, 1299, 1312, 1325, 1338, 1351, 1364, 1377, 1390, 1403, 1416, 1429, 1442, 1455, 1468, 1481, 1494]\n",
      "[100, 99, 98, 97, 96, 95, 94, 93, 92, 91, 90, 89, 88, 87, 86, 85, 84, 83, 82, 81, 80, 79, 78, 77, 76, 75, 74, 73, 72, 71, 70, 69, 68, 67, 66, 65, 64, 63, 62, 61, 60, 59, 58, 57, 56, 55, 54, 53, 52, 51]\n",
      "[200, 192, 184, 176, 168, 160, 152, 144, 136, 128, 120, 112, 104, 96, 88, 80, 72, 64, 56]\n"
     ]
    }
   ],
   "source": [
    "#Range (from (including), to (excluding), interval (optional))\n",
    "\n",
    "print(list(range(10,50)))\n",
    "\n",
    "print(list(range(10)))\n",
    "\n",
    "print(list(range(1000,1500,13)))\n",
    "\n",
    "print(list(range(100,50,-1)))\n",
    "\n",
    "print(list(range(200, 50, -8)))\n"
   ]
  },
  {
   "cell_type": "markdown",
   "metadata": {},
   "source": [
    "## For loop"
   ]
  },
  {
   "cell_type": "code",
   "execution_count": 13,
   "metadata": {},
   "outputs": [
    {
     "name": "stdout",
     "output_type": "stream",
     "text": [
      "0\n",
      "1\n",
      "2\n",
      "3\n",
      "4\n",
      "5\n",
      "6\n",
      "7\n",
      "8\n",
      "9\n"
     ]
    }
   ],
   "source": [
    "for i in range(10):\n",
    "    print(i)\n",
    "    \n",
    "#for temp_variable in Data_strcture or collection:\n",
    "#    #temp_variable"
   ]
  },
  {
   "cell_type": "code",
   "execution_count": 14,
   "metadata": {},
   "outputs": [
    {
     "name": "stdout",
     "output_type": "stream",
     "text": [
      "10\n",
      "13\n",
      "16\n",
      "19\n",
      "22\n",
      "25\n",
      "28\n"
     ]
    }
   ],
   "source": [
    "for i in range(10,30,3):\n",
    "    print(i)"
   ]
  },
  {
   "cell_type": "code",
   "execution_count": 15,
   "metadata": {},
   "outputs": [
    {
     "name": "stdout",
     "output_type": "stream",
     "text": [
      "45\n"
     ]
    }
   ],
   "source": [
    "sum = 0\n",
    "\n",
    "for i in range(10):\n",
    "    sum = sum + i\n",
    "print(sum)"
   ]
  },
  {
   "cell_type": "code",
   "execution_count": 16,
   "metadata": {},
   "outputs": [
    {
     "name": "stdout",
     "output_type": "stream",
     "text": [
      "python\n",
      "groovy\n",
      "java\n",
      "cpp\n",
      "c\n"
     ]
    }
   ],
   "source": [
    "Li1 = [\"python\", \"groovy\", \"java\", \"cpp\", \"c\"]\n",
    "\n",
    "for i in Li1:\n",
    "    print(i)"
   ]
  },
  {
   "cell_type": "code",
   "execution_count": 17,
   "metadata": {},
   "outputs": [
    {
     "name": "stdout",
     "output_type": "stream",
     "text": [
      "python\n",
      "groovy\n",
      "java\n",
      "cpp\n",
      "c\n"
     ]
    }
   ],
   "source": [
    "Li1 = (\"python\", \"groovy\", \"java\", \"cpp\", \"c\")\n",
    "\n",
    "for i in Li1:\n",
    "    print(i)"
   ]
  },
  {
   "cell_type": "code",
   "execution_count": 19,
   "metadata": {},
   "outputs": [
    {
     "name": "stdout",
     "output_type": "stream",
     "text": [
      "cpp\n",
      "python\n",
      "c\n",
      "java\n",
      "groovy\n"
     ]
    }
   ],
   "source": [
    "Li1 = {\"python\", \"groovy\", \"java\", \"cpp\", \"c\"}\n",
    "\n",
    "for i in Li1:\n",
    "    print(i)"
   ]
  },
  {
   "cell_type": "code",
   "execution_count": 20,
   "metadata": {},
   "outputs": [
    {
     "name": "stdout",
     "output_type": "stream",
     "text": [
      "1\n",
      "2\n",
      "3\n",
      "4\n"
     ]
    }
   ],
   "source": [
    "Li1 = {1:10, 2:20, 3:30, 4:50}\n",
    "\n",
    "for i in Li1:\n",
    "    print(i)"
   ]
  },
  {
   "cell_type": "code",
   "execution_count": 22,
   "metadata": {},
   "outputs": [
    {
     "name": "stdout",
     "output_type": "stream",
     "text": [
      "1\n",
      "2\n",
      "3\n",
      "4\n"
     ]
    }
   ],
   "source": [
    "Li1 = {1:10, 2:20, 3:30, 4:50}\n",
    "\n",
    "for i in Li1.keys():\n",
    "    print(i)"
   ]
  },
  {
   "cell_type": "code",
   "execution_count": 23,
   "metadata": {},
   "outputs": [
    {
     "name": "stdout",
     "output_type": "stream",
     "text": [
      "10\n",
      "20\n",
      "30\n",
      "50\n"
     ]
    }
   ],
   "source": [
    "Li1 = {1:10, 2:20, 3:30, 4:50}\n",
    "\n",
    "for i in Li1.values():\n",
    "    print(i)"
   ]
  },
  {
   "cell_type": "code",
   "execution_count": 24,
   "metadata": {},
   "outputs": [
    {
     "name": "stdout",
     "output_type": "stream",
     "text": [
      "1 10\n",
      "2 20\n",
      "3 30\n",
      "4 50\n"
     ]
    }
   ],
   "source": [
    "Li1 = {1:10, 2:20, 3:30, 4:50}\n",
    "\n",
    "for i in Li1:\n",
    "    print(i, Li1[i])"
   ]
  },
  {
   "cell_type": "code",
   "execution_count": 26,
   "metadata": {},
   "outputs": [
    {
     "name": "stdout",
     "output_type": "stream",
     "text": [
      "(1, 10)\n",
      "1\n",
      "10\n",
      "(2, 20)\n",
      "2\n",
      "20\n",
      "(3, 30)\n",
      "3\n",
      "30\n",
      "(4, 50)\n",
      "4\n",
      "50\n"
     ]
    }
   ],
   "source": [
    "Li1 = {1:10, 2:20, 3:30, 4:50}\n",
    "\n",
    "for i in Li1.items():\n",
    "    print(i)\n",
    "    print(i[0])\n",
    "    print(i[1])"
   ]
  },
  {
   "cell_type": "markdown",
   "metadata": {},
   "source": [
    "## while loops"
   ]
  },
  {
   "cell_type": "code",
   "execution_count": null,
   "metadata": {},
   "outputs": [],
   "source": [
    "while <boolean data type or condition>:\n",
    "    <code 1>\n",
    "    <code 2>\n",
    "    \n",
    "    <break point or condition breaker>\n",
    "    \n",
    "Entry point: condition pass (True)\n",
    "Exit point: condition fail"
   ]
  },
  {
   "cell_type": "code",
   "execution_count": 2,
   "metadata": {},
   "outputs": [
    {
     "name": "stdout",
     "output_type": "stream",
     "text": [
      "The current a value is  10\n",
      "The current a value is  11\n",
      "The current a value is  12\n",
      "The current a value is  13\n",
      "The current a value is  14\n",
      "The current a value is  15\n",
      "The current a value is  16\n",
      "The current a value is  17\n",
      "The current a value is  18\n",
      "The current a value is  19\n"
     ]
    }
   ],
   "source": [
    "a = 10\n",
    "\n",
    "while a < 20:\n",
    "    print(\"The current a value is \", a)\n",
    "    #a = a + 1"
   ]
  },
  {
   "cell_type": "code",
   "execution_count": null,
   "metadata": {},
   "outputs": [],
   "source": [
    "while True:\n",
    "    <code 1>\n",
    "    <code 2>\n",
    "    <.....>"
   ]
  },
  {
   "cell_type": "code",
   "execution_count": 3,
   "metadata": {},
   "outputs": [
    {
     "name": "stdout",
     "output_type": "stream",
     "text": [
      "The current a value is  20\n",
      "The current a value is  19\n",
      "The current a value is  18\n",
      "The current a value is  17\n",
      "The current a value is  16\n",
      "The current a value is  15\n",
      "The current a value is  14\n",
      "The current a value is  13\n",
      "The current a value is  12\n",
      "The current a value is  11\n"
     ]
    }
   ],
   "source": [
    "a = 20\n",
    "\n",
    "while a > 10:\n",
    "    print(\"The current a value is \", a)\n",
    "    a = a -1"
   ]
  },
  {
   "cell_type": "code",
   "execution_count": 5,
   "metadata": {},
   "outputs": [
    {
     "name": "stdout",
     "output_type": "stream",
     "text": [
      "10\n",
      "inside for loop\n",
      "11\n",
      "inside for loop\n",
      "12\n",
      "inside for loop\n",
      "13\n",
      "inside for loop\n",
      "14\n",
      "inside for loop\n",
      "inside for loop if condition\n",
      "16\n",
      "inside for loop\n",
      "17\n",
      "inside for loop\n",
      "inside for loop if condition\n",
      "19\n",
      "inside for loop\n",
      "20\n",
      "inside for loop\n",
      "21\n",
      "inside for loop\n",
      "22\n",
      "inside for loop\n",
      "23\n",
      "inside for loop\n",
      "24\n",
      "inside for loop\n",
      "25\n",
      "inside for loop\n",
      "26\n",
      "inside for loop\n",
      "27\n",
      "inside for loop\n",
      "28\n",
      "inside for loop\n",
      "29\n",
      "inside for loop\n"
     ]
    }
   ],
   "source": [
    "## continue break pass\n",
    "\n",
    "#continue ==> skip the loop for certain iterations \n",
    "\n",
    "for i in range(10,30):\n",
    "    if i == 15 or i == 18:\n",
    "        print(\"inside for loop if condition\")\n",
    "        continue\n",
    "    print(i)\n",
    "    print(\"inside for loop\")"
   ]
  },
  {
   "cell_type": "code",
   "execution_count": 6,
   "metadata": {},
   "outputs": [
    {
     "name": "stdout",
     "output_type": "stream",
     "text": [
      "10\n",
      "inside for loop\n",
      "11\n",
      "inside for loop\n",
      "12\n",
      "inside for loop\n",
      "13\n",
      "inside for loop\n",
      "14\n",
      "inside for loop\n",
      "inside for loop if condition\n"
     ]
    }
   ],
   "source": [
    "#break ===> for breaking complete loop after certain condition\n",
    "\n",
    "for i in range(10,30):\n",
    "    if i == 15 or i == 18:\n",
    "        print(\"inside for loop if condition\")\n",
    "        break\n",
    "    print(i)\n",
    "    print(\"inside for loop\")"
   ]
  },
  {
   "cell_type": "code",
   "execution_count": 7,
   "metadata": {},
   "outputs": [
    {
     "name": "stdout",
     "output_type": "stream",
     "text": [
      "10\n",
      "inside for loop\n",
      "11\n",
      "inside for loop\n",
      "12\n",
      "inside for loop\n",
      "13\n",
      "inside for loop\n",
      "14\n",
      "inside for loop\n",
      "inside for loop if condition\n",
      "15\n",
      "inside for loop\n",
      "16\n",
      "inside for loop\n",
      "17\n",
      "inside for loop\n",
      "inside for loop if condition\n",
      "18\n",
      "inside for loop\n",
      "19\n",
      "inside for loop\n",
      "20\n",
      "inside for loop\n",
      "21\n",
      "inside for loop\n",
      "22\n",
      "inside for loop\n",
      "23\n",
      "inside for loop\n",
      "24\n",
      "inside for loop\n",
      "25\n",
      "inside for loop\n",
      "26\n",
      "inside for loop\n",
      "27\n",
      "inside for loop\n",
      "28\n",
      "inside for loop\n",
      "29\n",
      "inside for loop\n"
     ]
    }
   ],
   "source": [
    "#pass ===> line filler \n",
    "\n",
    "for i in range(10,30):\n",
    "    if i == 15 or i == 18:\n",
    "        print(\"inside for loop if condition\")\n",
    "        pass\n",
    "    print(i)\n",
    "    print(\"inside for loop\")"
   ]
  },
  {
   "cell_type": "code",
   "execution_count": 11,
   "metadata": {},
   "outputs": [
    {
     "name": "stdout",
     "output_type": "stream",
     "text": [
      "The value of a:  11\n",
      "The value of a:  12\n",
      "The value of a:  13\n",
      "The value of a:  14\n"
     ]
    }
   ],
   "source": [
    "#while break and continue\n",
    "\n",
    "a = 10\n",
    "\n",
    "while a < 20:\n",
    "    a = a + 1\n",
    "    if a == 15:\n",
    "        break\n",
    "    print(\"The value of a: \", a)"
   ]
  },
  {
   "cell_type": "code",
   "execution_count": 16,
   "metadata": {},
   "outputs": [
    {
     "name": "stdout",
     "output_type": "stream",
     "text": [
      "n\n",
      "o\n",
      "h\n",
      "t\n",
      "y\n",
      "p\n",
      "n\n",
      "o\n",
      "h\n",
      "t\n",
      "y\n"
     ]
    }
   ],
   "source": [
    "a = \"python\"\n",
    "val = len(a)\n",
    "\n",
    "while True:\n",
    "    print(a[val-1])\n",
    "    val = val - 1 \n",
    "    if val == -5:\n",
    "        break"
   ]
  },
  {
   "cell_type": "code",
   "execution_count": 14,
   "metadata": {},
   "outputs": [
    {
     "name": "stdout",
     "output_type": "stream",
     "text": [
      "n\n",
      "o\n",
      "h\n",
      "t\n",
      "y\n",
      "p\n"
     ]
    }
   ],
   "source": [
    "for i in a[::-1]:\n",
    "    print(i)"
   ]
  },
  {
   "cell_type": "code",
   "execution_count": null,
   "metadata": {},
   "outputs": [],
   "source": [
    "a = 0\n",
    "\n",
    "while a:\n",
    "    "
   ]
  },
  {
   "cell_type": "code",
   "execution_count": 18,
   "metadata": {},
   "outputs": [
    {
     "name": "stdout",
     "output_type": "stream",
     "text": [
      "False\n",
      "failure\n"
     ]
    }
   ],
   "source": [
    "a = 0\n",
    "\n",
    "print(bool(a))\n",
    "\n",
    "if a:\n",
    "    print(\"success\")\n",
    "else:\n",
    "    print(\"failure\")"
   ]
  },
  {
   "cell_type": "code",
   "execution_count": null,
   "metadata": {},
   "outputs": [],
   "source": [
    "#while with condition\n",
    "\n",
    "#while with True\n",
    "\n",
    "#while with a variable other than False or o or boolean False output"
   ]
  },
  {
   "cell_type": "code",
   "execution_count": null,
   "metadata": {},
   "outputs": [],
   "source": [
    "For else\n",
    "While else"
   ]
  },
  {
   "cell_type": "code",
   "execution_count": 22,
   "metadata": {},
   "outputs": [
    {
     "name": "stdout",
     "output_type": "stream",
     "text": [
      "Inside for loop\n",
      "the iteration value is 10\n",
      "Inside for loop\n",
      "the iteration value is 11\n",
      "Inside for loop\n",
      "the iteration value is 12\n",
      "Inside for loop\n",
      "the iteration value is 13\n",
      "Inside for loop\n",
      "the iteration value is 14\n",
      "Inside for loop and if\n",
      "Inside for loop\n",
      "the iteration value is 16\n",
      "Inside for loop\n",
      "the iteration value is 17\n",
      "Inside for loop\n",
      "the iteration value is 18\n",
      "Inside for loop\n",
      "the iteration value is 19\n",
      "Inside for loop\n",
      "the iteration value is 20\n",
      "Inside for loop\n",
      "the iteration value is 21\n",
      "Inside for loop\n",
      "the iteration value is 22\n",
      "Inside for loop\n",
      "the iteration value is 23\n",
      "Inside for loop\n",
      "the iteration value is 24\n",
      "Inside for loop\n",
      "the iteration value is 25\n",
      "Inside for loop\n",
      "the iteration value is 26\n",
      "Inside for loop\n",
      "the iteration value is 27\n",
      "Inside for loop\n",
      "the iteration value is 28\n",
      "Inside for loop\n",
      "the iteration value is 29\n",
      "The complete iteration is done\n"
     ]
    }
   ],
   "source": [
    "for i in range(10,30):\n",
    "    if i == 15:\n",
    "        print(\"Inside for loop and if\")\n",
    "        break\n",
    "    print(\"Inside for loop\")\n",
    "    print(\"the iteration value is\", i)\n",
    "else:\n",
    "    print(\"The complete iteration is done\")"
   ]
  },
  {
   "cell_type": "code",
   "execution_count": 21,
   "metadata": {},
   "outputs": [
    {
     "name": "stdout",
     "output_type": "stream",
     "text": [
      "Inside for loop\n",
      "the iteration value is 10\n",
      "Inside for loop\n",
      "the iteration value is 11\n",
      "Inside for loop\n",
      "the iteration value is 12\n",
      "Inside for loop\n",
      "the iteration value is 13\n",
      "Inside for loop\n",
      "the iteration value is 14\n",
      "Inside for loop and if\n",
      "Inside for loop\n",
      "the iteration value is 15\n",
      "Inside for loop\n",
      "the iteration value is 16\n",
      "Inside for loop\n",
      "the iteration value is 17\n",
      "The complete iteration is done\n"
     ]
    }
   ],
   "source": [
    "for i in range(10,18):\n",
    "    if i == 15:\n",
    "        print(\"Inside for loop and if\")\n",
    "    print(\"Inside for loop\")\n",
    "    print(\"the iteration value is\", i)\n",
    "else:\n",
    "    print(\"The complete iteration is done\")"
   ]
  },
  {
   "cell_type": "code",
   "execution_count": null,
   "metadata": {},
   "outputs": [],
   "source": [
    "#break and else ===> if and else\n",
    "\n",
    "#break ===> (breaking loop) or not executing all iteration No else\n",
    "#All the iterations happened properly ==> else part will execute"
   ]
  },
  {
   "cell_type": "code",
   "execution_count": 4,
   "metadata": {},
   "outputs": [
    {
     "name": "stdout",
     "output_type": "stream",
     "text": [
      "Multiples of 3 are  [3, 6, 3, 6, 9, 12]\n",
      "Multiples of 5 are  [5, 10, 20, 40, 70]\n",
      "Multiples of 3 and 5 are  [15, 45, 30]\n",
      "No of remaining elements  4\n"
     ]
    }
   ],
   "source": [
    "#Loops program\n",
    "\n",
    "\n",
    "a = [3,4,5,6,15,45,3,2,6,9,7,8,12,10,20,30,40,70]\n",
    "\n",
    "#multiple of 3 list fizz\n",
    "##multiple of 5 list buzz\n",
    "#multiple of 15 list fizzbuzz\n",
    "#Others no action required but you need print number of elements\n",
    "\n",
    "#Multiples of 3 are [3,6,9,12]\n",
    "#Multiple of 5 are [10,20,40,70]\n",
    "#Multiples of 15 are [15,45,30]\n",
    "#No of remaining elements 7\n",
    "\n",
    "\n",
    "a = [3,4,5,6,15,45,3,2,6,9,7,8,12,10,20,30,40,70]\n",
    "\n",
    "mul_3 = []\n",
    "mul_5 = []\n",
    "mul_35 = []\n",
    "count = 0\n",
    "\n",
    "\n",
    "for ele in a:\n",
    "    if ele % 3  == 0 and ele % 5 == 0: #ele % 15\n",
    "        mul_35.append(ele)\n",
    "    elif ele % 5 == 0:\n",
    "        mul_5.append(ele)\n",
    "    elif ele % 3  == 0:\n",
    "        mul_3.append(ele)\n",
    "    else:\n",
    "        count = count + 1\n",
    "\n",
    "\n",
    "print(\"Multiples of 3 are \", mul_3)\n",
    "print(\"Multiples of 5 are \", mul_5)\n",
    "print(\"Multiples of 3 and 5 are \", mul_35)\n",
    "print(\"No of remaining elements \",count)\n",
    "\n"
   ]
  },
  {
   "cell_type": "code",
   "execution_count": 9,
   "metadata": {},
   "outputs": [
    {
     "name": "stdout",
     "output_type": "stream",
     "text": [
      "Please enter number of elements: 5\n",
      "please enter input number 1 45\n",
      "please enter input number 2 54\n",
      "please enter input number 3 67\n",
      "please enter input number 4 89\n",
      "please enter input number 5 30\n",
      "['45', '54', '67', '89', '30']\n"
     ]
    }
   ],
   "source": [
    "#List collection from user\n",
    "\n",
    "#Number of elements\n",
    "#append in to list\n",
    "\n",
    "Li = []\n",
    "\n",
    "val = int(input(\"Please enter number of elements: \"))\n",
    "\n",
    "for i in range(val):\n",
    "    actual_list_elements = input(\"please enter input number \"+str(i+1)+\" :\")\n",
    "    Li.append(actual_list_elements)\n",
    "print(Li)"
   ]
  },
  {
   "cell_type": "code",
   "execution_count": 11,
   "metadata": {},
   "outputs": [
    {
     "name": "stdout",
     "output_type": "stream",
     "text": [
      "Please enter number of elements: 5\n",
      "please enter the key 1 :1\n",
      "please enter the value 1 :ppp\n",
      "please enter the key 2 :2\n",
      "please enter the value 2 :ddd\n",
      "please enter the key 3 :3\n",
      "please enter the value 3 :hhhh\n",
      "please enter the key 4 :4\n",
      "please enter the value 4 :yyyy\n",
      "please enter the key 5 :5\n",
      "please enter the value 5 :hhhh\n",
      "{1: 'ppp', 2: 'ddd', 3: 'hhhh', 4: 'yyyy', 5: 'hhhh'}\n"
     ]
    }
   ],
   "source": [
    "#List collection from user\n",
    "\n",
    "#Number of elements\n",
    "#append in to list\n",
    "\n",
    "Li = {}\n",
    "\n",
    "val = int(input(\"Please enter number of elements: \"))\n",
    "\n",
    "for i in range(val):\n",
    "    key = int(input(\"please enter the key \"+str(i+1)+\" :\"))\n",
    "    value = input(\"please enter the value \"+str(i+1)+\" :\")\n",
    "    Li[key] = value\n",
    "\n",
    "print(Li)"
   ]
  },
  {
   "cell_type": "code",
   "execution_count": 19,
   "metadata": {},
   "outputs": [
    {
     "name": "stdout",
     "output_type": "stream",
     "text": [
      "armstrong\n"
     ]
    }
   ],
   "source": [
    "#armstrong number check\n",
    "\n",
    "#153 ==> 1 ^ 3 + 5 ^3 + 3 ^3\n",
    "\n",
    "a = 370\n",
    "sum = 0\n",
    "\n",
    "for i in str(a):\n",
    "    sum = sum + int(i) ** 3\n",
    "    \n",
    "if sum == a:\n",
    "    print(\"armstrong\")\n",
    "else:\n",
    "    print(\"Nt armstrong\")\n",
    "    \n"
   ]
  },
  {
   "cell_type": "code",
   "execution_count": null,
   "metadata": {},
   "outputs": [],
   "source": [
    "#prime number check"
   ]
  }
 ],
 "metadata": {
  "kernelspec": {
   "display_name": "Python 3",
   "language": "python",
   "name": "python3"
  },
  "language_info": {
   "codemirror_mode": {
    "name": "ipython",
    "version": 3
   },
   "file_extension": ".py",
   "mimetype": "text/x-python",
   "name": "python",
   "nbconvert_exporter": "python",
   "pygments_lexer": "ipython3",
   "version": "3.7.6"
  }
 },
 "nbformat": 4,
 "nbformat_minor": 4
}
