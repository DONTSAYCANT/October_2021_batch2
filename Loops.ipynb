{
 "cells": [
  {
   "cell_type": "code",
   "execution_count": 4,
   "metadata": {},
   "outputs": [
    {
     "name": "stdout",
     "output_type": "stream",
     "text": [
      "hello\n",
      "hello\n",
      "hello\n",
      "hello\n",
      "hello\n",
      "hello\n",
      "hello\n",
      "hello\n",
      "hello\n"
     ]
    }
   ],
   "source": [
    "#Loop:  ==> executing set of program or code for multiple attempts based on count (no of times ) or based on some condition\n",
    "\n",
    "\n",
    "print(\"hello\")\n",
    "print(\"hello\")\n",
    "print(\"hello\")\n",
    "print(\"hello\")\n",
    "print(\"hello\")\n",
    "print(\"hello\")\n",
    "print(\"hello\")\n",
    "print(\"hello\")\n",
    "print(\"hello\")\n"
   ]
  },
  {
   "cell_type": "code",
   "execution_count": 2,
   "metadata": {},
   "outputs": [
    {
     "name": "stdout",
     "output_type": "stream",
     "text": [
      "Hello\n",
      "Hello\n",
      "Hello\n",
      "Hello\n",
      "Hello\n",
      "Hello\n",
      "Hello\n",
      "Hello\n",
      "Hello\n",
      "Hello\n"
     ]
    }
   ],
   "source": [
    "for i in range(10):\n",
    "    print(\"Hello\")"
   ]
  },
  {
   "cell_type": "code",
   "execution_count": null,
   "metadata": {},
   "outputs": [],
   "source": [
    "#For :\n",
    "\n",
    "    For with range\n",
    "    For with Data structure \n",
    "\n",
    "#while loop:\n",
    "\n",
    "    While with condition\n",
    "    \n",
    "Continue pass break\n",
    "For else\n",
    "While else\n",
    "\n"
   ]
  },
  {
   "cell_type": "code",
   "execution_count": 10,
   "metadata": {},
   "outputs": [
    {
     "name": "stdout",
     "output_type": "stream",
     "text": [
      "[10, 11, 12, 13, 14, 15, 16, 17, 18, 19, 20, 21, 22, 23, 24, 25, 26, 27, 28, 29, 30, 31, 32, 33, 34, 35, 36, 37, 38, 39, 40, 41, 42, 43, 44, 45, 46, 47, 48, 49]\n",
      "[0, 1, 2, 3, 4, 5, 6, 7, 8, 9]\n",
      "[1000, 1013, 1026, 1039, 1052, 1065, 1078, 1091, 1104, 1117, 1130, 1143, 1156, 1169, 1182, 1195, 1208, 1221, 1234, 1247, 1260, 1273, 1286, 1299, 1312, 1325, 1338, 1351, 1364, 1377, 1390, 1403, 1416, 1429, 1442, 1455, 1468, 1481, 1494]\n",
      "[100, 99, 98, 97, 96, 95, 94, 93, 92, 91, 90, 89, 88, 87, 86, 85, 84, 83, 82, 81, 80, 79, 78, 77, 76, 75, 74, 73, 72, 71, 70, 69, 68, 67, 66, 65, 64, 63, 62, 61, 60, 59, 58, 57, 56, 55, 54, 53, 52, 51]\n",
      "[200, 192, 184, 176, 168, 160, 152, 144, 136, 128, 120, 112, 104, 96, 88, 80, 72, 64, 56]\n"
     ]
    }
   ],
   "source": [
    "#Range (from (including), to (excluding), interval (optional))\n",
    "\n",
    "print(list(range(10,50)))\n",
    "\n",
    "print(list(range(10)))\n",
    "\n",
    "print(list(range(1000,1500,13)))\n",
    "\n",
    "print(list(range(100,50,-1)))\n",
    "\n",
    "print(list(range(200, 50, -8)))\n"
   ]
  },
  {
   "cell_type": "markdown",
   "metadata": {},
   "source": [
    "## For loop"
   ]
  },
  {
   "cell_type": "code",
   "execution_count": 13,
   "metadata": {},
   "outputs": [
    {
     "name": "stdout",
     "output_type": "stream",
     "text": [
      "0\n",
      "1\n",
      "2\n",
      "3\n",
      "4\n",
      "5\n",
      "6\n",
      "7\n",
      "8\n",
      "9\n"
     ]
    }
   ],
   "source": [
    "for i in range(10):\n",
    "    print(i)\n",
    "    \n",
    "#for temp_variable in Data_strcture or collection:\n",
    "#    #temp_variable"
   ]
  },
  {
   "cell_type": "code",
   "execution_count": 14,
   "metadata": {},
   "outputs": [
    {
     "name": "stdout",
     "output_type": "stream",
     "text": [
      "10\n",
      "13\n",
      "16\n",
      "19\n",
      "22\n",
      "25\n",
      "28\n"
     ]
    }
   ],
   "source": [
    "for i in range(10,30,3):\n",
    "    print(i)"
   ]
  },
  {
   "cell_type": "code",
   "execution_count": 15,
   "metadata": {},
   "outputs": [
    {
     "name": "stdout",
     "output_type": "stream",
     "text": [
      "45\n"
     ]
    }
   ],
   "source": [
    "sum = 0\n",
    "\n",
    "for i in range(10):\n",
    "    sum = sum + i\n",
    "print(sum)"
   ]
  },
  {
   "cell_type": "code",
   "execution_count": 16,
   "metadata": {},
   "outputs": [
    {
     "name": "stdout",
     "output_type": "stream",
     "text": [
      "python\n",
      "groovy\n",
      "java\n",
      "cpp\n",
      "c\n"
     ]
    }
   ],
   "source": [
    "Li1 = [\"python\", \"groovy\", \"java\", \"cpp\", \"c\"]\n",
    "\n",
    "for i in Li1:\n",
    "    print(i)"
   ]
  },
  {
   "cell_type": "code",
   "execution_count": 17,
   "metadata": {},
   "outputs": [
    {
     "name": "stdout",
     "output_type": "stream",
     "text": [
      "python\n",
      "groovy\n",
      "java\n",
      "cpp\n",
      "c\n"
     ]
    }
   ],
   "source": [
    "Li1 = (\"python\", \"groovy\", \"java\", \"cpp\", \"c\")\n",
    "\n",
    "for i in Li1:\n",
    "    print(i)"
   ]
  },
  {
   "cell_type": "code",
   "execution_count": 19,
   "metadata": {},
   "outputs": [
    {
     "name": "stdout",
     "output_type": "stream",
     "text": [
      "cpp\n",
      "python\n",
      "c\n",
      "java\n",
      "groovy\n"
     ]
    }
   ],
   "source": [
    "Li1 = {\"python\", \"groovy\", \"java\", \"cpp\", \"c\"}\n",
    "\n",
    "for i in Li1:\n",
    "    print(i)"
   ]
  },
  {
   "cell_type": "code",
   "execution_count": 20,
   "metadata": {},
   "outputs": [
    {
     "name": "stdout",
     "output_type": "stream",
     "text": [
      "1\n",
      "2\n",
      "3\n",
      "4\n"
     ]
    }
   ],
   "source": [
    "Li1 = {1:10, 2:20, 3:30, 4:50}\n",
    "\n",
    "for i in Li1:\n",
    "    print(i)"
   ]
  },
  {
   "cell_type": "code",
   "execution_count": 22,
   "metadata": {},
   "outputs": [
    {
     "name": "stdout",
     "output_type": "stream",
     "text": [
      "1\n",
      "2\n",
      "3\n",
      "4\n"
     ]
    }
   ],
   "source": [
    "Li1 = {1:10, 2:20, 3:30, 4:50}\n",
    "\n",
    "for i in Li1.keys():\n",
    "    print(i)"
   ]
  },
  {
   "cell_type": "code",
   "execution_count": 23,
   "metadata": {},
   "outputs": [
    {
     "name": "stdout",
     "output_type": "stream",
     "text": [
      "10\n",
      "20\n",
      "30\n",
      "50\n"
     ]
    }
   ],
   "source": [
    "Li1 = {1:10, 2:20, 3:30, 4:50}\n",
    "\n",
    "for i in Li1.values():\n",
    "    print(i)"
   ]
  },
  {
   "cell_type": "code",
   "execution_count": 24,
   "metadata": {},
   "outputs": [
    {
     "name": "stdout",
     "output_type": "stream",
     "text": [
      "1 10\n",
      "2 20\n",
      "3 30\n",
      "4 50\n"
     ]
    }
   ],
   "source": [
    "Li1 = {1:10, 2:20, 3:30, 4:50}\n",
    "\n",
    "for i in Li1:\n",
    "    print(i, Li1[i])"
   ]
  },
  {
   "cell_type": "code",
   "execution_count": 26,
   "metadata": {},
   "outputs": [
    {
     "name": "stdout",
     "output_type": "stream",
     "text": [
      "(1, 10)\n",
      "1\n",
      "10\n",
      "(2, 20)\n",
      "2\n",
      "20\n",
      "(3, 30)\n",
      "3\n",
      "30\n",
      "(4, 50)\n",
      "4\n",
      "50\n"
     ]
    }
   ],
   "source": [
    "Li1 = {1:10, 2:20, 3:30, 4:50}\n",
    "\n",
    "for i in Li1.items():\n",
    "    print(i)\n",
    "    print(i[0])\n",
    "    print(i[1])"
   ]
  },
  {
   "cell_type": "code",
   "execution_count": null,
   "metadata": {},
   "outputs": [],
   "source": []
  }
 ],
 "metadata": {
  "kernelspec": {
   "display_name": "Python 3",
   "language": "python",
   "name": "python3"
  },
  "language_info": {
   "codemirror_mode": {
    "name": "ipython",
    "version": 3
   },
   "file_extension": ".py",
   "mimetype": "text/x-python",
   "name": "python",
   "nbconvert_exporter": "python",
   "pygments_lexer": "ipython3",
   "version": "3.7.6"
  }
 },
 "nbformat": 4,
 "nbformat_minor": 4
}
