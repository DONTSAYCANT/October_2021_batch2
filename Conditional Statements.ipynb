{
 "cells": [
  {
   "cell_type": "code",
   "execution_count": null,
   "metadata": {},
   "outputs": [],
   "source": [
    "#Indentation\n",
    "#conditions \n",
    "#boolean output\n",
    "#logical operations"
   ]
  },
  {
   "cell_type": "code",
   "execution_count": 2,
   "metadata": {},
   "outputs": [
    {
     "name": "stdout",
     "output_type": "stream",
     "text": [
      "False\n",
      "False\n",
      "False\n",
      "True\n",
      "False\n",
      "True\n",
      "False\n",
      "True\n",
      "False\n",
      "False\n"
     ]
    }
   ],
   "source": [
    "#comparison operators in python\n",
    "\n",
    "a = 10\n",
    "b = 20\n",
    "\n",
    "print(a >= 20)\n",
    "print(b <= 10)\n",
    "print(a >= b)\n",
    "print(a < b)\n",
    "print(b < a)\n",
    "print(a != b)\n",
    "print(a > b)\n",
    "print(b > a)\n",
    "print(a == b)\n",
    "print(\"10\" == 10)\n",
    "\n",
    "# == and = \n",
    "# == ==> comparison operator in python\n",
    "# = ==> assignment operator"
   ]
  },
  {
   "cell_type": "code",
   "execution_count": 3,
   "metadata": {},
   "outputs": [
    {
     "name": "stdout",
     "output_type": "stream",
     "text": [
      "False\n",
      "True\n",
      "True\n",
      "True\n"
     ]
    }
   ],
   "source": [
    "#member ship operator\n",
    "\n",
    "#in\n",
    "\n",
    "print(\"i\" in \"python\")\n",
    "print(\"h\" in \"python\")\n",
    "print(\"an\" in \"it's an animal\")\n",
    "print(\"value\" in [\"key\", \"value\", \"pair\", \"means\", \"dictionary\"])"
   ]
  },
  {
   "cell_type": "code",
   "execution_count": 4,
   "metadata": {},
   "outputs": [
    {
     "name": "stdout",
     "output_type": "stream",
     "text": [
      "True\n"
     ]
    }
   ],
   "source": [
    "print(\"i\" not in \"python\")"
   ]
  },
  {
   "cell_type": "code",
   "execution_count": 6,
   "metadata": {},
   "outputs": [
    {
     "name": "stdout",
     "output_type": "stream",
     "text": [
      "True\n",
      "True\n",
      "False\n",
      "True\n"
     ]
    }
   ],
   "source": [
    "#and or not\n",
    "\n",
    "\n",
    "a = 10\n",
    "b = 20\n",
    "\n",
    "print(a == 10 and b == 20)\n",
    "print(a == 10 or b == 30)\n",
    "print(a == 10 and b == 30)\n",
    "print(a == 10 or b == 20)"
   ]
  },
  {
   "cell_type": "code",
   "execution_count": null,
   "metadata": {},
   "outputs": [],
   "source": [
    "#Indentation\n",
    "\n",
    "#Scope \n",
    "\n",
    "#Not possible in python\n",
    "if x > y {\n",
    "    #code 1;\n",
    "    #code 2;\n",
    "    #code 3;\n",
    "}\n",
    "#code4\n",
    "#code5"
   ]
  },
  {
   "cell_type": "code",
   "execution_count": null,
   "metadata": {},
   "outputs": [],
   "source": [
    "if x > y:\n",
    "    #code1\n",
    "    #code2\n",
    "    #code3\n",
    "#code4\n",
    "#code5\n",
    "\n",
    "#four spaces or single tab"
   ]
  },
  {
   "cell_type": "code",
   "execution_count": 15,
   "metadata": {},
   "outputs": [
    {
     "name": "stdout",
     "output_type": "stream",
     "text": [
      "True\n",
      "I am main program or usual program\n",
      " I will execute indeopendent of any condition\n"
     ]
    }
   ],
   "source": [
    "#If condition\n",
    "\n",
    "age = 18\n",
    "\n",
    "print(age == 18)\n",
    "\n",
    "if age != 18:\n",
    "    print(\"your age is \", age)\n",
    "    print(\"you are eligible for voting\")\n",
    "    print(\"end of if condition\")\n",
    "print(\"I am main program or usual program\")\n",
    "print(\" I will execute indeopendent of any condition\")\n",
    "\n",
    "\n",
    "\n",
    "#if <boolean data type>:\n",
    "    #line1\n",
    "    #line2\n",
    "    "
   ]
  },
  {
   "cell_type": "code",
   "execution_count": 11,
   "metadata": {},
   "outputs": [
    {
     "name": "stdout",
     "output_type": "stream",
     "text": [
      "True\n",
      "False\n",
      "inside if condition\n",
      "outside if condition\n"
     ]
    }
   ],
   "source": [
    "a = 10\n",
    "print(bool(a))\n",
    "print(bool(0))\n",
    "\n",
    "if a:\n",
    "    print(\"inside if condition\")\n",
    "print(\"outside if condition\")"
   ]
  },
  {
   "cell_type": "code",
   "execution_count": null,
   "metadata": {},
   "outputs": [],
   "source": [
    "if True:\n",
    "    print(\"Hello\")"
   ]
  },
  {
   "cell_type": "code",
   "execution_count": 16,
   "metadata": {},
   "outputs": [
    {
     "name": "stdout",
     "output_type": "stream",
     "text": [
      "Hello\n"
     ]
    }
   ],
   "source": [
    "print(\"Hello\")"
   ]
  },
  {
   "cell_type": "code",
   "execution_count": null,
   "metadata": {},
   "outputs": [],
   "source": [
    "#if\n",
    "#if else\n",
    "#if elif elif elif elif n times\n",
    "#if elif elif elif n time else\n",
    "#"
   ]
  },
  {
   "cell_type": "code",
   "execution_count": 20,
   "metadata": {},
   "outputs": [
    {
     "name": "stdout",
     "output_type": "stream",
     "text": [
      "True\n",
      "Since your age is less than 18, you're not eligible for voting\n",
      "I am main program or usual program\n",
      " I will execute indeopendent of any condition\n"
     ]
    }
   ],
   "source": [
    "age =10\n",
    "\n",
    "print(20 >= 18)\n",
    "\n",
    "if age >= 18:\n",
    "    print(\"your age is \", age)\n",
    "    print(\"you are eligible for voting\")\n",
    "    print(\"end of if condition\")\n",
    "else:\n",
    "    print(\"Since your age is less than 18, you're not eligible for voting\")\n",
    "print(\"I am main program or usual program\")\n",
    "print(\" I will execute indeopendent of any condition\")\n"
   ]
  },
  {
   "cell_type": "code",
   "execution_count": 24,
   "metadata": {},
   "outputs": [
    {
     "ename": "SyntaxError",
     "evalue": "invalid syntax (<ipython-input-24-d08f6d1b03c8>, line 10)",
     "output_type": "error",
     "traceback": [
      "\u001b[1;36m  File \u001b[1;32m\"<ipython-input-24-d08f6d1b03c8>\"\u001b[1;36m, line \u001b[1;32m10\u001b[0m\n\u001b[1;33m    else:\u001b[0m\n\u001b[1;37m       ^\u001b[0m\n\u001b[1;31mSyntaxError\u001b[0m\u001b[1;31m:\u001b[0m invalid syntax\n"
     ]
    }
   ],
   "source": [
    "mark = 55\n",
    "\n",
    "if mark > 90:\n",
    "    print(\"First class\")\n",
    "elif mark > 80:\n",
    "    print(\"Second class\")\n",
    "elif mark > 70:\n",
    "    print(\"Third class class\")\n",
    "else:\n",
    "    print(\"pass with some marks\")\n",
    "print(\"I am main program or usual program\")\n",
    "print(\" I will execute indeopendent of any condition\")"
   ]
  },
  {
   "cell_type": "code",
   "execution_count": 25,
   "metadata": {},
   "outputs": [
    {
     "name": "stdout",
     "output_type": "stream",
     "text": [
      "pass with some marks\n",
      "I am main program or usual program\n",
      " I will execute indeopendent of any condition\n"
     ]
    }
   ],
   "source": [
    "mark = 80\n",
    "\n",
    "#& | \n",
    "\n",
    "if mark > 90 and mark < 100:\n",
    "    print(\"First class\")\n",
    "elif mark > 80 and mark < 90:\n",
    "    print(\"Second class\")\n",
    "elif mark > 70 and mark <80:\n",
    "    print(\"Third class class\")\n",
    "else:\n",
    "    print(\"pass with some marks\")\n",
    "print(\"I am main program or usual program\")\n",
    "print(\" I will execute indeopendent of any condition\")"
   ]
  },
  {
   "cell_type": "code",
   "execution_count": 26,
   "metadata": {},
   "outputs": [
    {
     "name": "stdout",
     "output_type": "stream",
     "text": [
      "a is available\n"
     ]
    }
   ],
   "source": [
    "a = 10\n",
    "\n",
    "if a in [10,20,30,40]:\n",
    "    print(\"a is available\")\n",
    "else:\n",
    "    print(\"It's not available\")"
   ]
  },
  {
   "cell_type": "code",
   "execution_count": null,
   "metadata": {},
   "outputs": [],
   "source": []
  }
 ],
 "metadata": {
  "kernelspec": {
   "display_name": "Python 3",
   "language": "python",
   "name": "python3"
  },
  "language_info": {
   "codemirror_mode": {
    "name": "ipython",
    "version": 3
   },
   "file_extension": ".py",
   "mimetype": "text/x-python",
   "name": "python",
   "nbconvert_exporter": "python",
   "pygments_lexer": "ipython3",
   "version": "3.7.6"
  }
 },
 "nbformat": 4,
 "nbformat_minor": 4
}
