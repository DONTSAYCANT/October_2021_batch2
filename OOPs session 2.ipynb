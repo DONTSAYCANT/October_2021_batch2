{
 "cells": [
  {
   "cell_type": "code",
   "execution_count": 18,
   "metadata": {},
   "outputs": [],
   "source": [
    "#Constructor (__init__)\n",
    "#destructor\n",
    "#class method vs static mehod vs normal method\n",
    "#inheritance\n",
    "#overrding\n",
    "#Diamond shape probelm\n",
    "#abstract class abstract method\n",
    "#ploymophism\n",
    "\n",
    "#encapsulation"
   ]
  },
  {
   "cell_type": "code",
   "execution_count": null,
   "metadata": {},
   "outputs": [],
   "source": [
    "#OOP\n",
    "#class and object\n",
    "#class attribute & object attribute\n",
    "\n"
   ]
  },
  {
   "cell_type": "code",
   "execution_count": 12,
   "metadata": {},
   "outputs": [
    {
     "name": "stdout",
     "output_type": "stream",
     "text": [
      "room number from Group function 312\n",
      "Name of the student: raj Group name is Commerce group\n",
      "room number from Group function 313\n",
      "Name of the student: Ram Group name is Biology group\n",
      "room number from Group function 314\n",
      "Name of the student: abdul Group name is Computer science group\n"
     ]
    }
   ],
   "source": [
    "class Admission:\n",
    "    #class attribute\n",
    "    school_name = \"kvs high school\"\n",
    "    city = \"Erode\"\n",
    "    floor_no = 200\n",
    "    \n",
    "    def __init__(self, name, mark, room_no): #constructor\n",
    "        #object Attribute\n",
    "        self.name = name\n",
    "        self.mark = mark\n",
    "        self.room_no = room_no\n",
    "    \n",
    "    def Hostel(self):\n",
    "        print(\"room number from hostel function\", self.room_no)\n",
    "        return \"Hostel is allocated\"\n",
    "    \n",
    "    def Group(self):\n",
    "        print(\"room number from Group function\", self.room_no)\n",
    "        if self.mark > 430:\n",
    "            return \"Name of the student: \"+self.name +\" Group name is \" + \"Biology group\"\n",
    "        elif self.mark > 400:\n",
    "            return \"Name of the student: \"+self.name +\" Group name is \" + \"Computer science group\"\n",
    "        elif self.mark > 300:\n",
    "            return \"Name of the student: \"+self.name +\" Group name is \" + \"Commerce group\"\n",
    "    \n",
    "    \n",
    "student1 = Admission(\"raj\", 350, 312)\n",
    "print(student1.Group())\n",
    "\n",
    "student2 = Admission(\"Ram\", 450, 313)\n",
    "print(student2.Group())\n",
    "\n",
    "student3 = Admission(\"abdul\", 412, 314)\n",
    "print(student3.Group())"
   ]
  },
  {
   "cell_type": "code",
   "execution_count": 8,
   "metadata": {},
   "outputs": [
    {
     "name": "stdout",
     "output_type": "stream",
     "text": [
      "312\n",
      "Hostel is allocated\n",
      "room_members_count function 312\n",
      "None\n"
     ]
    },
    {
     "ename": "AttributeError",
     "evalue": "'Admission' object has no attribute 'room_no'",
     "output_type": "error",
     "traceback": [
      "\u001b[1;31m---------------------------------------------------------------------------\u001b[0m",
      "\u001b[1;31mAttributeError\u001b[0m                            Traceback (most recent call last)",
      "\u001b[1;32m<ipython-input-8-a0c91342957d>\u001b[0m in \u001b[0;36m<module>\u001b[1;34m\u001b[0m\n\u001b[0;32m     25\u001b[0m \u001b[0mprint\u001b[0m\u001b[1;33m(\u001b[0m\u001b[0mstudent1\u001b[0m\u001b[1;33m.\u001b[0m\u001b[0mroom_members_count\u001b[0m\u001b[1;33m(\u001b[0m\u001b[1;33m)\u001b[0m\u001b[1;33m)\u001b[0m\u001b[1;33m\u001b[0m\u001b[1;33m\u001b[0m\u001b[0m\n\u001b[0;32m     26\u001b[0m \u001b[1;33m\u001b[0m\u001b[0m\n\u001b[1;32m---> 27\u001b[1;33m \u001b[0mprint\u001b[0m\u001b[1;33m(\u001b[0m\u001b[0mstudent2\u001b[0m\u001b[1;33m.\u001b[0m\u001b[0mroom_members_count\u001b[0m\u001b[1;33m(\u001b[0m\u001b[1;33m)\u001b[0m\u001b[1;33m)\u001b[0m\u001b[1;33m\u001b[0m\u001b[1;33m\u001b[0m\u001b[0m\n\u001b[0m",
      "\u001b[1;32m<ipython-input-8-a0c91342957d>\u001b[0m in \u001b[0;36mroom_members_count\u001b[1;34m(self)\u001b[0m\n\u001b[0;32m     12\u001b[0m \u001b[1;33m\u001b[0m\u001b[0m\n\u001b[0;32m     13\u001b[0m     \u001b[1;32mdef\u001b[0m \u001b[0mroom_members_count\u001b[0m\u001b[1;33m(\u001b[0m\u001b[0mself\u001b[0m\u001b[1;33m)\u001b[0m\u001b[1;33m:\u001b[0m\u001b[1;33m\u001b[0m\u001b[1;33m\u001b[0m\u001b[0m\n\u001b[1;32m---> 14\u001b[1;33m         \u001b[0mprint\u001b[0m\u001b[1;33m(\u001b[0m\u001b[1;34m\"room_members_count function\"\u001b[0m\u001b[1;33m,\u001b[0m \u001b[0mself\u001b[0m\u001b[1;33m.\u001b[0m\u001b[0mroom_no\u001b[0m\u001b[1;33m)\u001b[0m\u001b[1;33m\u001b[0m\u001b[1;33m\u001b[0m\u001b[0m\n\u001b[0m\u001b[0;32m     15\u001b[0m \u001b[1;33m\u001b[0m\u001b[0m\n\u001b[0;32m     16\u001b[0m \u001b[1;33m\u001b[0m\u001b[0m\n",
      "\u001b[1;31mAttributeError\u001b[0m: 'Admission' object has no attribute 'room_no'"
     ]
    }
   ],
   "source": [
    "class Admission:\n",
    "    school_name = \"kvs high school\"\n",
    "    city = \"Erode\"    \n",
    "    def Hostel(self, room_no):\n",
    "        print(room_no)\n",
    "        self.room_no = room_no\n",
    "        return \"Hostel is allocated\"\n",
    "    def Group(self):\n",
    "        return \"Group name is \"    \n",
    "    def room_members_count(self):\n",
    "        print(\"room_members_count function\", self.room_no)\n",
    "\n",
    "student1 = Admission()\n",
    "student2 = Admission()\n",
    "student3 = Admission()\n",
    "\n",
    "print(student1.Hostel(312))\n",
    "print(student1.room_members_count())\n",
    "print(student2.room_members_count())"
   ]
  },
  {
   "cell_type": "code",
   "execution_count": 17,
   "metadata": {},
   "outputs": [
    {
     "name": "stdout",
     "output_type": "stream",
     "text": [
      "function from cls class and func method\n",
      "Complted\n",
      "destructor is getting called\n",
      "None\n",
      "destructor is getting called\n"
     ]
    },
    {
     "ename": "NameError",
     "evalue": "name 'cls_obj1' is not defined",
     "output_type": "error",
     "traceback": [
      "\u001b[1;31m---------------------------------------------------------------------------\u001b[0m",
      "\u001b[1;31mNameError\u001b[0m                                 Traceback (most recent call last)",
      "\u001b[1;32m<ipython-input-17-4a973e7fb10c>\u001b[0m in \u001b[0;36m<module>\u001b[1;34m\u001b[0m\n\u001b[0;32m     12\u001b[0m \u001b[1;33m\u001b[0m\u001b[0m\n\u001b[0;32m     13\u001b[0m \u001b[1;32mdel\u001b[0m \u001b[0mcls_obj1\u001b[0m \u001b[1;31m#removing object\u001b[0m\u001b[1;33m\u001b[0m\u001b[1;33m\u001b[0m\u001b[0m\n\u001b[1;32m---> 14\u001b[1;33m \u001b[0mprint\u001b[0m\u001b[1;33m(\u001b[0m\u001b[0mcls_obj1\u001b[0m\u001b[1;33m.\u001b[0m\u001b[0mfunc\u001b[0m\u001b[1;33m(\u001b[0m\u001b[1;33m)\u001b[0m\u001b[1;33m)\u001b[0m\u001b[1;33m\u001b[0m\u001b[1;33m\u001b[0m\u001b[0m\n\u001b[0m\u001b[0;32m     15\u001b[0m \u001b[1;33m\u001b[0m\u001b[0m\n\u001b[0;32m     16\u001b[0m \u001b[1;33m\u001b[0m\u001b[0m\n",
      "\u001b[1;31mNameError\u001b[0m: name 'cls_obj1' is not defined"
     ]
    }
   ],
   "source": [
    "class cls:\n",
    "    def func(self):\n",
    "        print(\"function from cls class and func method\")\n",
    "        return \"Complted\"\n",
    "    \n",
    "    def __del__(self): #destructor automaticalled when removing object ref\n",
    "        print(\"destructor is getting called\")\n",
    "    \n",
    "cls_obj1 = cls()\n",
    "print(cls_obj1.func())\n",
    "print(cls_obj1.__del__())\n",
    "\n",
    "del cls_obj1 #removing object\n",
    "print(cls_obj1.func())\n",
    "\n",
    "\n"
   ]
  },
  {
   "cell_type": "code",
   "execution_count": null,
   "metadata": {},
   "outputs": [],
   "source": [
    "#class method vs static mehod vs normal method"
   ]
  },
  {
   "cell_type": "code",
   "execution_count": 22,
   "metadata": {},
   "outputs": [
    {
     "name": "stdout",
     "output_type": "stream",
     "text": [
      "provide your feed back\n",
      "Thanks for the feedback\n"
     ]
    }
   ],
   "source": [
    "#static method:\n",
    "\n",
    "class Admission:\n",
    "    #class attribute\n",
    "    school_name = \"kvs high school\"\n",
    "    city = \"Erode\"\n",
    "    floor_no = 200\n",
    "    \n",
    "    def __init__(self, name, mark, room_no): #constructor\n",
    "        #object Attribute\n",
    "        self.name = name\n",
    "        self.mark = mark\n",
    "        self.room_no = room_no\n",
    "    \n",
    "    def Hostel(self):\n",
    "        print(\"room number from hostel function\", self.room_no)\n",
    "        return \"Hostel is allocated\"\n",
    "    \n",
    "    def Group(self):\n",
    "        print(\"room number from Group function\", self.room_no)\n",
    "        if self.mark > 430:\n",
    "            return \"Name of the student: \"+self.name +\" Group name is \" + \"Biology group\"\n",
    "        elif self.mark > 400:\n",
    "            return \"Name of the student: \"+self.name +\" Group name is \" + \"Computer science group\"\n",
    "        elif self.mark > 300:\n",
    "            return \"Name of the student: \"+self.name +\" Group name is \" + \"Commerce group\"\n",
    "\n",
    "    @staticmethod\n",
    "    def feed_back_admission():\n",
    "        print(\"provide your feed back\")\n",
    "        return \"Thanks for the feedback\"\n",
    "    \n",
    "    \n",
    "student1 = Admission(\"raj\", 350, 312)\n",
    "print(student1.feed_back_admission())\n",
    "student2 = Admission(\"Ram\", 450, 313)\n",
    "\n",
    "student3 = Admission(\"abdul\", 412, 314)\n"
   ]
  },
  {
   "cell_type": "code",
   "execution_count": 26,
   "metadata": {},
   "outputs": [
    {
     "name": "stdout",
     "output_type": "stream",
     "text": [
      "kvs high school\n",
      "provide your feed back\n",
      "Thanks for the feedback\n"
     ]
    }
   ],
   "source": [
    "#class method\n",
    "\n",
    "class Admission:\n",
    "    #class attribute\n",
    "    school_name = \"kvs high school\"\n",
    "    city = \"Erode\"\n",
    "    floor_no = 200\n",
    "    \n",
    "    def __init__(self, name, mark, room_no): #constructor\n",
    "        #object Attribute\n",
    "        self.name = name\n",
    "        self.mark = mark\n",
    "        self.room_no = room_no\n",
    "    \n",
    "    def Hostel(self):\n",
    "        print(\"room number from hostel function\", self.room_no)\n",
    "        return \"Hostel is allocated\"\n",
    "    \n",
    "    def Group(self):\n",
    "        print(\"room number from Group function\", self.room_no)\n",
    "        if self.mark > 430:\n",
    "            return \"Name of the student: \"+self.name +\" Group name is \" + \"Biology group\"\n",
    "        elif self.mark > 400:\n",
    "            return \"Name of the student: \"+self.name +\" Group name is \" + \"Computer science group\"\n",
    "        elif self.mark > 300:\n",
    "            return \"Name of the student: \"+self.name +\" Group name is \" + \"Commerce group\"\n",
    "\n",
    "    @classmethod\n",
    "    def feed_back_admission(cls):\n",
    "        print(cls.school_name) #class attribute\n",
    "        #print(cls.mark) #object attribute\n",
    "        print(\"provide your feed back\")\n",
    "        return \"Thanks for the feedback\"\n",
    "    \n",
    "    \n",
    "student1 = Admission(\"raj\", 350, 312)\n",
    "print(student1.feed_back_admission())\n",
    "student2 = Admission(\"Ram\", 450, 313)\n",
    "\n",
    "student3 = Admission(\"abdul\", 412, 314)\n"
   ]
  },
  {
   "cell_type": "code",
   "execution_count": null,
   "metadata": {},
   "outputs": [],
   "source": [
    "#Inheritance\n",
    "\n",
    "#Single\n",
    "#multiple\n",
    "#Hierarchical\n",
    "#Multilevel\n",
    "#Hybrid\n",
    "\n",
    "\n",
    "#Reuse the class features"
   ]
  },
  {
   "cell_type": "code",
   "execution_count": 32,
   "metadata": {},
   "outputs": [
    {
     "name": "stdout",
     "output_type": "stream",
     "text": [
      "method1 from parent\n",
      "rrrr\n",
      "rrr@gmail.com\n",
      "method2 from child\n",
      "cccc\n",
      "cccc@gmail.com\n",
      "method1 from parent\n"
     ]
    }
   ],
   "source": [
    "#single inheritance\n",
    "\n",
    "class parent:\n",
    "    var1 = \"rrrr\"\n",
    "    var2 = \"rrr@gmail.com\"\n",
    "    \n",
    "    def method1(self):\n",
    "        return \"method1 from parent\"\n",
    "    \n",
    "class child(parent):\n",
    "    var3 = \"cccc\"\n",
    "    var4 = \"cccc@gmail.com\"\n",
    "    \n",
    "    def method2(self):\n",
    "        return \"method2 from child\"\n",
    "    \n",
    "\n",
    "obj1 = parent()\n",
    "print(obj1.method1())\n",
    "print(obj1.var1)\n",
    "print(obj1.var2)\n",
    "\n",
    "obj2 = child()\n",
    "print(obj2.method2())\n",
    "print(obj2.var3)\n",
    "print(obj2.var4)\n",
    "print(obj2.method1())"
   ]
  },
  {
   "cell_type": "code",
   "execution_count": null,
   "metadata": {},
   "outputs": [],
   "source": [
    "#https://www.geeksforgeeks.org/inheritance-in-python/"
   ]
  },
  {
   "cell_type": "code",
   "execution_count": 6,
   "metadata": {},
   "outputs": [
    {
     "name": "stdout",
     "output_type": "stream",
     "text": [
      "object1 call method1 from parent1\n",
      "object2 call method2 from parent2\n",
      "object3 call method3 from child\n",
      "object3 call method2 from parent2\n",
      "object3 call method1 from parent1\n"
     ]
    }
   ],
   "source": [
    "#Multiple inheritance\n",
    "\n",
    "#for single child multiple parent\n",
    "#for single derived class ... multiple base classes\n",
    "\n",
    "\n",
    "class parent1:\n",
    "    var1 = \"rrrr\"\n",
    "    var2 = \"rrr@gmail.com\"\n",
    "    \n",
    "    def method1(self):\n",
    "        return \"method1 from parent1\"\n",
    "    \n",
    "class parent2:\n",
    "    var3 = \"bbbb\"\n",
    "    var4 = \"bbb@gmail.com\"\n",
    "    \n",
    "    def method2(self):\n",
    "        return \"method2 from parent2\"\n",
    "    \n",
    "class child(parent1, parent2):\n",
    "    var5 = \"cccc\"\n",
    "    var6 = \"cccc@gmail.com\"\n",
    "    \n",
    "    def method3(self):\n",
    "        return \"method3 from child\"\n",
    "    \n",
    "    \n",
    "obj1 = parent1()\n",
    "print(\"object1 call\",obj1.method1())\n",
    "\n",
    "obj2 = parent2()\n",
    "print(\"object2 call\",obj2.method2())\n",
    "\n",
    "obj3 = child()\n",
    "print(\"object3 call\",obj3.method3())\n",
    "print(\"object3 call\",obj3.method2())\n",
    "print(\"object3 call\",obj3.method1())\n",
    "\n",
    "    \n",
    "    "
   ]
  },
  {
   "cell_type": "code",
   "execution_count": 8,
   "metadata": {},
   "outputs": [
    {
     "name": "stdout",
     "output_type": "stream",
     "text": [
      "object1 call method1 from parent\n",
      "object2 call method2 from child1\n",
      "object2 call method1 from parent\n",
      "object3 call method3 from child2\n",
      "object3 call method1 from parent\n"
     ]
    }
   ],
   "source": [
    "#Hierarchical Inheritance\n",
    "\n",
    "#Single parent class for multiple children\n",
    "\n",
    "\n",
    "class parent:\n",
    "    var1 = \"rrrr\"\n",
    "    var2 = \"rrr@gmail.com\"\n",
    "    \n",
    "    def method1(self):\n",
    "        return \"method1 from parent\"\n",
    "    \n",
    "class child1(parent):\n",
    "    var3 = \"bbbb\"\n",
    "    var4 = \"bbb@gmail.com\"\n",
    "    \n",
    "    def method2(self):\n",
    "        return \"method2 from child1\"\n",
    "    \n",
    "class child2(parent):\n",
    "    var5 = \"cccc\"\n",
    "    var6 = \"cccc@gmail.com\"\n",
    "    \n",
    "    def method3(self):\n",
    "        return \"method3 from child2\"\n",
    "    \n",
    "    \n",
    "obj1 = parent()\n",
    "print(\"object1 call\",obj1.method1())\n",
    "\n",
    "obj2 = child1()\n",
    "print(\"object2 call\",obj2.method2())\n",
    "print(\"object2 call\",obj2.method1())\n",
    "\n",
    "obj3 = child2()\n",
    "print(\"object3 call\",obj3.method3())\n",
    "print(\"object3 call\",obj3.method1())\n",
    "\n"
   ]
  },
  {
   "cell_type": "code",
   "execution_count": 10,
   "metadata": {},
   "outputs": [
    {
     "name": "stdout",
     "output_type": "stream",
     "text": [
      "object1 call method1 from grand parent\n",
      "object2 call method2 from parent\n",
      "object2 call method1 from grand parent\n",
      "object3 call method3 from child\n",
      "object3 call method2 from parent\n",
      "object3 call method1 from grand parent\n"
     ]
    }
   ],
   "source": [
    "#multi level inheritance\n",
    "\n",
    "#grandparent ===> parent  ===> child\n",
    "\n",
    "class grandparent:\n",
    "    var1 = \"rrrr\"\n",
    "    var2 = \"rrr@gmail.com\"\n",
    "    \n",
    "    def method1(self):\n",
    "        return \"method1 from grand parent\"\n",
    "    \n",
    "class parent(grandparent):\n",
    "    var3 = \"bbbb\"\n",
    "    var4 = \"bbb@gmail.com\"\n",
    "    \n",
    "    def method2(self):\n",
    "        return \"method2 from parent\"\n",
    "    \n",
    "class child(parent):\n",
    "    var5 = \"cccc\"\n",
    "    var6 = \"cccc@gmail.com\"\n",
    "    \n",
    "    def method3(self):\n",
    "        return \"method3 from child\"\n",
    "    \n",
    "    \n",
    "obj1 = grandparent()\n",
    "print(\"object1 call\",obj1.method1())\n",
    "\n",
    "obj2 = parent()\n",
    "print(\"object2 call\",obj2.method2())\n",
    "print(\"object2 call\",obj2.method1())\n",
    "\n",
    "\n",
    "obj3 = child()\n",
    "print(\"object3 call\",obj3.method3())\n",
    "print(\"object3 call\",obj3.method2())\n",
    "print(\"object3 call\",obj3.method1())\n"
   ]
  },
  {
   "cell_type": "code",
   "execution_count": null,
   "metadata": {},
   "outputs": [],
   "source": [
    "#hybrid\n",
    "\n",
    "#Exercise\n",
    "\n",
    "#combination more than two types"
   ]
  },
  {
   "cell_type": "code",
   "execution_count": 12,
   "metadata": {},
   "outputs": [
    {
     "name": "stdout",
     "output_type": "stream",
     "text": [
      "method1 from child\n"
     ]
    }
   ],
   "source": [
    "#method overriding\n",
    "\n",
    "class parent:\n",
    "    var1 = \"rrrr\"\n",
    "    var2 = \"rrr@gmail.com\"\n",
    "    \n",
    "    def method1(self):\n",
    "        return \"method1 from parent\"\n",
    "    \n",
    "class child(parent):\n",
    "    var3 = \"cccc\"\n",
    "    var4 = \"cccc@gmail.com\"\n",
    "    \n",
    "    def method1(self):\n",
    "        return \"method1 from child\"\n",
    "\n",
    "obj1 = child()\n",
    "print(obj1.method1()) #child will get priority over parent whenever same method available in parent and child\n"
   ]
  },
  {
   "cell_type": "code",
   "execution_count": null,
   "metadata": {},
   "outputs": [],
   "source": [
    "class cls1:\n",
    "    def method1(self):\n",
    "        return \"method1 from cls1\"\n",
    "\n",
    "class cls2:\n",
    "    def method1(self):\n",
    "        return \"method1 from cls2\"\n",
    "    \n",
    "class cls3:\n",
    "    def method1(self):\n",
    "        return \"method1 from cls3\"\n",
    "    \n",
    "class cls4:\n",
    "    def method1(self):\n",
    "        return \"method1 from cls4\"\n",
    "    \n",
    "obj1 = cls1()\n",
    "print(obj1.method1())\n",
    "\n",
    "obj2 = cls2()\n",
    "print(obj2.method1())\n",
    "\n",
    "obj3 = cls3()\n",
    "print(obj3.method1())\n",
    "\n",
    "obj4 = cls4()\n",
    "print(obj4.method1())"
   ]
  },
  {
   "cell_type": "code",
   "execution_count": 14,
   "metadata": {},
   "outputs": [
    {
     "name": "stdout",
     "output_type": "stream",
     "text": [
      "method1 from cls4\n"
     ]
    }
   ],
   "source": [
    "##Diamond shape probelm\n",
    "#https://www.geeksforgeeks.org/multiple-inheritance-in-python/\n",
    "\n",
    "#overriding\n",
    "\n",
    "class cls1:\n",
    "    def method1(self):\n",
    "        return \"method1 from cls1\"\n",
    "\n",
    "class cls2(cls1):\n",
    "    def method1(self):\n",
    "        return \"method1 from cls2\"\n",
    "    \n",
    "class cls3(cls1):\n",
    "    def method1(self):\n",
    "        return \"method1 from cls3\"\n",
    "    \n",
    "class cls4(cls2, cls3):\n",
    "    def method1(self):\n",
    "        return \"method1 from cls4\"\n",
    "    \n",
    "\n",
    "obj4 = cls4()\n",
    "print(obj4.method1())"
   ]
  },
  {
   "cell_type": "code",
   "execution_count": 16,
   "metadata": {},
   "outputs": [
    {
     "name": "stdout",
     "output_type": "stream",
     "text": [
      "method1 from cls3\n"
     ]
    }
   ],
   "source": [
    "##Diamond shape probelm\n",
    "\n",
    "class cls1:\n",
    "    def method1(self):\n",
    "        return \"method1 from cls1\"\n",
    "\n",
    "class cls2(cls1):\n",
    "    pass\n",
    "    \n",
    "class cls3(cls1):\n",
    "    def method1(self):\n",
    "        return \"method1 from cls3\"\n",
    "    \n",
    "class cls4(cls2, cls3):\n",
    "    pass\n",
    "    \n",
    "\n",
    "obj4 = cls4()\n",
    "print(obj4.method1())"
   ]
  },
  {
   "cell_type": "code",
   "execution_count": 30,
   "metadata": {},
   "outputs": [
    {
     "name": "stdout",
     "output_type": "stream",
     "text": [
      "feature 1 from new feature\n"
     ]
    }
   ],
   "source": [
    "## Abstract class and Abstract method\n",
    "#https://www.geeksforgeeks.org/abstract-classes-in-python/\n",
    "\n",
    "\n",
    "from abc import ABC,abstractmethod\n",
    "\n",
    "class base_feature(ABC):\n",
    "    \n",
    "    @abstractmethod\n",
    "    def feature1(self):\n",
    "        pass\n",
    "    \n",
    "\n",
    "class new_feature(base_feature):\n",
    "    \n",
    "    def feature1(self):\n",
    "        return \"feature 1 from new feature\"\n",
    "    \n",
    "    def feature3(self):\n",
    "        return \"feature3 from new feature\"\n",
    "    \n",
    "    \n",
    "\n",
    "obj3 = new_feature()\n",
    "print(obj3.feature1())"
   ]
  },
  {
   "cell_type": "code",
   "execution_count": 31,
   "metadata": {},
   "outputs": [
    {
     "name": "stdout",
     "output_type": "stream",
     "text": [
      "5\n",
      "6\n",
      "3\n"
     ]
    }
   ],
   "source": [
    "#polymorphism\n",
    "\n",
    "#multiple forms\n",
    "#https://www.geeksforgeeks.org/polymorphism-in-python/\n",
    "\n",
    "#polymorhism\n",
    "\n",
    "#inbuilt function\n",
    "\n",
    "print(len([3,4,5,6,1]))\n",
    "print(len(\"python\"))\n",
    "print(len({1:\"hi\", 2:\"hello\", 3:\"welcome\"}))\n"
   ]
  },
  {
   "cell_type": "code",
   "execution_count": 32,
   "metadata": {},
   "outputs": [
    {
     "name": "stdout",
     "output_type": "stream",
     "text": [
      "60\n",
      "160\n"
     ]
    }
   ],
   "source": [
    "#user def function\n",
    "\n",
    "def example(x, y , z = 100):\n",
    "    return x + y + z\n",
    "\n",
    "print(example(10,20,30))\n",
    "print(example(5,55))"
   ]
  },
  {
   "cell_type": "code",
   "execution_count": 36,
   "metadata": {},
   "outputs": [
    {
     "name": "stdout",
     "output_type": "stream",
     "text": [
      "This is new featuere from intro method\n",
      "This is from base1 base fea\n",
      "This os from base2 new feature\n"
     ]
    }
   ],
   "source": [
    "#class and object\n",
    "\n",
    "class base_fea:\n",
    "    def intro(self):\n",
    "        return \"This is base feature from intro method\"\n",
    "    \n",
    "    def base1(self):\n",
    "        return \"This is from base1 base fea\"\n",
    "\n",
    "class new_feature(base_fea):\n",
    "    def intro(self):\n",
    "        return \"This is new featuere from intro method\"\n",
    "    \n",
    "    def base2(self):\n",
    "        return \"This os from base2 new feature\"\n",
    "    \n",
    "\n",
    "obj1 = new_feature()\n",
    "print(obj1.intro())\n",
    "print(obj1.base1())\n",
    "print(obj1.base2())\n"
   ]
  },
  {
   "cell_type": "code",
   "execution_count": null,
   "metadata": {},
   "outputs": [],
   "source": []
  },
  {
   "cell_type": "code",
   "execution_count": null,
   "metadata": {},
   "outputs": [],
   "source": []
  },
  {
   "cell_type": "code",
   "execution_count": null,
   "metadata": {},
   "outputs": [],
   "source": []
  },
  {
   "cell_type": "code",
   "execution_count": null,
   "metadata": {},
   "outputs": [],
   "source": []
  },
  {
   "cell_type": "code",
   "execution_count": null,
   "metadata": {},
   "outputs": [],
   "source": []
  },
  {
   "cell_type": "code",
   "execution_count": null,
   "metadata": {},
   "outputs": [],
   "source": []
  },
  {
   "cell_type": "code",
   "execution_count": null,
   "metadata": {},
   "outputs": [],
   "source": []
  }
 ],
 "metadata": {
  "kernelspec": {
   "display_name": "Python 3",
   "language": "python",
   "name": "python3"
  },
  "language_info": {
   "codemirror_mode": {
    "name": "ipython",
    "version": 3
   },
   "file_extension": ".py",
   "mimetype": "text/x-python",
   "name": "python",
   "nbconvert_exporter": "python",
   "pygments_lexer": "ipython3",
   "version": "3.7.6"
  }
 },
 "nbformat": 4,
 "nbformat_minor": 4
}
