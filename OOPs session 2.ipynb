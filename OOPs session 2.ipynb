{
 "cells": [
  {
   "cell_type": "code",
   "execution_count": 18,
   "metadata": {},
   "outputs": [],
   "source": [
    "#Constructor (__init__)\n",
    "#destructor\n",
    "#class method vs static mehod vs normal method\n",
    "\n",
    "#inheritance\n",
    "#overrding\n",
    "#Diamond shape probelm\n",
    "#abstract class abstract method\n",
    "#encapsulation\n",
    "#ploymophism"
   ]
  },
  {
   "cell_type": "code",
   "execution_count": null,
   "metadata": {},
   "outputs": [],
   "source": [
    "#OOP\n",
    "#class and object\n",
    "#class attribute & object attribute\n",
    "\n"
   ]
  },
  {
   "cell_type": "code",
   "execution_count": 12,
   "metadata": {},
   "outputs": [
    {
     "name": "stdout",
     "output_type": "stream",
     "text": [
      "room number from Group function 312\n",
      "Name of the student: raj Group name is Commerce group\n",
      "room number from Group function 313\n",
      "Name of the student: Ram Group name is Biology group\n",
      "room number from Group function 314\n",
      "Name of the student: abdul Group name is Computer science group\n"
     ]
    }
   ],
   "source": [
    "class Admission:\n",
    "    #class attribute\n",
    "    school_name = \"kvs high school\"\n",
    "    city = \"Erode\"\n",
    "    floor_no = 200\n",
    "    \n",
    "    def __init__(self, name, mark, room_no): #constructor\n",
    "        #object Attribute\n",
    "        self.name = name\n",
    "        self.mark = mark\n",
    "        self.room_no = room_no\n",
    "    \n",
    "    def Hostel(self):\n",
    "        print(\"room number from hostel function\", self.room_no)\n",
    "        return \"Hostel is allocated\"\n",
    "    \n",
    "    def Group(self):\n",
    "        print(\"room number from Group function\", self.room_no)\n",
    "        if self.mark > 430:\n",
    "            return \"Name of the student: \"+self.name +\" Group name is \" + \"Biology group\"\n",
    "        elif self.mark > 400:\n",
    "            return \"Name of the student: \"+self.name +\" Group name is \" + \"Computer science group\"\n",
    "        elif self.mark > 300:\n",
    "            return \"Name of the student: \"+self.name +\" Group name is \" + \"Commerce group\"\n",
    "    \n",
    "    \n",
    "student1 = Admission(\"raj\", 350, 312)\n",
    "print(student1.Group())\n",
    "\n",
    "student2 = Admission(\"Ram\", 450, 313)\n",
    "print(student2.Group())\n",
    "\n",
    "student3 = Admission(\"abdul\", 412, 314)\n",
    "print(student3.Group())"
   ]
  },
  {
   "cell_type": "code",
   "execution_count": 8,
   "metadata": {},
   "outputs": [
    {
     "name": "stdout",
     "output_type": "stream",
     "text": [
      "312\n",
      "Hostel is allocated\n",
      "room_members_count function 312\n",
      "None\n"
     ]
    },
    {
     "ename": "AttributeError",
     "evalue": "'Admission' object has no attribute 'room_no'",
     "output_type": "error",
     "traceback": [
      "\u001b[1;31m---------------------------------------------------------------------------\u001b[0m",
      "\u001b[1;31mAttributeError\u001b[0m                            Traceback (most recent call last)",
      "\u001b[1;32m<ipython-input-8-a0c91342957d>\u001b[0m in \u001b[0;36m<module>\u001b[1;34m\u001b[0m\n\u001b[0;32m     25\u001b[0m \u001b[0mprint\u001b[0m\u001b[1;33m(\u001b[0m\u001b[0mstudent1\u001b[0m\u001b[1;33m.\u001b[0m\u001b[0mroom_members_count\u001b[0m\u001b[1;33m(\u001b[0m\u001b[1;33m)\u001b[0m\u001b[1;33m)\u001b[0m\u001b[1;33m\u001b[0m\u001b[1;33m\u001b[0m\u001b[0m\n\u001b[0;32m     26\u001b[0m \u001b[1;33m\u001b[0m\u001b[0m\n\u001b[1;32m---> 27\u001b[1;33m \u001b[0mprint\u001b[0m\u001b[1;33m(\u001b[0m\u001b[0mstudent2\u001b[0m\u001b[1;33m.\u001b[0m\u001b[0mroom_members_count\u001b[0m\u001b[1;33m(\u001b[0m\u001b[1;33m)\u001b[0m\u001b[1;33m)\u001b[0m\u001b[1;33m\u001b[0m\u001b[1;33m\u001b[0m\u001b[0m\n\u001b[0m",
      "\u001b[1;32m<ipython-input-8-a0c91342957d>\u001b[0m in \u001b[0;36mroom_members_count\u001b[1;34m(self)\u001b[0m\n\u001b[0;32m     12\u001b[0m \u001b[1;33m\u001b[0m\u001b[0m\n\u001b[0;32m     13\u001b[0m     \u001b[1;32mdef\u001b[0m \u001b[0mroom_members_count\u001b[0m\u001b[1;33m(\u001b[0m\u001b[0mself\u001b[0m\u001b[1;33m)\u001b[0m\u001b[1;33m:\u001b[0m\u001b[1;33m\u001b[0m\u001b[1;33m\u001b[0m\u001b[0m\n\u001b[1;32m---> 14\u001b[1;33m         \u001b[0mprint\u001b[0m\u001b[1;33m(\u001b[0m\u001b[1;34m\"room_members_count function\"\u001b[0m\u001b[1;33m,\u001b[0m \u001b[0mself\u001b[0m\u001b[1;33m.\u001b[0m\u001b[0mroom_no\u001b[0m\u001b[1;33m)\u001b[0m\u001b[1;33m\u001b[0m\u001b[1;33m\u001b[0m\u001b[0m\n\u001b[0m\u001b[0;32m     15\u001b[0m \u001b[1;33m\u001b[0m\u001b[0m\n\u001b[0;32m     16\u001b[0m \u001b[1;33m\u001b[0m\u001b[0m\n",
      "\u001b[1;31mAttributeError\u001b[0m: 'Admission' object has no attribute 'room_no'"
     ]
    }
   ],
   "source": [
    "class Admission:\n",
    "    school_name = \"kvs high school\"\n",
    "    city = \"Erode\"    \n",
    "    def Hostel(self, room_no):\n",
    "        print(room_no)\n",
    "        self.room_no = room_no\n",
    "        return \"Hostel is allocated\"\n",
    "    def Group(self):\n",
    "        return \"Group name is \"    \n",
    "    def room_members_count(self):\n",
    "        print(\"room_members_count function\", self.room_no)\n",
    "\n",
    "student1 = Admission()\n",
    "student2 = Admission()\n",
    "student3 = Admission()\n",
    "\n",
    "print(student1.Hostel(312))\n",
    "print(student1.room_members_count())\n",
    "print(student2.room_members_count())"
   ]
  },
  {
   "cell_type": "code",
   "execution_count": 17,
   "metadata": {},
   "outputs": [
    {
     "name": "stdout",
     "output_type": "stream",
     "text": [
      "function from cls class and func method\n",
      "Complted\n",
      "destructor is getting called\n",
      "None\n",
      "destructor is getting called\n"
     ]
    },
    {
     "ename": "NameError",
     "evalue": "name 'cls_obj1' is not defined",
     "output_type": "error",
     "traceback": [
      "\u001b[1;31m---------------------------------------------------------------------------\u001b[0m",
      "\u001b[1;31mNameError\u001b[0m                                 Traceback (most recent call last)",
      "\u001b[1;32m<ipython-input-17-4a973e7fb10c>\u001b[0m in \u001b[0;36m<module>\u001b[1;34m\u001b[0m\n\u001b[0;32m     12\u001b[0m \u001b[1;33m\u001b[0m\u001b[0m\n\u001b[0;32m     13\u001b[0m \u001b[1;32mdel\u001b[0m \u001b[0mcls_obj1\u001b[0m \u001b[1;31m#removing object\u001b[0m\u001b[1;33m\u001b[0m\u001b[1;33m\u001b[0m\u001b[0m\n\u001b[1;32m---> 14\u001b[1;33m \u001b[0mprint\u001b[0m\u001b[1;33m(\u001b[0m\u001b[0mcls_obj1\u001b[0m\u001b[1;33m.\u001b[0m\u001b[0mfunc\u001b[0m\u001b[1;33m(\u001b[0m\u001b[1;33m)\u001b[0m\u001b[1;33m)\u001b[0m\u001b[1;33m\u001b[0m\u001b[1;33m\u001b[0m\u001b[0m\n\u001b[0m\u001b[0;32m     15\u001b[0m \u001b[1;33m\u001b[0m\u001b[0m\n\u001b[0;32m     16\u001b[0m \u001b[1;33m\u001b[0m\u001b[0m\n",
      "\u001b[1;31mNameError\u001b[0m: name 'cls_obj1' is not defined"
     ]
    }
   ],
   "source": [
    "class cls:\n",
    "    def func(self):\n",
    "        print(\"function from cls class and func method\")\n",
    "        return \"Complted\"\n",
    "    \n",
    "    def __del__(self): #destructor automaticalled when removing object ref\n",
    "        print(\"destructor is getting called\")\n",
    "    \n",
    "cls_obj1 = cls()\n",
    "print(cls_obj1.func())\n",
    "print(cls_obj1.__del__())\n",
    "\n",
    "del cls_obj1 #removing object\n",
    "print(cls_obj1.func())\n",
    "\n",
    "\n"
   ]
  },
  {
   "cell_type": "code",
   "execution_count": null,
   "metadata": {},
   "outputs": [],
   "source": [
    "#class method vs static mehod vs normal method"
   ]
  },
  {
   "cell_type": "code",
   "execution_count": 22,
   "metadata": {},
   "outputs": [
    {
     "name": "stdout",
     "output_type": "stream",
     "text": [
      "provide your feed back\n",
      "Thanks for the feedback\n"
     ]
    }
   ],
   "source": [
    "#static method:\n",
    "\n",
    "class Admission:\n",
    "    #class attribute\n",
    "    school_name = \"kvs high school\"\n",
    "    city = \"Erode\"\n",
    "    floor_no = 200\n",
    "    \n",
    "    def __init__(self, name, mark, room_no): #constructor\n",
    "        #object Attribute\n",
    "        self.name = name\n",
    "        self.mark = mark\n",
    "        self.room_no = room_no\n",
    "    \n",
    "    def Hostel(self):\n",
    "        print(\"room number from hostel function\", self.room_no)\n",
    "        return \"Hostel is allocated\"\n",
    "    \n",
    "    def Group(self):\n",
    "        print(\"room number from Group function\", self.room_no)\n",
    "        if self.mark > 430:\n",
    "            return \"Name of the student: \"+self.name +\" Group name is \" + \"Biology group\"\n",
    "        elif self.mark > 400:\n",
    "            return \"Name of the student: \"+self.name +\" Group name is \" + \"Computer science group\"\n",
    "        elif self.mark > 300:\n",
    "            return \"Name of the student: \"+self.name +\" Group name is \" + \"Commerce group\"\n",
    "\n",
    "    @staticmethod\n",
    "    def feed_back_admission():\n",
    "        print(\"provide your feed back\")\n",
    "        return \"Thanks for the feedback\"\n",
    "    \n",
    "    \n",
    "student1 = Admission(\"raj\", 350, 312)\n",
    "print(student1.feed_back_admission())\n",
    "student2 = Admission(\"Ram\", 450, 313)\n",
    "\n",
    "student3 = Admission(\"abdul\", 412, 314)\n"
   ]
  },
  {
   "cell_type": "code",
   "execution_count": 26,
   "metadata": {},
   "outputs": [
    {
     "name": "stdout",
     "output_type": "stream",
     "text": [
      "kvs high school\n",
      "provide your feed back\n",
      "Thanks for the feedback\n"
     ]
    }
   ],
   "source": [
    "#class method\n",
    "\n",
    "class Admission:\n",
    "    #class attribute\n",
    "    school_name = \"kvs high school\"\n",
    "    city = \"Erode\"\n",
    "    floor_no = 200\n",
    "    \n",
    "    def __init__(self, name, mark, room_no): #constructor\n",
    "        #object Attribute\n",
    "        self.name = name\n",
    "        self.mark = mark\n",
    "        self.room_no = room_no\n",
    "    \n",
    "    def Hostel(self):\n",
    "        print(\"room number from hostel function\", self.room_no)\n",
    "        return \"Hostel is allocated\"\n",
    "    \n",
    "    def Group(self):\n",
    "        print(\"room number from Group function\", self.room_no)\n",
    "        if self.mark > 430:\n",
    "            return \"Name of the student: \"+self.name +\" Group name is \" + \"Biology group\"\n",
    "        elif self.mark > 400:\n",
    "            return \"Name of the student: \"+self.name +\" Group name is \" + \"Computer science group\"\n",
    "        elif self.mark > 300:\n",
    "            return \"Name of the student: \"+self.name +\" Group name is \" + \"Commerce group\"\n",
    "\n",
    "    @classmethod\n",
    "    def feed_back_admission(cls):\n",
    "        print(cls.school_name) #class attribute\n",
    "        #print(cls.mark) #object attribute\n",
    "        print(\"provide your feed back\")\n",
    "        return \"Thanks for the feedback\"\n",
    "    \n",
    "    \n",
    "student1 = Admission(\"raj\", 350, 312)\n",
    "print(student1.feed_back_admission())\n",
    "student2 = Admission(\"Ram\", 450, 313)\n",
    "\n",
    "student3 = Admission(\"abdul\", 412, 314)\n"
   ]
  },
  {
   "cell_type": "code",
   "execution_count": null,
   "metadata": {},
   "outputs": [],
   "source": [
    "#Inheritance\n",
    "\n",
    "#Single\n",
    "#multiple\n",
    "#Hierarchical\n",
    "#Multilevel\n",
    "#Hybrid\n",
    "\n",
    "\n",
    "#Reuse the class features"
   ]
  },
  {
   "cell_type": "code",
   "execution_count": 32,
   "metadata": {},
   "outputs": [
    {
     "name": "stdout",
     "output_type": "stream",
     "text": [
      "method1 from parent\n",
      "rrrr\n",
      "rrr@gmail.com\n",
      "method2 from child\n",
      "cccc\n",
      "cccc@gmail.com\n",
      "method1 from parent\n"
     ]
    }
   ],
   "source": [
    "#single inheritance\n",
    "\n",
    "class parent:\n",
    "    var1 = \"rrrr\"\n",
    "    var2 = \"rrr@gmail.com\"\n",
    "    \n",
    "    def method1(self):\n",
    "        return \"method1 from parent\"\n",
    "    \n",
    "class child(parent):\n",
    "    var3 = \"cccc\"\n",
    "    var4 = \"cccc@gmail.com\"\n",
    "    \n",
    "    def method2(self):\n",
    "        return \"method2 from child\"\n",
    "    \n",
    "\n",
    "obj1 = parent()\n",
    "print(obj1.method1())\n",
    "print(obj1.var1)\n",
    "print(obj1.var2)\n",
    "\n",
    "obj2 = child()\n",
    "print(obj2.method2())\n",
    "print(obj2.var3)\n",
    "print(obj2.var4)\n",
    "print(obj2.method1())"
   ]
  },
  {
   "cell_type": "code",
   "execution_count": null,
   "metadata": {},
   "outputs": [],
   "source": [
    "#https://www.geeksforgeeks.org/inheritance-in-python/"
   ]
  }
 ],
 "metadata": {
  "kernelspec": {
   "display_name": "Python 3",
   "language": "python",
   "name": "python3"
  },
  "language_info": {
   "codemirror_mode": {
    "name": "ipython",
    "version": 3
   },
   "file_extension": ".py",
   "mimetype": "text/x-python",
   "name": "python",
   "nbconvert_exporter": "python",
   "pygments_lexer": "ipython3",
   "version": "3.7.6"
  }
 },
 "nbformat": 4,
 "nbformat_minor": 4
}
