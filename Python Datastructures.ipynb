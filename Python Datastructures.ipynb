{
 "cells": [
  {
   "cell_type": "code",
   "execution_count": 1,
   "metadata": {},
   "outputs": [
    {
     "name": "stdout",
     "output_type": "stream",
     "text": [
      "['str', 'val', 'python']\n"
     ]
    }
   ],
   "source": [
    "#what is it ?\n",
    "\n",
    "#List tuple set Dictionary\n",
    "\n",
    "\n",
    "#Storing multiple values\n",
    "\n",
    "a = \"str\"\n",
    "b = \"val\"\n",
    "c = \"python\"\n",
    "\n",
    "d = [\"str\", \"val\", \"python\"]\n",
    "\n",
    "print(d)\n"
   ]
  },
  {
   "cell_type": "code",
   "execution_count": null,
   "metadata": {},
   "outputs": [],
   "source": [
    "##List tuple set Dictionary Difference\n",
    "\n",
    "\n",
    "#List:\n",
    "\n",
    "[]\n",
    "Ordered/Indexed  datastrucut\n",
    "Mutable\n",
    "+ operator supports (concatenatiomn)\n",
    "\n",
    "#tuple\n",
    "\n",
    "()\n",
    "Ordered/Indexed  datastrucut\n",
    "immutable data structures\n",
    "+ operator supports (concatenatiomn)\n",
    "\n",
    "#set\n",
    "\n",
    "{}\n",
    "No indexing\n",
    "No indexing or ordering\n",
    "\n",
    "#Dictionary\n",
    "{:}\n",
    "No indexing or ordering"
   ]
  },
  {
   "cell_type": "code",
   "execution_count": 2,
   "metadata": {},
   "outputs": [
    {
     "name": "stdout",
     "output_type": "stream",
     "text": [
      "[1, 2, 3, True, 'python', 10.99]\n"
     ]
    }
   ],
   "source": [
    "#heterogenous \n",
    "\n",
    "a = [1,2,3,True,\"python\",10.99]\n",
    "print(a)"
   ]
  },
  {
   "cell_type": "code",
   "execution_count": 5,
   "metadata": {},
   "outputs": [
    {
     "name": "stdout",
     "output_type": "stream",
     "text": [
      "[]\n",
      "<class 'list'>\n",
      "[]\n",
      "<class 'list'>\n"
     ]
    }
   ],
   "source": [
    "a = []\n",
    "print(a)\n",
    "print(type(a))\n",
    "\n",
    "b = list()\n",
    "print(b)\n",
    "print(type(b))"
   ]
  },
  {
   "cell_type": "code",
   "execution_count": 6,
   "metadata": {},
   "outputs": [
    {
     "name": "stdout",
     "output_type": "stream",
     "text": [
      "(1, 2, 3, 4)\n",
      "<class 'tuple'>\n",
      "()\n",
      "<class 'tuple'>\n"
     ]
    }
   ],
   "source": [
    "a = (1,2,3,4)\n",
    "print(a)\n",
    "print(type(a))\n",
    "\n",
    "b = tuple()\n",
    "print(b)\n",
    "print(type(b))"
   ]
  },
  {
   "cell_type": "code",
   "execution_count": 7,
   "metadata": {},
   "outputs": [
    {
     "name": "stdout",
     "output_type": "stream",
     "text": [
      "{1, 2, 3, 4, 5}\n",
      "<class 'set'>\n"
     ]
    }
   ],
   "source": [
    "a = {1,2,3,4,5}\n",
    "print(a)\n",
    "print(type(a))\n"
   ]
  },
  {
   "cell_type": "code",
   "execution_count": 9,
   "metadata": {},
   "outputs": [
    {
     "name": "stdout",
     "output_type": "stream",
     "text": [
      "{1: 'val1', 2: 'val2', 3: 'val3'}\n",
      "<class 'dict'>\n"
     ]
    }
   ],
   "source": [
    "a = {1:\"val1\", 2:\"val2\", 3:\"val3\"}\n",
    "print(a)\n",
    "print(type(a))"
   ]
  },
  {
   "cell_type": "code",
   "execution_count": 13,
   "metadata": {
    "scrolled": true
   },
   "outputs": [
    {
     "name": "stdout",
     "output_type": "stream",
     "text": [
      "{}\n",
      "<class 'dict'>\n",
      "{1, 10}\n",
      "<class 'set'>\n",
      "{}\n",
      "<class 'dict'>\n"
     ]
    }
   ],
   "source": [
    "#how to create empty set and empty dictionary\n",
    "\n",
    "a = {}\n",
    "\n",
    "print(a)\n",
    "print(type(a))\n",
    "\n",
    "a = set()\n",
    "a.add(1)\n",
    "a.add(10)\n",
    "\n",
    "print(a)\n",
    "print(type(a))\n",
    "\n",
    "b = dict()\n",
    "print(b)\n",
    "print(type(b))"
   ]
  },
  {
   "cell_type": "markdown",
   "metadata": {},
   "source": [
    "## List methods"
   ]
  },
  {
   "cell_type": "code",
   "execution_count": 20,
   "metadata": {},
   "outputs": [
    {
     "name": "stdout",
     "output_type": "stream",
     "text": [
      "[]\n",
      "<class 'list'>\n"
     ]
    }
   ],
   "source": [
    "a = []\n",
    "\n",
    "print(a)\n",
    "print(type(a))"
   ]
  },
  {
   "cell_type": "code",
   "execution_count": 22,
   "metadata": {},
   "outputs": [
    {
     "name": "stdout",
     "output_type": "stream",
     "text": [
      "[10]\n",
      "[10, 20]\n",
      "[10, 20, 'hello']\n",
      "[10, 20, 'hello']\n"
     ]
    }
   ],
   "source": [
    "#append\n",
    "a = []\n",
    "\n",
    "\n",
    "a.append(10) #adding in to last place of list\n",
    "print(a)\n",
    "a.append(20)\n",
    "print(a)\n",
    "a.append(\"hello\")\n",
    "print(a)\n",
    "\n",
    "print(a)"
   ]
  },
  {
   "cell_type": "code",
   "execution_count": 24,
   "metadata": {},
   "outputs": [
    {
     "name": "stdout",
     "output_type": "stream",
     "text": [
      "[10, 11, 5, 12, 13, 14, 15]\n"
     ]
    }
   ],
   "source": [
    "#insert\n",
    "\n",
    "a = [10,11,12,13,14,15]\n",
    "\n",
    "a.insert(2,5) #position/index, value\n",
    "print(a)"
   ]
  },
  {
   "cell_type": "code",
   "execution_count": 27,
   "metadata": {},
   "outputs": [
    {
     "name": "stdout",
     "output_type": "stream",
     "text": [
      "[10, 11, 12, 13, 14]\n",
      "[10, 11, 13, 14]\n"
     ]
    }
   ],
   "source": [
    "#pop\n",
    "\n",
    "a = [10,11,12,13,14,15]\n",
    "\n",
    "a.pop() #remove element in position -1 from list\n",
    "print(a)\n",
    "a.pop(2) #remove specific value in index argumemntn\n",
    "print(a) "
   ]
  },
  {
   "cell_type": "code",
   "execution_count": 1,
   "metadata": {},
   "outputs": [
    {
     "name": "stdout",
     "output_type": "stream",
     "text": [
      "[10, 11, 12, 13, 15, 14]\n"
     ]
    }
   ],
   "source": [
    "#remove\n",
    "\n",
    "a = [10,11,12,13,14,15,14]\n",
    "\n",
    "a.remove(14)\n",
    "\n",
    "print(a)"
   ]
  },
  {
   "cell_type": "code",
   "execution_count": 30,
   "metadata": {},
   "outputs": [
    {
     "name": "stdout",
     "output_type": "stream",
     "text": [
      "[1, 2, 3, 4, 10, 14, 15]\n",
      "[1, 2, 3, 4, 1, 2, 3, 4, 1, 2, 3, 4, 1, 2, 3, 4, 1, 2, 3, 4]\n"
     ]
    }
   ],
   "source": [
    "#concatenation\n",
    "\n",
    "a = [1,2,3,4]\n",
    "\n",
    "print(a + [10,14,15])\n",
    "\n",
    "print(a*5)"
   ]
  },
  {
   "cell_type": "code",
   "execution_count": 32,
   "metadata": {},
   "outputs": [
    {
     "name": "stdout",
     "output_type": "stream",
     "text": [
      "12\n",
      "15\n"
     ]
    }
   ],
   "source": [
    "a = [10,11,12,13,14,15]\n",
    "\n",
    "print(a[2])\n",
    "print(a[-1])\n",
    "\n",
    "a = [\"python\", \"groovy\", \"hello\"]"
   ]
  },
  {
   "cell_type": "code",
   "execution_count": 4,
   "metadata": {},
   "outputs": [
    {
     "name": "stdout",
     "output_type": "stream",
     "text": [
      "['aaa', 'bbb', 'python', 'dddd']\n"
     ]
    }
   ],
   "source": [
    "#replacement / assignment\n",
    "\n",
    "Li1 = [\"aaa\", \"bbb\", \"ccc\", \"dddd\"]\n",
    "\n",
    "Li1[2] = \"python\"\n",
    "\n",
    "print(Li1)\n",
    "\n"
   ]
  },
  {
   "cell_type": "code",
   "execution_count": 2,
   "metadata": {},
   "outputs": [
    {
     "ename": "TypeError",
     "evalue": "'str' object does not support item assignment",
     "output_type": "error",
     "traceback": [
      "\u001b[1;31m---------------------------------------------------------------------------\u001b[0m",
      "\u001b[1;31mTypeError\u001b[0m                                 Traceback (most recent call last)",
      "\u001b[1;32m<ipython-input-2-94033a12e244>\u001b[0m in \u001b[0;36m<module>\u001b[1;34m\u001b[0m\n\u001b[0;32m      3\u001b[0m \u001b[0ma\u001b[0m \u001b[1;33m=\u001b[0m \u001b[1;34m\"python\"\u001b[0m\u001b[1;33m\u001b[0m\u001b[1;33m\u001b[0m\u001b[0m\n\u001b[0;32m      4\u001b[0m \u001b[1;33m\u001b[0m\u001b[0m\n\u001b[1;32m----> 5\u001b[1;33m \u001b[0ma\u001b[0m\u001b[1;33m[\u001b[0m\u001b[1;36m2\u001b[0m\u001b[1;33m]\u001b[0m \u001b[1;33m=\u001b[0m \u001b[1;34m\"z\"\u001b[0m\u001b[1;33m\u001b[0m\u001b[1;33m\u001b[0m\u001b[0m\n\u001b[0m\u001b[0;32m      6\u001b[0m \u001b[1;33m\u001b[0m\u001b[0m\n\u001b[0;32m      7\u001b[0m \u001b[0mprint\u001b[0m\u001b[1;33m(\u001b[0m\u001b[0ma\u001b[0m\u001b[1;33m)\u001b[0m\u001b[1;33m\u001b[0m\u001b[1;33m\u001b[0m\u001b[0m\n",
      "\u001b[1;31mTypeError\u001b[0m: 'str' object does not support item assignment"
     ]
    }
   ],
   "source": [
    "#string #mutation #https://www.hackerrank.com/challenges/python-mutations/problem\n",
    "\n",
    "a = \"python\"\n",
    "\n",
    "a[2] = \"z\"\n",
    "\n",
    "print(a)"
   ]
  },
  {
   "cell_type": "code",
   "execution_count": 6,
   "metadata": {},
   "outputs": [
    {
     "name": "stdout",
     "output_type": "stream",
     "text": [
      "5\n",
      "1\n",
      "0\n"
     ]
    }
   ],
   "source": [
    "#count\n",
    "\n",
    "Li1 = [1,2,3,4,1,1,1,1,3]\n",
    "\n",
    "print(Li1.count(1))\n",
    "print(Li1.count(4))\n",
    "print(Li1.count(0))"
   ]
  },
  {
   "cell_type": "code",
   "execution_count": 7,
   "metadata": {},
   "outputs": [
    {
     "name": "stdout",
     "output_type": "stream",
     "text": [
      "3\n"
     ]
    },
    {
     "ename": "ValueError",
     "evalue": "0 is not in list",
     "output_type": "error",
     "traceback": [
      "\u001b[1;31m---------------------------------------------------------------------------\u001b[0m",
      "\u001b[1;31mValueError\u001b[0m                                Traceback (most recent call last)",
      "\u001b[1;32m<ipython-input-7-4f02ec38a0a8>\u001b[0m in \u001b[0;36m<module>\u001b[1;34m\u001b[0m\n\u001b[0;32m      4\u001b[0m \u001b[1;33m\u001b[0m\u001b[0m\n\u001b[0;32m      5\u001b[0m \u001b[0mprint\u001b[0m\u001b[1;33m(\u001b[0m\u001b[0mLi1\u001b[0m\u001b[1;33m.\u001b[0m\u001b[0mindex\u001b[0m\u001b[1;33m(\u001b[0m\u001b[1;36m4\u001b[0m\u001b[1;33m)\u001b[0m\u001b[1;33m)\u001b[0m\u001b[1;33m\u001b[0m\u001b[1;33m\u001b[0m\u001b[0m\n\u001b[1;32m----> 6\u001b[1;33m \u001b[0mprint\u001b[0m\u001b[1;33m(\u001b[0m\u001b[0mLi1\u001b[0m\u001b[1;33m.\u001b[0m\u001b[0mindex\u001b[0m\u001b[1;33m(\u001b[0m\u001b[1;36m0\u001b[0m\u001b[1;33m)\u001b[0m\u001b[1;33m)\u001b[0m\u001b[1;33m\u001b[0m\u001b[1;33m\u001b[0m\u001b[0m\n\u001b[0m",
      "\u001b[1;31mValueError\u001b[0m: 0 is not in list"
     ]
    }
   ],
   "source": [
    "#index\n",
    "\n",
    "Li1 = [1,2,3,4,-1,-2,-3]\n",
    "\n",
    "print(Li1.index(4))\n",
    "print(Li1.index(0))"
   ]
  },
  {
   "cell_type": "code",
   "execution_count": 8,
   "metadata": {},
   "outputs": [
    {
     "name": "stdout",
     "output_type": "stream",
     "text": [
      "[1, 2, 3, 4, -1, -2, -3]\n"
     ]
    }
   ],
   "source": [
    "#extend\n",
    "\n",
    "Li1 = [1,2,3,4]\n",
    "Li2 = [-1,-2,-3]\n",
    "\n",
    "Li1.extend(Li2)\n",
    "print(Li1)"
   ]
  },
  {
   "cell_type": "code",
   "execution_count": 9,
   "metadata": {},
   "outputs": [
    {
     "name": "stdout",
     "output_type": "stream",
     "text": [
      "[]\n"
     ]
    }
   ],
   "source": [
    "#clear\n",
    "\n",
    "Li1 = [3,4,5,6,7]\n",
    "\n",
    "Li1.clear()\n",
    "print(Li1)"
   ]
  },
  {
   "cell_type": "code",
   "execution_count": 11,
   "metadata": {},
   "outputs": [
    {
     "name": "stdout",
     "output_type": "stream",
     "text": [
      "[-2, -1, 0, 3, 4, 5]\n",
      "[5, 4, 3, 0, -1, -2]\n"
     ]
    }
   ],
   "source": [
    "#sort\n",
    "\n",
    "Li1 = [3,4,5,-1,-2,0]\n",
    "Li1.sort()\n",
    "print(Li1)\n",
    "\n",
    "Li1 = [3,4,5,-1,-2,0]\n",
    "Li1.sort(reverse=True)\n",
    "print(Li1)\n",
    "\n",
    "#Sorting techniques\n",
    "#Tim sort ==> combination of insertions and merge sort\n",
    "\n",
    "#https://www.geeksforgeeks.org/timsort/"
   ]
  },
  {
   "cell_type": "code",
   "execution_count": 12,
   "metadata": {},
   "outputs": [
    {
     "name": "stdout",
     "output_type": "stream",
     "text": [
      "[0, 8, 2, 3, 6, 5, 4]\n"
     ]
    }
   ],
   "source": [
    "#reverse\n",
    "\n",
    "Li1 = [4,5,6,3,2,8,0]\n",
    "Li1.reverse()\n",
    "print(Li1)"
   ]
  },
  {
   "cell_type": "code",
   "execution_count": 15,
   "metadata": {},
   "outputs": [
    {
     "name": "stdout",
     "output_type": "stream",
     "text": [
      "-2\n",
      "3\n",
      "3\n"
     ]
    }
   ],
   "source": [
    "#min max sum\n",
    "\n",
    "Li1 = [1,2,3,0,-1,-2]\n",
    "print(min(Li1))\n",
    "print(max(Li1))\n",
    "print(sum(Li1))"
   ]
  },
  {
   "cell_type": "code",
   "execution_count": 16,
   "metadata": {},
   "outputs": [
    {
     "name": "stdout",
     "output_type": "stream",
     "text": [
      "[3, 4]\n"
     ]
    }
   ],
   "source": [
    "#del\n",
    "\n",
    "Li1 = [3,4,5,6,7]\n",
    "\n",
    "del Li1[2:]\n",
    "\n",
    "print(Li1)"
   ]
  },
  {
   "cell_type": "code",
   "execution_count": 18,
   "metadata": {},
   "outputs": [
    {
     "ename": "NameError",
     "evalue": "name 'Li1' is not defined",
     "output_type": "error",
     "traceback": [
      "\u001b[1;31m---------------------------------------------------------------------------\u001b[0m",
      "\u001b[1;31mNameError\u001b[0m                                 Traceback (most recent call last)",
      "\u001b[1;32m<ipython-input-18-aa76de7c9e2e>\u001b[0m in \u001b[0;36m<module>\u001b[1;34m\u001b[0m\n\u001b[0;32m      2\u001b[0m \u001b[1;32mdel\u001b[0m \u001b[0mLi1\u001b[0m\u001b[1;33m\u001b[0m\u001b[1;33m\u001b[0m\u001b[0m\n\u001b[0;32m      3\u001b[0m \u001b[1;33m\u001b[0m\u001b[0m\n\u001b[1;32m----> 4\u001b[1;33m \u001b[0mprint\u001b[0m\u001b[1;33m(\u001b[0m\u001b[0mLi1\u001b[0m\u001b[1;33m)\u001b[0m\u001b[1;33m\u001b[0m\u001b[1;33m\u001b[0m\u001b[0m\n\u001b[0m",
      "\u001b[1;31mNameError\u001b[0m: name 'Li1' is not defined"
     ]
    }
   ],
   "source": [
    "Li1 = [3,4,5,6]\n",
    "del Li1\n",
    "\n",
    "print(Li1)"
   ]
  },
  {
   "cell_type": "code",
   "execution_count": 19,
   "metadata": {},
   "outputs": [
    {
     "name": "stdout",
     "output_type": "stream",
     "text": [
      "[]\n"
     ]
    }
   ],
   "source": [
    "Li1 = [3,4,5,6]\n",
    "del Li1[:] #clear\n",
    "\n",
    "print(Li1)"
   ]
  },
  {
   "cell_type": "code",
   "execution_count": 2,
   "metadata": {},
   "outputs": [
    {
     "name": "stdout",
     "output_type": "stream",
     "text": [
      "1390331518472\n",
      "1390331518472\n",
      "[2, 3, 1, 5, 100, 6]\n",
      "[2, 3, 1, 5, 100, 6]\n",
      "1390331517640\n",
      "1390330599880\n",
      "[2, 3, 1, 5, 4, 6]\n",
      "[2, 3, 1, 5, 100, 6]\n"
     ]
    }
   ],
   "source": [
    "#copy\n",
    "\n",
    "#Shallow copy\n",
    "\n",
    "Li1 = [2,3,1,5,4,6]\n",
    "print(id(Li1))\n",
    "\n",
    "Li2 = Li1\n",
    "print(id(Li2))\n",
    "\n",
    "Li2[4] = 100\n",
    "\n",
    "print(Li1)\n",
    "print(Li2)\n",
    "#============================\n",
    "\n",
    "Li1 = [2,3,1,5,4,6]\n",
    "print(id(Li1))\n",
    "\n",
    "Li2 = Li1.copy() #Deep copy\n",
    "print(id(Li2))\n",
    "\n",
    "Li2[4] = 100\n",
    "\n",
    "print(Li1)\n",
    "print(Li2)"
   ]
  },
  {
   "cell_type": "code",
   "execution_count": 3,
   "metadata": {},
   "outputs": [
    {
     "name": "stdout",
     "output_type": "stream",
     "text": [
      "[1, 2, 3, 4, 5, [101, 102, 103, 105, [201, 202, 203, 204, [304, 305, 305, 'python', ['groovy'], [20, 21], [31, 32], [41, 42]]]]]\n",
      "<class 'list'>\n"
     ]
    }
   ],
   "source": [
    "#nested list\n",
    "\n",
    "a = [1,2,3,4,5,[101,102,103,105,[201,202,203,204,[304,305,305,\"python\",[\"groovy\"],[20,21],[31,32],[41,42]]]]]\n",
    "\n",
    "print(a)\n",
    "print(type(a))\n",
    "\n",
    "#305\n",
    "#202\n",
    "#41\n",
    "#oovy\n",
    "#yth\n",
    "#32\n",
    "#42\n",
    "#20\n",
    "#4\n",
    "#105\n"
   ]
  },
  {
   "cell_type": "markdown",
   "metadata": {},
   "source": [
    "## Tuple "
   ]
  },
  {
   "cell_type": "code",
   "execution_count": null,
   "metadata": {},
   "outputs": [],
   "source": [
    "#charact\n",
    "\n",
    "#Immutable Ds\n",
    "#Indexed or ordered \n",
    "#()"
   ]
  },
  {
   "cell_type": "code",
   "execution_count": 5,
   "metadata": {},
   "outputs": [
    {
     "name": "stdout",
     "output_type": "stream",
     "text": [
      "()\n",
      "<class 'tuple'>\n",
      "()\n",
      "<class 'tuple'>\n"
     ]
    }
   ],
   "source": [
    "#()\n",
    "\n",
    "#empty tuple\n",
    "\n",
    "\n",
    "tup = ()\n",
    "print(tup)\n",
    "print(type(tup))\n",
    "\n",
    "tup1 = tuple()\n",
    "print(tup1)\n",
    "print(type(tup1))"
   ]
  },
  {
   "cell_type": "code",
   "execution_count": 7,
   "metadata": {},
   "outputs": [
    {
     "name": "stdout",
     "output_type": "stream",
     "text": [
      "(5, 6)\n",
      "7\n",
      "4\n",
      "3\n"
     ]
    }
   ],
   "source": [
    "#Indexed or Ordered\n",
    "\n",
    "tup = (3,4,5,6,7)\n",
    "\n",
    "print(tup[2:4])\n",
    "print(tup[-1])\n",
    "print(tup[-4])\n",
    "print(tup[0])"
   ]
  },
  {
   "cell_type": "code",
   "execution_count": 10,
   "metadata": {},
   "outputs": [
    {
     "name": "stdout",
     "output_type": "stream",
     "text": [
      "[3, 4, 100, 6]\n"
     ]
    },
    {
     "ename": "TypeError",
     "evalue": "'tuple' object does not support item assignment",
     "output_type": "error",
     "traceback": [
      "\u001b[1;31m---------------------------------------------------------------------------\u001b[0m",
      "\u001b[1;31mTypeError\u001b[0m                                 Traceback (most recent call last)",
      "\u001b[1;32m<ipython-input-10-65d2b915c996>\u001b[0m in \u001b[0;36m<module>\u001b[1;34m\u001b[0m\n\u001b[0;32m      6\u001b[0m \u001b[1;33m\u001b[0m\u001b[0m\n\u001b[0;32m      7\u001b[0m \u001b[0mtup1\u001b[0m \u001b[1;33m=\u001b[0m \u001b[1;33m(\u001b[0m\u001b[1;36m3\u001b[0m\u001b[1;33m,\u001b[0m\u001b[1;36m4\u001b[0m\u001b[1;33m,\u001b[0m\u001b[1;36m5\u001b[0m\u001b[1;33m,\u001b[0m\u001b[1;36m6\u001b[0m\u001b[1;33m)\u001b[0m\u001b[1;33m\u001b[0m\u001b[1;33m\u001b[0m\u001b[0m\n\u001b[1;32m----> 8\u001b[1;33m \u001b[0mtup1\u001b[0m\u001b[1;33m[\u001b[0m\u001b[1;36m2\u001b[0m\u001b[1;33m]\u001b[0m \u001b[1;33m=\u001b[0m \u001b[1;36m100\u001b[0m\u001b[1;33m\u001b[0m\u001b[1;33m\u001b[0m\u001b[0m\n\u001b[0m\u001b[0;32m      9\u001b[0m \u001b[0mprint\u001b[0m\u001b[1;33m(\u001b[0m\u001b[0mtup1\u001b[0m\u001b[1;33m)\u001b[0m\u001b[1;33m\u001b[0m\u001b[1;33m\u001b[0m\u001b[0m\n",
      "\u001b[1;31mTypeError\u001b[0m: 'tuple' object does not support item assignment"
     ]
    }
   ],
   "source": [
    "#immutable\n",
    "\n",
    "Li1 = [3,4,5,6]\n",
    "Li1[2] = 100\n",
    "print(Li1)\n",
    "\n",
    "tup1 = (3,4,5,6)\n",
    "tup1[2] = 100\n",
    "print(tup1)"
   ]
  },
  {
   "cell_type": "code",
   "execution_count": 12,
   "metadata": {},
   "outputs": [
    {
     "name": "stdout",
     "output_type": "stream",
     "text": [
      "2\n"
     ]
    },
    {
     "ename": "ValueError",
     "evalue": "tuple.index(x): x not in tuple",
     "output_type": "error",
     "traceback": [
      "\u001b[1;31m---------------------------------------------------------------------------\u001b[0m",
      "\u001b[1;31mValueError\u001b[0m                                Traceback (most recent call last)",
      "\u001b[1;32m<ipython-input-12-5797ba57a02a>\u001b[0m in \u001b[0;36m<module>\u001b[1;34m\u001b[0m\n\u001b[0;32m      5\u001b[0m \u001b[0mtup1\u001b[0m \u001b[1;33m=\u001b[0m \u001b[1;33m(\u001b[0m\u001b[1;36m10\u001b[0m\u001b[1;33m,\u001b[0m\u001b[1;36m11\u001b[0m\u001b[1;33m,\u001b[0m\u001b[1;36m12\u001b[0m\u001b[1;33m,\u001b[0m\u001b[1;36m13\u001b[0m\u001b[1;33m)\u001b[0m\u001b[1;33m\u001b[0m\u001b[1;33m\u001b[0m\u001b[0m\n\u001b[0;32m      6\u001b[0m \u001b[0mprint\u001b[0m\u001b[1;33m(\u001b[0m\u001b[0mtup1\u001b[0m\u001b[1;33m.\u001b[0m\u001b[0mindex\u001b[0m\u001b[1;33m(\u001b[0m\u001b[1;36m12\u001b[0m\u001b[1;33m)\u001b[0m\u001b[1;33m)\u001b[0m\u001b[1;33m\u001b[0m\u001b[1;33m\u001b[0m\u001b[0m\n\u001b[1;32m----> 7\u001b[1;33m \u001b[0mprint\u001b[0m\u001b[1;33m(\u001b[0m\u001b[0mtup1\u001b[0m\u001b[1;33m.\u001b[0m\u001b[0mindex\u001b[0m\u001b[1;33m(\u001b[0m\u001b[1;36m0\u001b[0m\u001b[1;33m)\u001b[0m\u001b[1;33m)\u001b[0m\u001b[1;33m\u001b[0m\u001b[1;33m\u001b[0m\u001b[0m\n\u001b[0m",
      "\u001b[1;31mValueError\u001b[0m: tuple.index(x): x not in tuple"
     ]
    }
   ],
   "source": [
    "#Tuple Methods\n",
    "\n",
    "#index\n",
    "\n",
    "tup1 = (10,11,12,13)\n",
    "print(tup1.index(12))\n",
    "print(tup1.index(0))"
   ]
  },
  {
   "cell_type": "code",
   "execution_count": 13,
   "metadata": {},
   "outputs": [
    {
     "name": "stdout",
     "output_type": "stream",
     "text": [
      "2\n",
      "0\n"
     ]
    }
   ],
   "source": [
    "#count\n",
    "\n",
    "tup1 = (1,2,3,4,4,3,2,1,1,1,1)\n",
    "print(tup1.count(4))\n",
    "print(tup1.count(-2))"
   ]
  },
  {
   "cell_type": "code",
   "execution_count": 14,
   "metadata": {},
   "outputs": [
    {
     "name": "stdout",
     "output_type": "stream",
     "text": [
      "(1, 2, 3, 5, 6, 3, 4, 2, 5, 6, 7)\n",
      "(1, 2, 3, 5, 6, 3, 4, 2, 5, 6, 7, 10, 11, 12)\n"
     ]
    }
   ],
   "source": [
    "#concatenation\n",
    "\n",
    "tup1 = (1,2,3,5,6)\n",
    "tup2 = (3,4,2,5,6,7)\n",
    "\n",
    "tup1 = tup1 + tup2\n",
    "print(tup1)\n",
    "tup3 = tup1 + (10,11,12)\n",
    "print(tup3)\n"
   ]
  },
  {
   "cell_type": "code",
   "execution_count": 15,
   "metadata": {},
   "outputs": [
    {
     "name": "stdout",
     "output_type": "stream",
     "text": [
      "14\n"
     ]
    }
   ],
   "source": [
    "print(len(tup3))\n",
    "\n",
    "#function inbuilt function\n",
    "\n",
    "#method"
   ]
  },
  {
   "cell_type": "markdown",
   "metadata": {},
   "source": [
    "## Set"
   ]
  },
  {
   "cell_type": "code",
   "execution_count": null,
   "metadata": {},
   "outputs": [],
   "source": [
    "#Chara\n",
    "\n",
    "#{} and individual elements\n",
    "#unordered or no indexing\n",
    "#mutable \n",
    "#It doesn't support duplicates\n",
    "#Does not support + or concatenation"
   ]
  },
  {
   "cell_type": "code",
   "execution_count": 17,
   "metadata": {},
   "outputs": [
    {
     "name": "stdout",
     "output_type": "stream",
     "text": [
      "set()\n",
      "<class 'set'>\n",
      "{}\n",
      "<class 'dict'>\n"
     ]
    }
   ],
   "source": [
    "#Empty set\n",
    "\n",
    "set1 = set()\n",
    "print(set1)\n",
    "print(type(set1))\n",
    "\n",
    "set2 = {}\n",
    "print(set2)\n",
    "print(type(set2))"
   ]
  },
  {
   "cell_type": "code",
   "execution_count": 18,
   "metadata": {},
   "outputs": [
    {
     "ename": "TypeError",
     "evalue": "'set' object is not subscriptable",
     "output_type": "error",
     "traceback": [
      "\u001b[1;31m---------------------------------------------------------------------------\u001b[0m",
      "\u001b[1;31mTypeError\u001b[0m                                 Traceback (most recent call last)",
      "\u001b[1;32m<ipython-input-18-cca6c1495f35>\u001b[0m in \u001b[0;36m<module>\u001b[1;34m\u001b[0m\n\u001b[0;32m      1\u001b[0m \u001b[0mset1\u001b[0m \u001b[1;33m=\u001b[0m \u001b[1;33m{\u001b[0m\u001b[1;36m2\u001b[0m\u001b[1;33m,\u001b[0m\u001b[1;36m3\u001b[0m\u001b[1;33m,\u001b[0m\u001b[1;36m4\u001b[0m\u001b[1;33m,\u001b[0m\u001b[1;36m5\u001b[0m\u001b[1;33m}\u001b[0m\u001b[1;33m\u001b[0m\u001b[1;33m\u001b[0m\u001b[0m\n\u001b[1;32m----> 2\u001b[1;33m \u001b[0mprint\u001b[0m\u001b[1;33m(\u001b[0m\u001b[0mset1\u001b[0m\u001b[1;33m[\u001b[0m\u001b[1;36m0\u001b[0m\u001b[1;33m]\u001b[0m\u001b[1;33m)\u001b[0m\u001b[1;33m\u001b[0m\u001b[1;33m\u001b[0m\u001b[0m\n\u001b[0m\u001b[0;32m      3\u001b[0m \u001b[0mprint\u001b[0m\u001b[1;33m(\u001b[0m\u001b[0mset1\u001b[0m\u001b[1;33m[\u001b[0m\u001b[1;33m-\u001b[0m\u001b[1;36m1\u001b[0m\u001b[1;33m]\u001b[0m\u001b[1;33m)\u001b[0m\u001b[1;33m\u001b[0m\u001b[1;33m\u001b[0m\u001b[0m\n",
      "\u001b[1;31mTypeError\u001b[0m: 'set' object is not subscriptable"
     ]
    }
   ],
   "source": [
    "set1 = {2,3,4,5}\n",
    "print(set1[0])\n",
    "print(set1[-1])"
   ]
  },
  {
   "cell_type": "code",
   "execution_count": 19,
   "metadata": {},
   "outputs": [
    {
     "name": "stdout",
     "output_type": "stream",
     "text": [
      "{1, 2, 3, 4, 5, 6}\n"
     ]
    }
   ],
   "source": [
    "set1 = {1,1,2,3,4,5,6,3,4,4,5}\n",
    "\n",
    "print(set1)\n",
    "\n",
    "#set allows only unique values\n"
   ]
  },
  {
   "cell_type": "code",
   "execution_count": null,
   "metadata": {},
   "outputs": [],
   "source": [
    "#union\n",
    "#intersection\n",
    "#difference\n",
    "#subset\n",
    "#symmetric difference\n",
    "#super set\n",
    "#Disjoint\n",
    "#\n",
    "\n",
    "#https://www.w3schools.com/python/python_ref_set.asp"
   ]
  }
 ],
 "metadata": {
  "kernelspec": {
   "display_name": "Python 3",
   "language": "python",
   "name": "python3"
  },
  "language_info": {
   "codemirror_mode": {
    "name": "ipython",
    "version": 3
   },
   "file_extension": ".py",
   "mimetype": "text/x-python",
   "name": "python",
   "nbconvert_exporter": "python",
   "pygments_lexer": "ipython3",
   "version": "3.7.6"
  }
 },
 "nbformat": 4,
 "nbformat_minor": 4
}
