{
 "cells": [
  {
   "cell_type": "code",
   "execution_count": 1,
   "metadata": {},
   "outputs": [
    {
     "name": "stdout",
     "output_type": "stream",
     "text": [
      "['str', 'val', 'python']\n"
     ]
    }
   ],
   "source": [
    "#what is it ?\n",
    "\n",
    "#List tuple set Dictionary\n",
    "\n",
    "\n",
    "#Storing multiple values\n",
    "\n",
    "a = \"str\"\n",
    "b = \"val\"\n",
    "c = \"python\"\n",
    "\n",
    "d = [\"str\", \"val\", \"python\"]\n",
    "\n",
    "print(d)\n"
   ]
  },
  {
   "cell_type": "code",
   "execution_count": null,
   "metadata": {},
   "outputs": [],
   "source": [
    "##List tuple set Dictionary Difference\n",
    "\n",
    "\n",
    "#List:\n",
    "\n",
    "[]\n",
    "Ordered/Indexed  datastrucut\n",
    "Mutable\n",
    "+ operator supports (concatenatiomn)\n",
    "Allows duplicates\n",
    "\n",
    "#tuple\n",
    "\n",
    "()\n",
    "Ordered/Indexed  datastrucut\n",
    "immutable data structures\n",
    "+ operator supports (concatenatiomn)\n",
    "Allows duplicates\n",
    "\n",
    "#set\n",
    "\n",
    "{}\n",
    "No indexing\n",
    "No indexing or ordering\n",
    "Mutable\n",
    "+ operator not supports (concatenatiomn)\n",
    "No duplicates\n",
    "\n",
    "#Dictionary\n",
    "{:}\n",
    "No indexing or ordering ==> key = index\n",
    "Mutable\n",
    "+ operator not supports (concatenatiomn)\n",
    "duplicate keys are not allowed but values are allowed"
   ]
  },
  {
   "cell_type": "code",
   "execution_count": 1,
   "metadata": {},
   "outputs": [
    {
     "name": "stdout",
     "output_type": "stream",
     "text": [
      "[1, 2, 3, 4, 5, 6]\n",
      "(0, 2, 3, 4, 5, 0)\n"
     ]
    },
    {
     "ename": "TypeError",
     "evalue": "unsupported operand type(s) for +: 'set' and 'set'",
     "output_type": "error",
     "traceback": [
      "\u001b[1;31m---------------------------------------------------------------------------\u001b[0m",
      "\u001b[1;31mTypeError\u001b[0m                                 Traceback (most recent call last)",
      "\u001b[1;32m<ipython-input-1-49c84cadada5>\u001b[0m in \u001b[0;36m<module>\u001b[1;34m\u001b[0m\n\u001b[0;32m      1\u001b[0m \u001b[0mprint\u001b[0m\u001b[1;33m(\u001b[0m\u001b[1;33m[\u001b[0m\u001b[1;36m1\u001b[0m\u001b[1;33m,\u001b[0m\u001b[1;36m2\u001b[0m\u001b[1;33m,\u001b[0m\u001b[1;36m3\u001b[0m\u001b[1;33m]\u001b[0m \u001b[1;33m+\u001b[0m \u001b[1;33m[\u001b[0m\u001b[1;36m4\u001b[0m\u001b[1;33m,\u001b[0m\u001b[1;36m5\u001b[0m\u001b[1;33m,\u001b[0m\u001b[1;36m6\u001b[0m\u001b[1;33m]\u001b[0m\u001b[1;33m)\u001b[0m\u001b[1;33m\u001b[0m\u001b[1;33m\u001b[0m\u001b[0m\n\u001b[0;32m      2\u001b[0m \u001b[0mprint\u001b[0m\u001b[1;33m(\u001b[0m\u001b[1;33m(\u001b[0m\u001b[1;36m0\u001b[0m\u001b[1;33m,\u001b[0m\u001b[1;36m2\u001b[0m\u001b[1;33m,\u001b[0m\u001b[1;36m3\u001b[0m\u001b[1;33m)\u001b[0m \u001b[1;33m+\u001b[0m \u001b[1;33m(\u001b[0m\u001b[1;36m4\u001b[0m\u001b[1;33m,\u001b[0m\u001b[1;36m5\u001b[0m\u001b[1;33m,\u001b[0m\u001b[1;36m0\u001b[0m\u001b[1;33m)\u001b[0m\u001b[1;33m)\u001b[0m\u001b[1;33m\u001b[0m\u001b[1;33m\u001b[0m\u001b[0m\n\u001b[1;32m----> 3\u001b[1;33m \u001b[0mprint\u001b[0m\u001b[1;33m(\u001b[0m\u001b[1;33m{\u001b[0m\u001b[1;36m1\u001b[0m\u001b[1;33m,\u001b[0m\u001b[1;36m2\u001b[0m\u001b[1;33m}\u001b[0m \u001b[1;33m+\u001b[0m \u001b[1;33m{\u001b[0m\u001b[1;36m3\u001b[0m\u001b[1;33m,\u001b[0m\u001b[1;36m4\u001b[0m\u001b[1;33m,\u001b[0m\u001b[1;36m5\u001b[0m\u001b[1;33m}\u001b[0m\u001b[1;33m)\u001b[0m\u001b[1;33m\u001b[0m\u001b[1;33m\u001b[0m\u001b[0m\n\u001b[0m",
      "\u001b[1;31mTypeError\u001b[0m: unsupported operand type(s) for +: 'set' and 'set'"
     ]
    }
   ],
   "source": [
    "print([1,2,3] + [4,5,6])\n",
    "print((0,2,3) + (4,5,0))\n",
    "print({1,2} + {3,4,5})"
   ]
  },
  {
   "cell_type": "code",
   "execution_count": 2,
   "metadata": {},
   "outputs": [
    {
     "name": "stdout",
     "output_type": "stream",
     "text": [
      "[1, 2, 3, True, 'python', 10.99]\n"
     ]
    }
   ],
   "source": [
    "#heterogenous \n",
    "\n",
    "a = [1,2,3,True,\"python\",10.99]\n",
    "print(a)"
   ]
  },
  {
   "cell_type": "code",
   "execution_count": 5,
   "metadata": {},
   "outputs": [
    {
     "name": "stdout",
     "output_type": "stream",
     "text": [
      "[]\n",
      "<class 'list'>\n",
      "[]\n",
      "<class 'list'>\n"
     ]
    }
   ],
   "source": [
    "a = []\n",
    "print(a)\n",
    "print(type(a))\n",
    "\n",
    "b = list()\n",
    "print(b)\n",
    "print(type(b))"
   ]
  },
  {
   "cell_type": "code",
   "execution_count": 6,
   "metadata": {},
   "outputs": [
    {
     "name": "stdout",
     "output_type": "stream",
     "text": [
      "(1, 2, 3, 4)\n",
      "<class 'tuple'>\n",
      "()\n",
      "<class 'tuple'>\n"
     ]
    }
   ],
   "source": [
    "a = (1,2,3,4)\n",
    "print(a)\n",
    "print(type(a))\n",
    "\n",
    "b = tuple()\n",
    "print(b)\n",
    "print(type(b))"
   ]
  },
  {
   "cell_type": "code",
   "execution_count": 7,
   "metadata": {},
   "outputs": [
    {
     "name": "stdout",
     "output_type": "stream",
     "text": [
      "{1, 2, 3, 4, 5}\n",
      "<class 'set'>\n"
     ]
    }
   ],
   "source": [
    "a = {1,2,3,4,5}\n",
    "print(a)\n",
    "print(type(a))\n"
   ]
  },
  {
   "cell_type": "code",
   "execution_count": 9,
   "metadata": {},
   "outputs": [
    {
     "name": "stdout",
     "output_type": "stream",
     "text": [
      "{1: 'val1', 2: 'val2', 3: 'val3'}\n",
      "<class 'dict'>\n"
     ]
    }
   ],
   "source": [
    "a = {1:\"val1\", 2:\"val2\", 3:\"val3\"}\n",
    "print(a)\n",
    "print(type(a))"
   ]
  },
  {
   "cell_type": "code",
   "execution_count": 13,
   "metadata": {
    "scrolled": true
   },
   "outputs": [
    {
     "name": "stdout",
     "output_type": "stream",
     "text": [
      "{}\n",
      "<class 'dict'>\n",
      "{1, 10}\n",
      "<class 'set'>\n",
      "{}\n",
      "<class 'dict'>\n"
     ]
    }
   ],
   "source": [
    "#how to create empty set and empty dictionary\n",
    "\n",
    "a = {}\n",
    "\n",
    "print(a)\n",
    "print(type(a))\n",
    "\n",
    "a = set()\n",
    "a.add(1)\n",
    "a.add(10)\n",
    "\n",
    "print(a)\n",
    "print(type(a))\n",
    "\n",
    "b = dict()\n",
    "print(b)\n",
    "print(type(b))"
   ]
  },
  {
   "cell_type": "markdown",
   "metadata": {},
   "source": [
    "## List methods"
   ]
  },
  {
   "cell_type": "code",
   "execution_count": 20,
   "metadata": {},
   "outputs": [
    {
     "name": "stdout",
     "output_type": "stream",
     "text": [
      "[]\n",
      "<class 'list'>\n"
     ]
    }
   ],
   "source": [
    "a = []\n",
    "\n",
    "print(a)\n",
    "print(type(a))"
   ]
  },
  {
   "cell_type": "code",
   "execution_count": 22,
   "metadata": {},
   "outputs": [
    {
     "name": "stdout",
     "output_type": "stream",
     "text": [
      "[10]\n",
      "[10, 20]\n",
      "[10, 20, 'hello']\n",
      "[10, 20, 'hello']\n"
     ]
    }
   ],
   "source": [
    "#append\n",
    "a = []\n",
    "\n",
    "\n",
    "a.append(10) #adding in to last place of list\n",
    "print(a)\n",
    "a.append(20)\n",
    "print(a)\n",
    "a.append(\"hello\")\n",
    "print(a)\n",
    "\n",
    "print(a)"
   ]
  },
  {
   "cell_type": "code",
   "execution_count": 24,
   "metadata": {},
   "outputs": [
    {
     "name": "stdout",
     "output_type": "stream",
     "text": [
      "[10, 11, 5, 12, 13, 14, 15]\n"
     ]
    }
   ],
   "source": [
    "#insert\n",
    "\n",
    "a = [10,11,12,13,14,15]\n",
    "\n",
    "a.insert(2,5) #position/index, value\n",
    "print(a)"
   ]
  },
  {
   "cell_type": "code",
   "execution_count": 27,
   "metadata": {},
   "outputs": [
    {
     "name": "stdout",
     "output_type": "stream",
     "text": [
      "[10, 11, 12, 13, 14]\n",
      "[10, 11, 13, 14]\n"
     ]
    }
   ],
   "source": [
    "#pop\n",
    "\n",
    "a = [10,11,12,13,14,15]\n",
    "\n",
    "a.pop() #remove element in position -1 from list\n",
    "print(a)\n",
    "a.pop(2) #remove specific value in index argumemntn\n",
    "print(a) "
   ]
  },
  {
   "cell_type": "code",
   "execution_count": 1,
   "metadata": {},
   "outputs": [
    {
     "name": "stdout",
     "output_type": "stream",
     "text": [
      "[10, 11, 12, 13, 15, 14]\n"
     ]
    }
   ],
   "source": [
    "#remove\n",
    "\n",
    "a = [10,11,12,13,14,15,14]\n",
    "\n",
    "a.remove(14)\n",
    "\n",
    "print(a)"
   ]
  },
  {
   "cell_type": "code",
   "execution_count": 30,
   "metadata": {},
   "outputs": [
    {
     "name": "stdout",
     "output_type": "stream",
     "text": [
      "[1, 2, 3, 4, 10, 14, 15]\n",
      "[1, 2, 3, 4, 1, 2, 3, 4, 1, 2, 3, 4, 1, 2, 3, 4, 1, 2, 3, 4]\n"
     ]
    }
   ],
   "source": [
    "#concatenation\n",
    "\n",
    "a = [1,2,3,4]\n",
    "\n",
    "print(a + [10,14,15])\n",
    "\n",
    "print(a*5)"
   ]
  },
  {
   "cell_type": "code",
   "execution_count": 32,
   "metadata": {},
   "outputs": [
    {
     "name": "stdout",
     "output_type": "stream",
     "text": [
      "12\n",
      "15\n"
     ]
    }
   ],
   "source": [
    "a = [10,11,12,13,14,15]\n",
    "\n",
    "print(a[2])\n",
    "print(a[-1])\n",
    "\n",
    "a = [\"python\", \"groovy\", \"hello\"]"
   ]
  },
  {
   "cell_type": "code",
   "execution_count": 4,
   "metadata": {},
   "outputs": [
    {
     "name": "stdout",
     "output_type": "stream",
     "text": [
      "['aaa', 'bbb', 'python', 'dddd']\n"
     ]
    }
   ],
   "source": [
    "#replacement / assignment\n",
    "\n",
    "Li1 = [\"aaa\", \"bbb\", \"ccc\", \"dddd\"]\n",
    "\n",
    "Li1[2] = \"python\"\n",
    "\n",
    "print(Li1)\n",
    "\n"
   ]
  },
  {
   "cell_type": "code",
   "execution_count": 2,
   "metadata": {},
   "outputs": [
    {
     "ename": "TypeError",
     "evalue": "'str' object does not support item assignment",
     "output_type": "error",
     "traceback": [
      "\u001b[1;31m---------------------------------------------------------------------------\u001b[0m",
      "\u001b[1;31mTypeError\u001b[0m                                 Traceback (most recent call last)",
      "\u001b[1;32m<ipython-input-2-94033a12e244>\u001b[0m in \u001b[0;36m<module>\u001b[1;34m\u001b[0m\n\u001b[0;32m      3\u001b[0m \u001b[0ma\u001b[0m \u001b[1;33m=\u001b[0m \u001b[1;34m\"python\"\u001b[0m\u001b[1;33m\u001b[0m\u001b[1;33m\u001b[0m\u001b[0m\n\u001b[0;32m      4\u001b[0m \u001b[1;33m\u001b[0m\u001b[0m\n\u001b[1;32m----> 5\u001b[1;33m \u001b[0ma\u001b[0m\u001b[1;33m[\u001b[0m\u001b[1;36m2\u001b[0m\u001b[1;33m]\u001b[0m \u001b[1;33m=\u001b[0m \u001b[1;34m\"z\"\u001b[0m\u001b[1;33m\u001b[0m\u001b[1;33m\u001b[0m\u001b[0m\n\u001b[0m\u001b[0;32m      6\u001b[0m \u001b[1;33m\u001b[0m\u001b[0m\n\u001b[0;32m      7\u001b[0m \u001b[0mprint\u001b[0m\u001b[1;33m(\u001b[0m\u001b[0ma\u001b[0m\u001b[1;33m)\u001b[0m\u001b[1;33m\u001b[0m\u001b[1;33m\u001b[0m\u001b[0m\n",
      "\u001b[1;31mTypeError\u001b[0m: 'str' object does not support item assignment"
     ]
    }
   ],
   "source": [
    "#string #mutation #https://www.hackerrank.com/challenges/python-mutations/problem\n",
    "\n",
    "a = \"python\"\n",
    "\n",
    "a[2] = \"z\"\n",
    "\n",
    "print(a)"
   ]
  },
  {
   "cell_type": "code",
   "execution_count": 6,
   "metadata": {},
   "outputs": [
    {
     "name": "stdout",
     "output_type": "stream",
     "text": [
      "5\n",
      "1\n",
      "0\n"
     ]
    }
   ],
   "source": [
    "#count\n",
    "\n",
    "Li1 = [1,2,3,4,1,1,1,1,3]\n",
    "\n",
    "print(Li1.count(1))\n",
    "print(Li1.count(4))\n",
    "print(Li1.count(0))"
   ]
  },
  {
   "cell_type": "code",
   "execution_count": 7,
   "metadata": {},
   "outputs": [
    {
     "name": "stdout",
     "output_type": "stream",
     "text": [
      "3\n"
     ]
    },
    {
     "ename": "ValueError",
     "evalue": "0 is not in list",
     "output_type": "error",
     "traceback": [
      "\u001b[1;31m---------------------------------------------------------------------------\u001b[0m",
      "\u001b[1;31mValueError\u001b[0m                                Traceback (most recent call last)",
      "\u001b[1;32m<ipython-input-7-4f02ec38a0a8>\u001b[0m in \u001b[0;36m<module>\u001b[1;34m\u001b[0m\n\u001b[0;32m      4\u001b[0m \u001b[1;33m\u001b[0m\u001b[0m\n\u001b[0;32m      5\u001b[0m \u001b[0mprint\u001b[0m\u001b[1;33m(\u001b[0m\u001b[0mLi1\u001b[0m\u001b[1;33m.\u001b[0m\u001b[0mindex\u001b[0m\u001b[1;33m(\u001b[0m\u001b[1;36m4\u001b[0m\u001b[1;33m)\u001b[0m\u001b[1;33m)\u001b[0m\u001b[1;33m\u001b[0m\u001b[1;33m\u001b[0m\u001b[0m\n\u001b[1;32m----> 6\u001b[1;33m \u001b[0mprint\u001b[0m\u001b[1;33m(\u001b[0m\u001b[0mLi1\u001b[0m\u001b[1;33m.\u001b[0m\u001b[0mindex\u001b[0m\u001b[1;33m(\u001b[0m\u001b[1;36m0\u001b[0m\u001b[1;33m)\u001b[0m\u001b[1;33m)\u001b[0m\u001b[1;33m\u001b[0m\u001b[1;33m\u001b[0m\u001b[0m\n\u001b[0m",
      "\u001b[1;31mValueError\u001b[0m: 0 is not in list"
     ]
    }
   ],
   "source": [
    "#index\n",
    "\n",
    "Li1 = [1,2,3,4,-1,-2,-3]\n",
    "\n",
    "print(Li1.index(4))\n",
    "print(Li1.index(0))"
   ]
  },
  {
   "cell_type": "code",
   "execution_count": 8,
   "metadata": {},
   "outputs": [
    {
     "name": "stdout",
     "output_type": "stream",
     "text": [
      "[1, 2, 3, 4, -1, -2, -3]\n"
     ]
    }
   ],
   "source": [
    "#extend\n",
    "\n",
    "Li1 = [1,2,3,4]\n",
    "Li2 = [-1,-2,-3]\n",
    "\n",
    "Li1.extend(Li2)\n",
    "print(Li1)"
   ]
  },
  {
   "cell_type": "code",
   "execution_count": 9,
   "metadata": {},
   "outputs": [
    {
     "name": "stdout",
     "output_type": "stream",
     "text": [
      "[]\n"
     ]
    }
   ],
   "source": [
    "#clear\n",
    "\n",
    "Li1 = [3,4,5,6,7]\n",
    "\n",
    "Li1.clear()\n",
    "print(Li1)"
   ]
  },
  {
   "cell_type": "code",
   "execution_count": 11,
   "metadata": {},
   "outputs": [
    {
     "name": "stdout",
     "output_type": "stream",
     "text": [
      "[-2, -1, 0, 3, 4, 5]\n",
      "[5, 4, 3, 0, -1, -2]\n"
     ]
    }
   ],
   "source": [
    "#sort\n",
    "\n",
    "Li1 = [3,4,5,-1,-2,0]\n",
    "Li1.sort()\n",
    "print(Li1)\n",
    "\n",
    "Li1 = [3,4,5,-1,-2,0]\n",
    "Li1.sort(reverse=True)\n",
    "print(Li1)\n",
    "\n",
    "#Sorting techniques\n",
    "#Tim sort ==> combination of insertions and merge sort\n",
    "\n",
    "#https://www.geeksforgeeks.org/timsort/"
   ]
  },
  {
   "cell_type": "code",
   "execution_count": 12,
   "metadata": {},
   "outputs": [
    {
     "name": "stdout",
     "output_type": "stream",
     "text": [
      "[0, 8, 2, 3, 6, 5, 4]\n"
     ]
    }
   ],
   "source": [
    "#reverse\n",
    "\n",
    "Li1 = [4,5,6,3,2,8,0]\n",
    "Li1.reverse()\n",
    "print(Li1)"
   ]
  },
  {
   "cell_type": "code",
   "execution_count": 15,
   "metadata": {},
   "outputs": [
    {
     "name": "stdout",
     "output_type": "stream",
     "text": [
      "-2\n",
      "3\n",
      "3\n"
     ]
    }
   ],
   "source": [
    "#min max sum\n",
    "\n",
    "Li1 = [1,2,3,0,-1,-2]\n",
    "print(min(Li1))\n",
    "print(max(Li1))\n",
    "print(sum(Li1))"
   ]
  },
  {
   "cell_type": "code",
   "execution_count": 16,
   "metadata": {},
   "outputs": [
    {
     "name": "stdout",
     "output_type": "stream",
     "text": [
      "[3, 4]\n"
     ]
    }
   ],
   "source": [
    "#del\n",
    "\n",
    "Li1 = [3,4,5,6,7]\n",
    "\n",
    "del Li1[2:]\n",
    "\n",
    "print(Li1)"
   ]
  },
  {
   "cell_type": "code",
   "execution_count": 18,
   "metadata": {},
   "outputs": [
    {
     "ename": "NameError",
     "evalue": "name 'Li1' is not defined",
     "output_type": "error",
     "traceback": [
      "\u001b[1;31m---------------------------------------------------------------------------\u001b[0m",
      "\u001b[1;31mNameError\u001b[0m                                 Traceback (most recent call last)",
      "\u001b[1;32m<ipython-input-18-aa76de7c9e2e>\u001b[0m in \u001b[0;36m<module>\u001b[1;34m\u001b[0m\n\u001b[0;32m      2\u001b[0m \u001b[1;32mdel\u001b[0m \u001b[0mLi1\u001b[0m\u001b[1;33m\u001b[0m\u001b[1;33m\u001b[0m\u001b[0m\n\u001b[0;32m      3\u001b[0m \u001b[1;33m\u001b[0m\u001b[0m\n\u001b[1;32m----> 4\u001b[1;33m \u001b[0mprint\u001b[0m\u001b[1;33m(\u001b[0m\u001b[0mLi1\u001b[0m\u001b[1;33m)\u001b[0m\u001b[1;33m\u001b[0m\u001b[1;33m\u001b[0m\u001b[0m\n\u001b[0m",
      "\u001b[1;31mNameError\u001b[0m: name 'Li1' is not defined"
     ]
    }
   ],
   "source": [
    "Li1 = [3,4,5,6]\n",
    "del Li1\n",
    "\n",
    "print(Li1)"
   ]
  },
  {
   "cell_type": "code",
   "execution_count": 19,
   "metadata": {},
   "outputs": [
    {
     "name": "stdout",
     "output_type": "stream",
     "text": [
      "[]\n"
     ]
    }
   ],
   "source": [
    "Li1 = [3,4,5,6]\n",
    "del Li1[:] #clear\n",
    "\n",
    "print(Li1)"
   ]
  },
  {
   "cell_type": "code",
   "execution_count": 2,
   "metadata": {},
   "outputs": [
    {
     "name": "stdout",
     "output_type": "stream",
     "text": [
      "1390331518472\n",
      "1390331518472\n",
      "[2, 3, 1, 5, 100, 6]\n",
      "[2, 3, 1, 5, 100, 6]\n",
      "1390331517640\n",
      "1390330599880\n",
      "[2, 3, 1, 5, 4, 6]\n",
      "[2, 3, 1, 5, 100, 6]\n"
     ]
    }
   ],
   "source": [
    "#copy\n",
    "\n",
    "#Shallow copy\n",
    "\n",
    "Li1 = [2,3,1,5,4,6]\n",
    "print(id(Li1))\n",
    "\n",
    "Li2 = Li1\n",
    "print(id(Li2))\n",
    "\n",
    "Li2[4] = 100\n",
    "\n",
    "print(Li1)\n",
    "print(Li2)\n",
    "#============================\n",
    "\n",
    "Li1 = [2,3,1,5,4,6]\n",
    "print(id(Li1))\n",
    "\n",
    "Li2 = Li1.copy() #Deep copy\n",
    "print(id(Li2))\n",
    "\n",
    "Li2[4] = 100\n",
    "\n",
    "print(Li1)\n",
    "print(Li2)"
   ]
  },
  {
   "cell_type": "code",
   "execution_count": 3,
   "metadata": {},
   "outputs": [
    {
     "name": "stdout",
     "output_type": "stream",
     "text": [
      "[1, 2, 3, 4, 5, [101, 102, 103, 105, [201, 202, 203, 204, [304, 305, 305, 'python', ['groovy'], [20, 21], [31, 32], [41, 42]]]]]\n",
      "<class 'list'>\n"
     ]
    }
   ],
   "source": [
    "#nested list\n",
    "\n",
    "a = [1,2,3,4,5,[101,102,103,105,[201,202,203,204,[304,305,305,\"python\",[\"groovy\"],[20,21],[31,32],[41,42]]]]]\n",
    "\n",
    "print(a)\n",
    "print(type(a))\n",
    "\n",
    "#305\n",
    "#202\n",
    "#41\n",
    "#oovy\n",
    "#yth\n",
    "#32\n",
    "#42\n",
    "#20\n",
    "#4\n",
    "#105\n"
   ]
  },
  {
   "cell_type": "code",
   "execution_count": 9,
   "metadata": {},
   "outputs": [
    {
     "name": "stdout",
     "output_type": "stream",
     "text": [
      "5\n",
      "[101, 102, 103, 105, [201, 202, 203, 204, [304, 305, 305, 'python', ['groovy'], [20, 21], [31, 32], [41, 42]]]]\n",
      "105\n",
      "[201, 202, 203, 204, [304, 305, 305, 'python', ['groovy'], [20, 21], [31, 32], [41, 42]]]\n",
      "204\n",
      "203\n",
      "42\n",
      "42\n"
     ]
    }
   ],
   "source": [
    "a = [1,2,3,4,5,[101,102,103,105,[201,202,203,204,[304,305,305,\"python\",[\"groovy\"],[20,21],[31,32],[41,42]]]]]\n",
    "\n",
    "print(a[4])\n",
    "print(a[5])\n",
    "print(a[5][3])\n",
    "print(a[5][4])\n",
    "print(a[5][4][3])\n",
    "print(a[5][4][2])\n",
    "\n",
    "#42\n",
    "\n",
    "print(a[5][4][4][7][1])\n",
    "print(a[-1][-1][-1][-1][-1])\n"
   ]
  },
  {
   "cell_type": "markdown",
   "metadata": {},
   "source": [
    "## Tuple "
   ]
  },
  {
   "cell_type": "code",
   "execution_count": null,
   "metadata": {},
   "outputs": [],
   "source": [
    "#charact\n",
    "\n",
    "#Immutable Ds\n",
    "#Indexed or ordered \n",
    "#()"
   ]
  },
  {
   "cell_type": "code",
   "execution_count": 2,
   "metadata": {},
   "outputs": [
    {
     "name": "stdout",
     "output_type": "stream",
     "text": [
      "(12, 13, 14, 15)\n",
      "<class 'tuple'>\n"
     ]
    }
   ],
   "source": [
    "a = 12,13,14,15\n",
    "\n",
    "print(a)\n",
    "print(type(a))"
   ]
  },
  {
   "cell_type": "code",
   "execution_count": 4,
   "metadata": {},
   "outputs": [
    {
     "name": "stdout",
     "output_type": "stream",
     "text": [
      "(12,)\n",
      "<class 'tuple'>\n"
     ]
    }
   ],
   "source": [
    "a = (12,)\n",
    "\n",
    "print(a)\n",
    "print(type(a))"
   ]
  },
  {
   "cell_type": "code",
   "execution_count": 5,
   "metadata": {},
   "outputs": [
    {
     "name": "stdout",
     "output_type": "stream",
     "text": [
      "()\n",
      "<class 'tuple'>\n",
      "()\n",
      "<class 'tuple'>\n"
     ]
    }
   ],
   "source": [
    "#()\n",
    "\n",
    "#empty tuple\n",
    "\n",
    "\n",
    "tup = ()\n",
    "print(tup)\n",
    "print(type(tup))\n",
    "\n",
    "tup1 = tuple()\n",
    "print(tup1)\n",
    "print(type(tup1))"
   ]
  },
  {
   "cell_type": "code",
   "execution_count": 7,
   "metadata": {},
   "outputs": [
    {
     "name": "stdout",
     "output_type": "stream",
     "text": [
      "(5, 6)\n",
      "7\n",
      "4\n",
      "3\n"
     ]
    }
   ],
   "source": [
    "#Indexed or Ordered\n",
    "\n",
    "tup = (3,4,5,6,7)\n",
    "\n",
    "print(tup[2:4])\n",
    "print(tup[-1])\n",
    "print(tup[-4])\n",
    "print(tup[0])"
   ]
  },
  {
   "cell_type": "code",
   "execution_count": 10,
   "metadata": {},
   "outputs": [
    {
     "name": "stdout",
     "output_type": "stream",
     "text": [
      "[3, 4, 100, 6]\n"
     ]
    },
    {
     "ename": "TypeError",
     "evalue": "'tuple' object does not support item assignment",
     "output_type": "error",
     "traceback": [
      "\u001b[1;31m---------------------------------------------------------------------------\u001b[0m",
      "\u001b[1;31mTypeError\u001b[0m                                 Traceback (most recent call last)",
      "\u001b[1;32m<ipython-input-10-65d2b915c996>\u001b[0m in \u001b[0;36m<module>\u001b[1;34m\u001b[0m\n\u001b[0;32m      6\u001b[0m \u001b[1;33m\u001b[0m\u001b[0m\n\u001b[0;32m      7\u001b[0m \u001b[0mtup1\u001b[0m \u001b[1;33m=\u001b[0m \u001b[1;33m(\u001b[0m\u001b[1;36m3\u001b[0m\u001b[1;33m,\u001b[0m\u001b[1;36m4\u001b[0m\u001b[1;33m,\u001b[0m\u001b[1;36m5\u001b[0m\u001b[1;33m,\u001b[0m\u001b[1;36m6\u001b[0m\u001b[1;33m)\u001b[0m\u001b[1;33m\u001b[0m\u001b[1;33m\u001b[0m\u001b[0m\n\u001b[1;32m----> 8\u001b[1;33m \u001b[0mtup1\u001b[0m\u001b[1;33m[\u001b[0m\u001b[1;36m2\u001b[0m\u001b[1;33m]\u001b[0m \u001b[1;33m=\u001b[0m \u001b[1;36m100\u001b[0m\u001b[1;33m\u001b[0m\u001b[1;33m\u001b[0m\u001b[0m\n\u001b[0m\u001b[0;32m      9\u001b[0m \u001b[0mprint\u001b[0m\u001b[1;33m(\u001b[0m\u001b[0mtup1\u001b[0m\u001b[1;33m)\u001b[0m\u001b[1;33m\u001b[0m\u001b[1;33m\u001b[0m\u001b[0m\n",
      "\u001b[1;31mTypeError\u001b[0m: 'tuple' object does not support item assignment"
     ]
    }
   ],
   "source": [
    "#immutable\n",
    "\n",
    "Li1 = [3,4,5,6]\n",
    "Li1[2] = 100\n",
    "print(Li1)\n",
    "\n",
    "tup1 = (3,4,5,6)\n",
    "tup1[2] = 100\n",
    "print(tup1)"
   ]
  },
  {
   "cell_type": "code",
   "execution_count": 12,
   "metadata": {},
   "outputs": [
    {
     "name": "stdout",
     "output_type": "stream",
     "text": [
      "2\n"
     ]
    },
    {
     "ename": "ValueError",
     "evalue": "tuple.index(x): x not in tuple",
     "output_type": "error",
     "traceback": [
      "\u001b[1;31m---------------------------------------------------------------------------\u001b[0m",
      "\u001b[1;31mValueError\u001b[0m                                Traceback (most recent call last)",
      "\u001b[1;32m<ipython-input-12-5797ba57a02a>\u001b[0m in \u001b[0;36m<module>\u001b[1;34m\u001b[0m\n\u001b[0;32m      5\u001b[0m \u001b[0mtup1\u001b[0m \u001b[1;33m=\u001b[0m \u001b[1;33m(\u001b[0m\u001b[1;36m10\u001b[0m\u001b[1;33m,\u001b[0m\u001b[1;36m11\u001b[0m\u001b[1;33m,\u001b[0m\u001b[1;36m12\u001b[0m\u001b[1;33m,\u001b[0m\u001b[1;36m13\u001b[0m\u001b[1;33m)\u001b[0m\u001b[1;33m\u001b[0m\u001b[1;33m\u001b[0m\u001b[0m\n\u001b[0;32m      6\u001b[0m \u001b[0mprint\u001b[0m\u001b[1;33m(\u001b[0m\u001b[0mtup1\u001b[0m\u001b[1;33m.\u001b[0m\u001b[0mindex\u001b[0m\u001b[1;33m(\u001b[0m\u001b[1;36m12\u001b[0m\u001b[1;33m)\u001b[0m\u001b[1;33m)\u001b[0m\u001b[1;33m\u001b[0m\u001b[1;33m\u001b[0m\u001b[0m\n\u001b[1;32m----> 7\u001b[1;33m \u001b[0mprint\u001b[0m\u001b[1;33m(\u001b[0m\u001b[0mtup1\u001b[0m\u001b[1;33m.\u001b[0m\u001b[0mindex\u001b[0m\u001b[1;33m(\u001b[0m\u001b[1;36m0\u001b[0m\u001b[1;33m)\u001b[0m\u001b[1;33m)\u001b[0m\u001b[1;33m\u001b[0m\u001b[1;33m\u001b[0m\u001b[0m\n\u001b[0m",
      "\u001b[1;31mValueError\u001b[0m: tuple.index(x): x not in tuple"
     ]
    }
   ],
   "source": [
    "#Tuple Methods\n",
    "\n",
    "#index\n",
    "\n",
    "tup1 = (10,11,12,13)\n",
    "print(tup1.index(12))\n",
    "print(tup1.index(0))"
   ]
  },
  {
   "cell_type": "code",
   "execution_count": 13,
   "metadata": {},
   "outputs": [
    {
     "name": "stdout",
     "output_type": "stream",
     "text": [
      "2\n",
      "0\n"
     ]
    }
   ],
   "source": [
    "#count\n",
    "\n",
    "tup1 = (1,2,3,4,4,3,2,1,1,1,1)\n",
    "print(tup1.count(4))\n",
    "print(tup1.count(-2))"
   ]
  },
  {
   "cell_type": "code",
   "execution_count": 14,
   "metadata": {},
   "outputs": [
    {
     "name": "stdout",
     "output_type": "stream",
     "text": [
      "(1, 2, 3, 5, 6, 3, 4, 2, 5, 6, 7)\n",
      "(1, 2, 3, 5, 6, 3, 4, 2, 5, 6, 7, 10, 11, 12)\n"
     ]
    }
   ],
   "source": [
    "#concatenation\n",
    "\n",
    "tup1 = (1,2,3,5,6)\n",
    "tup2 = (3,4,2,5,6,7)\n",
    "\n",
    "tup1 = tup1 + tup2\n",
    "print(tup1)\n",
    "tup3 = tup1 + (10,11,12)\n",
    "print(tup3)\n"
   ]
  },
  {
   "cell_type": "code",
   "execution_count": 15,
   "metadata": {},
   "outputs": [
    {
     "name": "stdout",
     "output_type": "stream",
     "text": [
      "14\n"
     ]
    }
   ],
   "source": [
    "print(len(tup3))\n",
    "\n",
    "#function inbuilt function\n",
    "\n",
    "#method"
   ]
  },
  {
   "cell_type": "markdown",
   "metadata": {},
   "source": [
    "## Set"
   ]
  },
  {
   "cell_type": "code",
   "execution_count": null,
   "metadata": {},
   "outputs": [],
   "source": [
    "#Chara\n",
    "\n",
    "#{} and individual elements\n",
    "#unordered or no indexing\n",
    "#mutable \n",
    "#It doesn't support duplicates\n",
    "#Does not support + or concatenation"
   ]
  },
  {
   "cell_type": "code",
   "execution_count": 17,
   "metadata": {},
   "outputs": [
    {
     "name": "stdout",
     "output_type": "stream",
     "text": [
      "set()\n",
      "<class 'set'>\n",
      "{}\n",
      "<class 'dict'>\n"
     ]
    }
   ],
   "source": [
    "#Empty set\n",
    "\n",
    "set1 = set()\n",
    "print(set1)\n",
    "print(type(set1))\n",
    "\n",
    "set2 = {}\n",
    "print(set2)\n",
    "print(type(set2))"
   ]
  },
  {
   "cell_type": "code",
   "execution_count": 18,
   "metadata": {},
   "outputs": [
    {
     "ename": "TypeError",
     "evalue": "'set' object is not subscriptable",
     "output_type": "error",
     "traceback": [
      "\u001b[1;31m---------------------------------------------------------------------------\u001b[0m",
      "\u001b[1;31mTypeError\u001b[0m                                 Traceback (most recent call last)",
      "\u001b[1;32m<ipython-input-18-cca6c1495f35>\u001b[0m in \u001b[0;36m<module>\u001b[1;34m\u001b[0m\n\u001b[0;32m      1\u001b[0m \u001b[0mset1\u001b[0m \u001b[1;33m=\u001b[0m \u001b[1;33m{\u001b[0m\u001b[1;36m2\u001b[0m\u001b[1;33m,\u001b[0m\u001b[1;36m3\u001b[0m\u001b[1;33m,\u001b[0m\u001b[1;36m4\u001b[0m\u001b[1;33m,\u001b[0m\u001b[1;36m5\u001b[0m\u001b[1;33m}\u001b[0m\u001b[1;33m\u001b[0m\u001b[1;33m\u001b[0m\u001b[0m\n\u001b[1;32m----> 2\u001b[1;33m \u001b[0mprint\u001b[0m\u001b[1;33m(\u001b[0m\u001b[0mset1\u001b[0m\u001b[1;33m[\u001b[0m\u001b[1;36m0\u001b[0m\u001b[1;33m]\u001b[0m\u001b[1;33m)\u001b[0m\u001b[1;33m\u001b[0m\u001b[1;33m\u001b[0m\u001b[0m\n\u001b[0m\u001b[0;32m      3\u001b[0m \u001b[0mprint\u001b[0m\u001b[1;33m(\u001b[0m\u001b[0mset1\u001b[0m\u001b[1;33m[\u001b[0m\u001b[1;33m-\u001b[0m\u001b[1;36m1\u001b[0m\u001b[1;33m]\u001b[0m\u001b[1;33m)\u001b[0m\u001b[1;33m\u001b[0m\u001b[1;33m\u001b[0m\u001b[0m\n",
      "\u001b[1;31mTypeError\u001b[0m: 'set' object is not subscriptable"
     ]
    }
   ],
   "source": [
    "set1 = {2,3,4,5}\n",
    "print(set1[0])\n",
    "print(set1[-1])"
   ]
  },
  {
   "cell_type": "code",
   "execution_count": 19,
   "metadata": {},
   "outputs": [
    {
     "name": "stdout",
     "output_type": "stream",
     "text": [
      "{1, 2, 3, 4, 5, 6}\n"
     ]
    }
   ],
   "source": [
    "set1 = {1,1,2,3,4,5,6,3,4,4,5}\n",
    "\n",
    "print(set1)\n",
    "\n",
    "#set allows only unique values\n"
   ]
  },
  {
   "cell_type": "code",
   "execution_count": null,
   "metadata": {},
   "outputs": [],
   "source": [
    "#union\n",
    "#intersection\n",
    "#difference\n",
    "#subset\n",
    "#symmetric difference\n",
    "#super set\n",
    "#Disjoint\n",
    "#\n",
    "\n",
    "#https://www.w3schools.com/python/python_ref_set.asp"
   ]
  },
  {
   "cell_type": "code",
   "execution_count": 11,
   "metadata": {},
   "outputs": [
    {
     "name": "stdout",
     "output_type": "stream",
     "text": [
      "{1, 2, 3, 4, 5, 6, 7}\n",
      "<class 'set'>\n",
      "{1, 2, 3, 4, 5, 6, 7, 10}\n"
     ]
    }
   ],
   "source": [
    "#add #adding one element to set (no position or index value)\n",
    "\n",
    "a = {2,3,4,5,6,7,1,2,3}\n",
    "\n",
    "print(a)\n",
    "print(type(a))\n",
    "\n",
    "a.add(10)\n",
    "a.add(5)\n",
    "\n",
    "print(a)"
   ]
  },
  {
   "cell_type": "code",
   "execution_count": 14,
   "metadata": {},
   "outputs": [
    {
     "name": "stdout",
     "output_type": "stream",
     "text": [
      "{3, 5, 6}\n"
     ]
    },
    {
     "ename": "KeyError",
     "evalue": "10",
     "output_type": "error",
     "traceback": [
      "\u001b[1;31m---------------------------------------------------------------------------\u001b[0m",
      "\u001b[1;31mKeyError\u001b[0m                                  Traceback (most recent call last)",
      "\u001b[1;32m<ipython-input-14-66c8844c8eea>\u001b[0m in \u001b[0;36m<module>\u001b[1;34m\u001b[0m\n\u001b[0;32m      3\u001b[0m \u001b[0ma\u001b[0m\u001b[1;33m.\u001b[0m\u001b[0mremove\u001b[0m\u001b[1;33m(\u001b[0m\u001b[1;36m4\u001b[0m\u001b[1;33m)\u001b[0m\u001b[1;33m\u001b[0m\u001b[1;33m\u001b[0m\u001b[0m\n\u001b[0;32m      4\u001b[0m \u001b[0mprint\u001b[0m\u001b[1;33m(\u001b[0m\u001b[0ma\u001b[0m\u001b[1;33m)\u001b[0m\u001b[1;33m\u001b[0m\u001b[1;33m\u001b[0m\u001b[0m\n\u001b[1;32m----> 5\u001b[1;33m \u001b[0ma\u001b[0m\u001b[1;33m.\u001b[0m\u001b[0mremove\u001b[0m\u001b[1;33m(\u001b[0m\u001b[1;36m10\u001b[0m\u001b[1;33m)\u001b[0m\u001b[1;33m\u001b[0m\u001b[1;33m\u001b[0m\u001b[0m\n\u001b[0m\u001b[0;32m      6\u001b[0m \u001b[1;33m\u001b[0m\u001b[0m\n\u001b[0;32m      7\u001b[0m \u001b[0mprint\u001b[0m\u001b[1;33m(\u001b[0m\u001b[0ma\u001b[0m\u001b[1;33m)\u001b[0m\u001b[1;33m\u001b[0m\u001b[1;33m\u001b[0m\u001b[0m\n",
      "\u001b[1;31mKeyError\u001b[0m: 10"
     ]
    }
   ],
   "source": [
    "a = {3,4,5,6}\n",
    "\n",
    "a.remove(4)\n",
    "print(a)\n",
    "a.remove(10)\n",
    "\n",
    "print(a)"
   ]
  },
  {
   "cell_type": "code",
   "execution_count": 16,
   "metadata": {},
   "outputs": [
    {
     "name": "stdout",
     "output_type": "stream",
     "text": [
      "{3, 5, 6}\n",
      "{3, 5, 6}\n"
     ]
    }
   ],
   "source": [
    "a = {3,4,5,6}\n",
    "\n",
    "a.discard(4)\n",
    "print(a)\n",
    "a.discard(10)\n",
    "\n",
    "print(a)"
   ]
  },
  {
   "cell_type": "code",
   "execution_count": 18,
   "metadata": {},
   "outputs": [
    {
     "name": "stdout",
     "output_type": "stream",
     "text": [
      "{4, 5, 6}\n"
     ]
    },
    {
     "ename": "TypeError",
     "evalue": "pop() takes no arguments (1 given)",
     "output_type": "error",
     "traceback": [
      "\u001b[1;31m---------------------------------------------------------------------------\u001b[0m",
      "\u001b[1;31mTypeError\u001b[0m                                 Traceback (most recent call last)",
      "\u001b[1;32m<ipython-input-18-06dcbb981547>\u001b[0m in \u001b[0;36m<module>\u001b[1;34m\u001b[0m\n\u001b[0;32m      7\u001b[0m \u001b[0mprint\u001b[0m\u001b[1;33m(\u001b[0m\u001b[0mb\u001b[0m\u001b[1;33m)\u001b[0m\u001b[1;33m\u001b[0m\u001b[1;33m\u001b[0m\u001b[0m\n\u001b[0;32m      8\u001b[0m \u001b[1;33m\u001b[0m\u001b[0m\n\u001b[1;32m----> 9\u001b[1;33m \u001b[0mb\u001b[0m\u001b[1;33m.\u001b[0m\u001b[0mpop\u001b[0m\u001b[1;33m(\u001b[0m\u001b[1;36m4\u001b[0m\u001b[1;33m)\u001b[0m\u001b[1;33m\u001b[0m\u001b[1;33m\u001b[0m\u001b[0m\n\u001b[0m\u001b[0;32m     10\u001b[0m \u001b[0mprint\u001b[0m\u001b[1;33m(\u001b[0m\u001b[0mb\u001b[0m\u001b[1;33m)\u001b[0m\u001b[1;33m\u001b[0m\u001b[1;33m\u001b[0m\u001b[0m\n",
      "\u001b[1;31mTypeError\u001b[0m: pop() takes no arguments (1 given)"
     ]
    }
   ],
   "source": [
    "#pop #remove random element from set\n",
    "\n",
    "\n",
    "b = {3,4,5,6}\n",
    "\n",
    "b.pop()\n",
    "print(b)\n",
    "\n",
    "b.pop(4)\n",
    "print(b)"
   ]
  },
  {
   "cell_type": "code",
   "execution_count": 19,
   "metadata": {},
   "outputs": [
    {
     "name": "stdout",
     "output_type": "stream",
     "text": [
      "set()\n"
     ]
    }
   ],
   "source": [
    "#clear\n",
    "\n",
    "a = {3,4,5,2,1}\n",
    "a.clear()\n",
    "\n",
    "print(a)"
   ]
  },
  {
   "cell_type": "code",
   "execution_count": 21,
   "metadata": {},
   "outputs": [
    {
     "name": "stdout",
     "output_type": "stream",
     "text": [
      "[]\n"
     ]
    }
   ],
   "source": [
    "a = [3,4,5,2,1]\n",
    "a.clear()\n",
    "\n",
    "print(a)"
   ]
  },
  {
   "cell_type": "code",
   "execution_count": 23,
   "metadata": {},
   "outputs": [
    {
     "name": "stdout",
     "output_type": "stream",
     "text": [
      "{3, 4, 5, 6, 10}\n",
      "{3, 4, 5, 6, 10}\n",
      "{3, 4, 5, 6, 100, 10}\n"
     ]
    }
   ],
   "source": [
    "#copy\n",
    "\n",
    "a = {3,4,5,6,10}\n",
    "\n",
    "b = a.copy()\n",
    "\n",
    "print(b)\n",
    "\n",
    "b.add(100)\n",
    "\n",
    "print(a)\n",
    "print(b)"
   ]
  },
  {
   "cell_type": "code",
   "execution_count": 7,
   "metadata": {},
   "outputs": [
    {
     "name": "stdout",
     "output_type": "stream",
     "text": [
      "None\n",
      "{0, 1, 2, 3, 4, 5, 6, 7, 8}\n"
     ]
    }
   ],
   "source": [
    "#update\n",
    "\n",
    "a = {3,4,5,2,1,0}\n",
    "b = {6,7,8,3,2,1}\n",
    "\n",
    "a.update(b)\n",
    "\n",
    "print(a)"
   ]
  },
  {
   "cell_type": "code",
   "execution_count": 25,
   "metadata": {},
   "outputs": [
    {
     "name": "stdout",
     "output_type": "stream",
     "text": [
      "[1, 2, 3, 4, 5, 6, 7, 8]\n"
     ]
    },
    {
     "ename": "TypeError",
     "evalue": "unsupported operand type(s) for +: 'set' and 'set'",
     "output_type": "error",
     "traceback": [
      "\u001b[1;31m---------------------------------------------------------------------------\u001b[0m",
      "\u001b[1;31mTypeError\u001b[0m                                 Traceback (most recent call last)",
      "\u001b[1;32m<ipython-input-25-7b02042e6e11>\u001b[0m in \u001b[0;36m<module>\u001b[1;34m\u001b[0m\n\u001b[0;32m      1\u001b[0m \u001b[0mprint\u001b[0m\u001b[1;33m(\u001b[0m\u001b[1;33m[\u001b[0m\u001b[1;36m1\u001b[0m\u001b[1;33m,\u001b[0m\u001b[1;36m2\u001b[0m\u001b[1;33m,\u001b[0m\u001b[1;36m3\u001b[0m\u001b[1;33m,\u001b[0m\u001b[1;36m4\u001b[0m\u001b[1;33m]\u001b[0m \u001b[1;33m+\u001b[0m \u001b[1;33m[\u001b[0m\u001b[1;36m5\u001b[0m\u001b[1;33m,\u001b[0m\u001b[1;36m6\u001b[0m\u001b[1;33m,\u001b[0m\u001b[1;36m7\u001b[0m\u001b[1;33m,\u001b[0m\u001b[1;36m8\u001b[0m\u001b[1;33m]\u001b[0m\u001b[1;33m)\u001b[0m\u001b[1;33m\u001b[0m\u001b[1;33m\u001b[0m\u001b[0m\n\u001b[1;32m----> 2\u001b[1;33m \u001b[0mprint\u001b[0m\u001b[1;33m(\u001b[0m\u001b[1;33m{\u001b[0m\u001b[1;36m2\u001b[0m\u001b[1;33m,\u001b[0m\u001b[1;36m3\u001b[0m\u001b[1;33m,\u001b[0m\u001b[1;36m4\u001b[0m\u001b[1;33m,\u001b[0m\u001b[1;36m5\u001b[0m\u001b[1;33m}\u001b[0m \u001b[1;33m+\u001b[0m \u001b[1;33m{\u001b[0m\u001b[1;36m6\u001b[0m\u001b[1;33m,\u001b[0m\u001b[1;36m7\u001b[0m\u001b[1;33m,\u001b[0m\u001b[1;36m5\u001b[0m\u001b[1;33m,\u001b[0m\u001b[1;36m4\u001b[0m\u001b[1;33m}\u001b[0m\u001b[1;33m)\u001b[0m\u001b[1;33m\u001b[0m\u001b[1;33m\u001b[0m\u001b[0m\n\u001b[0m",
      "\u001b[1;31mTypeError\u001b[0m: unsupported operand type(s) for +: 'set' and 'set'"
     ]
    }
   ],
   "source": [
    "print([1,2,3,4] + [5,6,7,8])\n",
    "print({2,3,4,5} + {6,7,5,4})\n",
    "\n",
    "#Linked list"
   ]
  },
  {
   "cell_type": "code",
   "execution_count": null,
   "metadata": {},
   "outputs": [],
   "source": [
    "#union\n",
    "#intersection\n",
    "#difference\n",
    "#subset\n",
    "#symmetric difference\n",
    "#super set\n",
    "#Disjoint\n",
    "\n"
   ]
  },
  {
   "cell_type": "code",
   "execution_count": 28,
   "metadata": {},
   "outputs": [
    {
     "name": "stdout",
     "output_type": "stream",
     "text": [
      "{3, 4, 5, 6, 10, 11, 12, 13, 15}\n"
     ]
    }
   ],
   "source": [
    "a = {3,4,5,6,10}\n",
    "b = {4,10,11,12,13,15,5}\n",
    "\n",
    "c = a.union(b)\n",
    "\n",
    "print(c)"
   ]
  },
  {
   "cell_type": "code",
   "execution_count": 29,
   "metadata": {},
   "outputs": [
    {
     "name": "stdout",
     "output_type": "stream",
     "text": [
      "{10, 4, 5}\n"
     ]
    }
   ],
   "source": [
    "a = {3,4,5,6,10}\n",
    "b = {4,10,11,12,13,15,5}\n",
    "\n",
    "c = a.intersection(b)\n",
    "\n",
    "print(c)"
   ]
  },
  {
   "cell_type": "code",
   "execution_count": 30,
   "metadata": {},
   "outputs": [
    {
     "name": "stdout",
     "output_type": "stream",
     "text": [
      "{10, 4, 5}\n"
     ]
    }
   ],
   "source": [
    "a = {3,4,5,6,10}\n",
    "b = {4,10,11,12,13,15,5}\n",
    "\n",
    "a.intersection_update(b)\n",
    "\n",
    "print(c)"
   ]
  },
  {
   "cell_type": "code",
   "execution_count": 31,
   "metadata": {},
   "outputs": [
    {
     "name": "stdout",
     "output_type": "stream",
     "text": [
      "{3, 6}\n"
     ]
    }
   ],
   "source": [
    "a = {3,4,5,6,10}\n",
    "b = {4,10,11,12,13,15,5}\n",
    "\n",
    "c = a.difference(b)\n",
    "\n",
    "print(c)"
   ]
  },
  {
   "cell_type": "code",
   "execution_count": 32,
   "metadata": {},
   "outputs": [
    {
     "name": "stdout",
     "output_type": "stream",
     "text": [
      "{3, 6}\n"
     ]
    }
   ],
   "source": [
    "a = {3,4,5,6,10}\n",
    "b = {4,10,11,12,13,15,5}\n",
    "\n",
    "a.difference_update(b)\n",
    "\n",
    "print(a)"
   ]
  },
  {
   "cell_type": "code",
   "execution_count": 33,
   "metadata": {},
   "outputs": [
    {
     "name": "stdout",
     "output_type": "stream",
     "text": [
      "{11, 12, 13, 15}\n"
     ]
    }
   ],
   "source": [
    "a = {3,4,5,6,10}\n",
    "b = {4,10,11,12,13,15,5}\n",
    "\n",
    "c = b.difference(a)\n",
    "\n",
    "print(c)"
   ]
  },
  {
   "cell_type": "code",
   "execution_count": 35,
   "metadata": {},
   "outputs": [
    {
     "name": "stdout",
     "output_type": "stream",
     "text": [
      "{3, 6, 11, 12, 13, 15}\n"
     ]
    }
   ],
   "source": [
    "#symmetric difference (Union) - (Intersection)\n",
    "\n",
    "a = {3,4,5,6,10}\n",
    "b = {4,10,11,12,13,15,5}\n",
    "\n",
    "c = a.symmetric_difference(b)\n",
    "\n",
    "print(c)"
   ]
  },
  {
   "cell_type": "code",
   "execution_count": 36,
   "metadata": {},
   "outputs": [
    {
     "name": "stdout",
     "output_type": "stream",
     "text": [
      "{3, 6, 11, 12, 13, 15}\n"
     ]
    }
   ],
   "source": [
    "a = {3,4,5,6,10}\n",
    "b = {4,10,11,12,13,15,5}\n",
    "\n",
    "a.symmetric_difference_update(b)\n",
    "\n",
    "print(a)\n",
    "\n",
    "\n",
    "#isdisjoint\n",
    "#issuperset\n",
    "#issubset"
   ]
  },
  {
   "cell_type": "markdown",
   "metadata": {},
   "source": [
    "## Dictionary Methods"
   ]
  },
  {
   "cell_type": "code",
   "execution_count": 1,
   "metadata": {},
   "outputs": [
    {
     "name": "stdout",
     "output_type": "stream",
     "text": [
      "{}\n",
      "<class 'dict'>\n",
      "{}\n",
      "<class 'dict'>\n"
     ]
    }
   ],
   "source": [
    "#empty dictionary\n",
    "\n",
    "dict1 = {}\n",
    "\n",
    "print(dict1)\n",
    "print(type(dict1))\n",
    "\n",
    "dict2 = dict()\n",
    "\n",
    "print(dict2)\n",
    "print(type(dict2))"
   ]
  },
  {
   "cell_type": "code",
   "execution_count": 3,
   "metadata": {},
   "outputs": [
    {
     "name": "stdout",
     "output_type": "stream",
     "text": [
      "{True, 2, 3, 4, 'groovy', 'go', 'python'}\n",
      "<class 'set'>\n",
      "{1: 1, 2: 'python', 3: 'go', 4: 5.5, 10: False, -2: True}\n",
      "<class 'dict'>\n"
     ]
    }
   ],
   "source": [
    "#{}\n",
    "\n",
    "\n",
    "dict1 = {2,3,4,\"python\", \"groovy\", \"go\", True}\n",
    "\n",
    "print(dict1)\n",
    "print(type(dict1))\n",
    "\n",
    "dict2 = {1: 1, 2:\"python\", 3:\"go\", 4:5.5, 10:False, -2:True}\n",
    "print(dict2)\n",
    "print(type(dict2))"
   ]
  },
  {
   "cell_type": "code",
   "execution_count": 4,
   "metadata": {},
   "outputs": [
    {
     "name": "stdout",
     "output_type": "stream",
     "text": [
      "{1: 'grrovy', 2: 'python', 3: 'go', 4: 'python', 10: False, -2: True}\n",
      "<class 'dict'>\n"
     ]
    }
   ],
   "source": [
    "#Key should be unique, value can be anything\n",
    "\n",
    "dict2 = {1: 1, 2:\"python\", 3:\"go\", 4:5.5, 10:False, -2:True, 1:\"grrovy\", 4:\"python\"}\n",
    "print(dict2)\n",
    "print(type(dict2))\n"
   ]
  },
  {
   "cell_type": "code",
   "execution_count": 7,
   "metadata": {},
   "outputs": [
    {
     "name": "stdout",
     "output_type": "stream",
     "text": [
      "{1: 1, 2: 'python', 3: 'go', 4: 5.5, 10: False, -2: True}\n",
      "<class 'dict'>\n",
      "python\n"
     ]
    }
   ],
   "source": [
    "#indexing ==> No indexing or ordering\n",
    "\n",
    "#Index ===> key\n",
    "\n",
    "\n",
    "dict2 = {1: 1, 2:\"python\", 3:\"go\", 4:5.5, 10:False, -2:True}\n",
    "print(dict2)\n",
    "print(type(dict2))\n",
    "print(dict2[2])"
   ]
  },
  {
   "cell_type": "code",
   "execution_count": 8,
   "metadata": {},
   "outputs": [
    {
     "ename": "TypeError",
     "evalue": "unsupported operand type(s) for +: 'dict' and 'dict'",
     "output_type": "error",
     "traceback": [
      "\u001b[1;31m---------------------------------------------------------------------------\u001b[0m",
      "\u001b[1;31mTypeError\u001b[0m                                 Traceback (most recent call last)",
      "\u001b[1;32m<ipython-input-8-238b8a884e07>\u001b[0m in \u001b[0;36m<module>\u001b[1;34m\u001b[0m\n\u001b[0;32m      5\u001b[0m \u001b[0mdict3\u001b[0m \u001b[1;33m=\u001b[0m \u001b[1;33m{\u001b[0m\u001b[1;36m1\u001b[0m\u001b[1;33m:\u001b[0m \u001b[1;36m1\u001b[0m\u001b[1;33m,\u001b[0m \u001b[1;36m2\u001b[0m\u001b[1;33m:\u001b[0m\u001b[1;34m\"python\"\u001b[0m\u001b[1;33m,\u001b[0m \u001b[1;36m30\u001b[0m\u001b[1;33m:\u001b[0m\u001b[1;34m\"go\"\u001b[0m\u001b[1;33m,\u001b[0m \u001b[1;36m4\u001b[0m\u001b[1;33m:\u001b[0m\u001b[1;36m5.5\u001b[0m\u001b[1;33m,\u001b[0m \u001b[1;36m11\u001b[0m\u001b[1;33m:\u001b[0m\u001b[1;32mFalse\u001b[0m\u001b[1;33m,\u001b[0m \u001b[1;33m-\u001b[0m\u001b[1;36m2\u001b[0m\u001b[1;33m:\u001b[0m\u001b[1;32mTrue\u001b[0m\u001b[1;33m}\u001b[0m\u001b[1;33m\u001b[0m\u001b[1;33m\u001b[0m\u001b[0m\n\u001b[0;32m      6\u001b[0m \u001b[1;33m\u001b[0m\u001b[0m\n\u001b[1;32m----> 7\u001b[1;33m \u001b[0mprint\u001b[0m\u001b[1;33m(\u001b[0m\u001b[0mdict2\u001b[0m \u001b[1;33m+\u001b[0m \u001b[0mdict3\u001b[0m\u001b[1;33m)\u001b[0m\u001b[1;33m\u001b[0m\u001b[1;33m\u001b[0m\u001b[0m\n\u001b[0m",
      "\u001b[1;31mTypeError\u001b[0m: unsupported operand type(s) for +: 'dict' and 'dict'"
     ]
    }
   ],
   "source": [
    "#Concatenation\n",
    "\n",
    "dict2 = {1: 1, 2:\"python\", 3:\"go\", 4:5.5, 10:False, -2:True}\n",
    "\n",
    "dict3 = {1: 1, 2:\"python\", 30:\"go\", 4:5.5, 11:False, -2:True}\n",
    "\n",
    "print(dict2 + dict3)"
   ]
  },
  {
   "cell_type": "code",
   "execution_count": 9,
   "metadata": {},
   "outputs": [
    {
     "name": "stdout",
     "output_type": "stream",
     "text": [
      "False\n"
     ]
    }
   ],
   "source": [
    "#accessing values\n",
    "\n",
    "dict2 = {1: 1, 2:\"python\", 3:\"go\", 4:5.5, 10:False, -2:True}\n",
    "\n",
    "print(dict2[10])"
   ]
  },
  {
   "cell_type": "code",
   "execution_count": 11,
   "metadata": {},
   "outputs": [
    {
     "name": "stdout",
     "output_type": "stream",
     "text": [
      "{1: 1, 2: 'welcome', 3: 'go', 4: 5.5, 10: False, -2: True, 11: 'december'}\n"
     ]
    }
   ],
   "source": [
    "#replacement or overwrite or value addition\n",
    "\n",
    "dict2 = {1: 1, 2:\"python\", 3:\"go\", 4:5.5, 10:False, -2:True}\n",
    "\n",
    "dict2[2] = \"welcome\" #replacement\n",
    "\n",
    "dict2[11] = \"december\" #addition\n",
    "print(dict2)\n",
    "\n"
   ]
  },
  {
   "cell_type": "code",
   "execution_count": 12,
   "metadata": {},
   "outputs": [
    {
     "name": "stdout",
     "output_type": "stream",
     "text": [
      "False\n",
      "False\n"
     ]
    }
   ],
   "source": [
    "#get\n",
    "\n",
    "dict2 = {1: 1, 2:\"python\", 3:\"go\", 4:5.5, 10:False, -2:True}\n",
    "\n",
    "print(dict2[10])\n",
    "print(dict2.get(10))"
   ]
  },
  {
   "cell_type": "code",
   "execution_count": 14,
   "metadata": {},
   "outputs": [
    {
     "name": "stdout",
     "output_type": "stream",
     "text": [
      "{1: 1, 2: 'python', 3: 'go', 4: 5.5, 10: False}\n"
     ]
    }
   ],
   "source": [
    "#pop ==> removing one key value\n",
    "\n",
    "dict2 = {1: 1, 2:\"python\", 3:\"go\", 4:5.5, 10:False, -2:True}\n",
    "\n",
    "dict2.pop(-2)\n",
    "\n",
    "print(dict2)"
   ]
  },
  {
   "cell_type": "code",
   "execution_count": 15,
   "metadata": {},
   "outputs": [
    {
     "name": "stdout",
     "output_type": "stream",
     "text": [
      "{1: 1, 2: 'python', 3: 'go', 4: 5.5, 10: False}\n"
     ]
    }
   ],
   "source": [
    "#pop item  # removing random element from dictionary\n",
    "\n",
    "\n",
    "\n",
    "dict2 = {1: 1, 2:\"python\", 3:\"go\", 4:5.5, 10:False, -2:True}\n",
    "\n",
    "dict2.popitem()\n",
    "\n",
    "print(dict2)\n"
   ]
  },
  {
   "cell_type": "code",
   "execution_count": 16,
   "metadata": {},
   "outputs": [
    {
     "name": "stdout",
     "output_type": "stream",
     "text": [
      "{1: 1, 2: 'python', 3: 'go', 4: 5.5, 10: False, -2: True, 9: 1, 8: 'python', 13: 'go', 14: 5.5}\n"
     ]
    }
   ],
   "source": [
    "dict2 = {1: 1, 2:\"python\", 3:\"go\", 4:5.5, 10:False, -2:True}\n",
    "\n",
    "dict3 = {9: 1, 8:\"python\", 13:\"go\", 14:5.5, 10:False, -2:True}\n",
    "\n",
    "dict2.update(dict3)\n",
    "print(dict2)"
   ]
  },
  {
   "cell_type": "code",
   "execution_count": 17,
   "metadata": {},
   "outputs": [
    {
     "name": "stdout",
     "output_type": "stream",
     "text": [
      "dict_keys([1, 2, 3, 4, 10, -2])\n",
      "dict_values([1, 'python', 'go', 5.5, False, True])\n",
      "dict_items([(1, 1), (2, 'python'), (3, 'go'), (4, 5.5), (10, False), (-2, True)])\n"
     ]
    }
   ],
   "source": [
    "#accessing elements\n",
    "\n",
    "#Loops\n",
    "\n",
    "dict2 = {1: 1, 2:\"python\", 3:\"go\", 4:5.5, 10:False, -2:True}\n",
    "\n",
    "\n",
    "print(dict2.keys())\n",
    "print(dict2.values())\n",
    "print(dict2.items())"
   ]
  },
  {
   "cell_type": "code",
   "execution_count": 23,
   "metadata": {},
   "outputs": [
    {
     "name": "stdout",
     "output_type": "stream",
     "text": [
      "[1, 2, 3, 4, 5, {1, 2, 3, 4}, (3, 4, 2)]\n",
      "<class 'list'>\n",
      "{1: 1, 2: 'python', 3: 'go', 4: 5.5, 'cal': [1, 2, 3, 4, 5, {1, 2, 3, 4}, (3, 4, 2)], -2: True}\n"
     ]
    }
   ],
   "source": [
    "\n",
    "dict2 = {1: 1, 2:\"python\", 3:\"go\", 4:5.5, \"cal\":[1,2,3,4,5,{1,2,3,4},(3,4,2)], -2:True}\n",
    "\n",
    "print(dict2[\"cal\"])\n",
    "\n",
    "print(type(dict2[\"cal\"]))\n",
    "print(dict2)\n"
   ]
  },
  {
   "cell_type": "code",
   "execution_count": 9,
   "metadata": {},
   "outputs": [
    {
     "name": "stdout",
     "output_type": "stream",
     "text": [
      "{1: 1, 2: 'python', 3: 'go', 4: 5.5, 10: [1, 2, 3, 4, 5, {1, 2, 3, 4}, (3, 4, 2)], -2: True}\n"
     ]
    }
   ],
   "source": [
    "dict2 = {1: 1, 2:\"python\", 3:\"go\", 4:5.5, 10:[1,2,3,4,5,{1,2,3,4},(3,4,2)], -2:True}\n",
    "print(dict2)\n",
    "\n"
   ]
  },
  {
   "cell_type": "code",
   "execution_count": 24,
   "metadata": {},
   "outputs": [
    {
     "name": "stdout",
     "output_type": "stream",
     "text": [
      "{}\n"
     ]
    }
   ],
   "source": [
    "#clear\n",
    "\n",
    "dict2 = {1: 1, 2:\"python\", 3:\"go\", 4:5.5, 10:[1,2,3,4,5,10], -2:True}\n",
    "\n",
    "dict2.clear()\n",
    "print(dict2)"
   ]
  },
  {
   "cell_type": "code",
   "execution_count": 25,
   "metadata": {},
   "outputs": [
    {
     "name": "stdout",
     "output_type": "stream",
     "text": [
      "{}\n"
     ]
    }
   ],
   "source": [
    "#copy\n",
    "\n",
    "dict3 = dict2.copy()\n",
    "print(dict3)"
   ]
  },
  {
   "cell_type": "markdown",
   "metadata": {},
   "source": [
    "## Nested Data structure"
   ]
  },
  {
   "cell_type": "code",
   "execution_count": 31,
   "metadata": {},
   "outputs": [
    {
     "name": "stdout",
     "output_type": "stream",
     "text": [
      "{1: 1, 2: 'python', 3: 'go', 4: 5.5, 'cal': [1, 2, 3, 4, 5, {1, 2, 3, 4}, (3, 4, 2)], -2: True}\n",
      "python\n",
      "on\n",
      "True\n",
      "{1, 2, 3, 4}\n",
      "(3, 4, 2)\n",
      "(3, 4, 2)\n",
      "3\n"
     ]
    }
   ],
   "source": [
    "dict2 = {1: 1, 2:\"python\", 3:\"go\", 4:5.5, \"cal\":[1,2,3,4,5,{1,2,3,4},(3,4,2)], -2:True}\n",
    "\n",
    "print(dict2)\n",
    "\n",
    "#python\n",
    "\n",
    "print(dict2[2])\n",
    "#on\n",
    "\n",
    "print(dict2[2][-2:])\n",
    "#True\n",
    "\n",
    "print(dict2[-2])\n",
    "#{1,2,3,4}\n",
    "\n",
    "print(dict2[\"cal\"][5])\n",
    "#(3,4,2)\n",
    "print(dict2[\"cal\"][6])\n",
    "\n",
    "print(dict2[\"cal\"][-1])\n",
    "\n",
    "\n",
    "\n",
    "#3 in tuple\n",
    "\n",
    "print(dict2[\"cal\"][6][0])\n"
   ]
  },
  {
   "cell_type": "code",
   "execution_count": null,
   "metadata": {},
   "outputs": [],
   "source": [
    "a = [5,6,7,3,2,1,0,3]\n",
    "\n",
    "#even \n",
    "#[0,1,2,3,3,5,6,7]\n",
    "#Identify middle two elements\n",
    "#Find average of two elements\n",
    "#3+3/2 ===> 3\n",
    "\n",
    "\n"
   ]
  },
  {
   "cell_type": "code",
   "execution_count": null,
   "metadata": {},
   "outputs": [],
   "source": [
    "a = [5,6,7,3,2,1,0,3,10]\n",
    "\n",
    "#Odd\n",
    "#sort it\n",
    "\n",
    "#[0,1,2,3,3,5,6,7,10]\n",
    "#identify the middle element ===> 3"
   ]
  },
  {
   "cell_type": "code",
   "execution_count": null,
   "metadata": {},
   "outputs": [],
   "source": []
  },
  {
   "cell_type": "code",
   "execution_count": null,
   "metadata": {},
   "outputs": [],
   "source": []
  },
  {
   "cell_type": "code",
   "execution_count": 1,
   "metadata": {},
   "outputs": [
    {
     "name": "stdout",
     "output_type": "stream",
     "text": [
      "(1, 2, 3, 4, 0, -9, 3, 4, 5, 2)\n",
      "{0, 1, 2, 3, 4, 5, -9}\n"
     ]
    }
   ],
   "source": [
    "#Conversion of tuple to list\n",
    "#list to tuple\n",
    "\n",
    "\n",
    "a = [1,2,3,4,0,-9,3,4,5,2]\n",
    "\n",
    "print(tuple(a))\n",
    "print(set(a))\n",
    "\n"
   ]
  },
  {
   "cell_type": "code",
   "execution_count": 3,
   "metadata": {},
   "outputs": [
    {
     "name": "stdout",
     "output_type": "stream",
     "text": [
      "{1: ['english', 'maths', 'science'], 2: [10, 20, 30], 3: ['bio-botany', 'bio-zoology', 'Algebra']}\n",
      "[10, 20, 30]\n"
     ]
    }
   ],
   "source": [
    "dict1 = {1:[\"english\",\"maths\",\"science\"], 2:[10,20,30], 3:[\"bio-botany\",\"bio-zoology\",\"Algebra\"]}\n",
    "\n",
    "print(dict1)\n",
    "print(dict1[2])"
   ]
  },
  {
   "cell_type": "code",
   "execution_count": 6,
   "metadata": {},
   "outputs": [
    {
     "name": "stdout",
     "output_type": "stream",
     "text": [
      "65\n",
      "90\n",
      "d\n"
     ]
    }
   ],
   "source": [
    "print(ord(\"A\"))\n",
    "print(ord(\"Z\"))\n",
    "\n",
    "#chr\n",
    "\n",
    "print(chr(100))"
   ]
  },
  {
   "cell_type": "code",
   "execution_count": null,
   "metadata": {},
   "outputs": [],
   "source": []
  },
  {
   "cell_type": "code",
   "execution_count": null,
   "metadata": {},
   "outputs": [],
   "source": []
  },
  {
   "cell_type": "code",
   "execution_count": null,
   "metadata": {},
   "outputs": [],
   "source": []
  }
 ],
 "metadata": {
  "kernelspec": {
   "display_name": "Python 3",
   "language": "python",
   "name": "python3"
  },
  "language_info": {
   "codemirror_mode": {
    "name": "ipython",
    "version": 3
   },
   "file_extension": ".py",
   "mimetype": "text/x-python",
   "name": "python",
   "nbconvert_exporter": "python",
   "pygments_lexer": "ipython3",
   "version": "3.7.6"
  }
 },
 "nbformat": 4,
 "nbformat_minor": 4
}
