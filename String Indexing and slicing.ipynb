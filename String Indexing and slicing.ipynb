{
 "cells": [
  {
   "cell_type": "code",
   "execution_count": 1,
   "metadata": {},
   "outputs": [
    {
     "name": "stdout",
     "output_type": "stream",
     "text": [
      "er_sc\n"
     ]
    }
   ],
   "source": [
    "#Type1 \n",
    "\n",
    "value1 = \"Computer_science\"\n",
    "\n",
    "print(value1[-10:-5])"
   ]
  },
  {
   "cell_type": "code",
   "execution_count": 7,
   "metadata": {},
   "outputs": [
    {
     "name": "stdout",
     "output_type": "stream",
     "text": [
      "Computer\n",
      "Computer\n",
      "Cmue\n",
      "mt_\n",
      "u_\n",
      "Cmue\n",
      "tc\n",
      "pese\n"
     ]
    }
   ],
   "source": [
    "#Type2\n",
    "\n",
    "value1 = \"Computer_science\"\n",
    "\n",
    "print(value1[:8])\n",
    "print(value1[:8:1])\n",
    "print(value1[:8:2]) #Computer #Cmue\n",
    "print(value1[2:10:3]) #mputer_s #mt_\n",
    "\n",
    "value1 = \"Computer_science\"\n",
    "\n",
    "print(value1[-12:-6:4]) #u_\n",
    "print(value1[0:8:2]) #cmue #Computer #Cmue\n",
    "print(value1[5:-5:5]) #tc #ter_sc #tc\n",
    "print(value1[3:-3:3]) #puter_scie #pese\n",
    "\n",
    "\n",
    "\n",
    "\n"
   ]
  },
  {
   "cell_type": "code",
   "execution_count": 10,
   "metadata": {},
   "outputs": [
    {
     "name": "stdout",
     "output_type": "stream",
     "text": [
      "ptr\n",
      "\n",
      "\n",
      "_eu\n"
     ]
    }
   ],
   "source": [
    "#Type3:\n",
    "\n",
    "\n",
    "#[starting index (include): ending index (exclude): Interval(optional)]\n",
    "\n",
    "\n",
    "value1 = \"Computer_science\"\n",
    "\n",
    "#forward + positive ==> output\n",
    "#reverse + negative ===> output\n",
    "\n",
    "\n",
    "print(value1[3:8:2]) #puter #ptr\n",
    "print(value1[8:3:2])\n",
    "print(value1[3:8:-2])\n",
    "print(value1[8:3:-2]) #_retu #_eu"
   ]
  },
  {
   "cell_type": "code",
   "execution_count": 11,
   "metadata": {},
   "outputs": [
    {
     "name": "stdout",
     "output_type": "stream",
     "text": [
      "\n",
      "ter_sc\n",
      "ter_sc\n",
      "\n",
      "\n",
      "ics_re\n",
      "tc\n",
      "ie\n",
      "\n",
      "\n"
     ]
    }
   ],
   "source": [
    "value1 = \"computer_science\"\n",
    "\n",
    "print(value1[-5:5]) \n",
    "print(value1[5:-5])\n",
    "print(value1[5:-5:1])\n",
    "print(value1[-5:5:1])\n",
    "print(value1[5:-5:-1])\n",
    "print(value1[-5:5:-1])\n",
    "print(value1[5:-5:5])\n",
    "print(value1[-5:5:-5])\n",
    "print(value1[5:-5:-5])\n",
    "print(value1[-5:5:5])\n",
    "\n"
   ]
  },
  {
   "cell_type": "code",
   "execution_count": null,
   "metadata": {},
   "outputs": [],
   "source": [
    "empty\n",
    "ter_sc\n",
    "ter_sc\n",
    "empty\n",
    "empty\n",
    "ics_re\n",
    "tc\n",
    "ie\n",
    "empty\n",
    "empty\n"
   ]
  },
  {
   "cell_type": "code",
   "execution_count": 1,
   "metadata": {},
   "outputs": [
    {
     "name": "stdout",
     "output_type": "stream",
     "text": [
      "cmue\n",
      "enis\n",
      "_cec\n",
      "_eumc\n",
      "ees\n",
      "cpe\n",
      "_ic\n",
      "_tm\n"
     ]
    }
   ],
   "source": [
    "#type4:\n",
    "\n",
    "\n",
    "var = \"computer_science\"\n",
    "\n",
    "print(var[:8:2])\n",
    "print(var[:8:-2])\n",
    "print(var[8::2])\n",
    "print(var[8::-2])\n",
    "print(var[:8:-3])\n",
    "print(var[:8:3])\n",
    "print(var[8::3])\n",
    "print(var[8::-3])\n"
   ]
  },
  {
   "cell_type": "code",
   "execution_count": null,
   "metadata": {},
   "outputs": [],
   "source": [
    "cmue\n",
    "enis\n",
    "_cec\n",
    "_eumc\n",
    "ees\n",
    "cpe\n",
    "_ic\n",
    "_tm\n"
   ]
  },
  {
   "cell_type": "code",
   "execution_count": 2,
   "metadata": {},
   "outputs": [
    {
     "name": "stdout",
     "output_type": "stream",
     "text": [
      "computer_science\n",
      "cmue_cec\n",
      "cpesee\n",
      "ecneics_retupmoc\n",
      "enisrtpo\n",
      "eesepc\n"
     ]
    }
   ],
   "source": [
    "#type5:\n",
    "\n",
    "var = \"computer_science\"\n",
    "\n",
    "print(var[::1])\n",
    "print(var[::2])\n",
    "print(var[::3])\n",
    "print(var[::-1])\n",
    "print(var[::-2])\n",
    "print(var[::-3])\n"
   ]
  },
  {
   "cell_type": "code",
   "execution_count": null,
   "metadata": {},
   "outputs": [],
   "source": [
    "computer_science\n",
    "cmie_cec\n",
    "cpesee\n",
    "ecneics_retupmoc\n",
    "enisrtpo\n",
    "eesepc\n"
   ]
  }
 ],
 "metadata": {
  "kernelspec": {
   "display_name": "Python 3",
   "language": "python",
   "name": "python3"
  },
  "language_info": {
   "codemirror_mode": {
    "name": "ipython",
    "version": 3
   },
   "file_extension": ".py",
   "mimetype": "text/x-python",
   "name": "python",
   "nbconvert_exporter": "python",
   "pygments_lexer": "ipython3",
   "version": "3.7.6"
  }
 },
 "nbformat": 4,
 "nbformat_minor": 4
}
