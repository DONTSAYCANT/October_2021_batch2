{
  "nbformat": 4,
  "nbformat_minor": 0,
  "metadata": {
    "colab": {
      "name": "regex part 2.ipynb",
      "provenance": [],
      "collapsed_sections": []
    },
    "kernelspec": {
      "name": "python3",
      "display_name": "Python 3"
    },
    "language_info": {
      "name": "python"
    },
    "accelerator": "TPU"
  },
  "cells": [
    {
      "cell_type": "code",
      "metadata": {
        "id": "diaMzw7oY6f2"
      },
      "source": [
        "import re"
      ],
      "execution_count": 1,
      "outputs": []
    },
    {
      "cell_type": "code",
      "metadata": {
        "colab": {
          "base_uri": "https://localhost:8080/"
        },
        "id": "GzRV3X-zb8VD",
        "outputId": "226d7546-de8e-4a3c-fe07-817db1acb6c6"
      },
      "source": [
        "#findall\n",
        "\n",
        "main = \"i have 20 pens and 500 pencils\"\n",
        "pattern = \"\\d+\"\n",
        "\n",
        "output = re.findall(pattern, main)\n",
        "\n",
        "print(output)\n",
        "\n"
      ],
      "execution_count": 2,
      "outputs": [
        {
          "output_type": "stream",
          "name": "stdout",
          "text": [
            "['20', '500']\n"
          ]
        }
      ]
    },
    {
      "cell_type": "code",
      "metadata": {
        "colab": {
          "base_uri": "https://localhost:8080/"
        },
        "id": "Z0HmH5-ccVvO",
        "outputId": "4b499422-3360-48a1-a8b0-21e903155950"
      },
      "source": [
        "#split\n",
        "\n",
        "main = \"i have 40 pens and 29 pencils\"\n",
        "pattern = \"\\d\"\n",
        "\n",
        "output = re.split(pattern, main)\n",
        "\n",
        "print(output)"
      ],
      "execution_count": 5,
      "outputs": [
        {
          "output_type": "stream",
          "name": "stdout",
          "text": [
            "['i have ', '', ' pens and ', '', ' pencils']\n"
          ]
        }
      ]
    },
    {
      "cell_type": "code",
      "metadata": {
        "colab": {
          "base_uri": "https://localhost:8080/"
        },
        "id": "t2HQQaZWcqwv",
        "outputId": "37924d9e-e731-4a1d-f921-502d07219386"
      },
      "source": [
        "#sub\n",
        "\n",
        "main = \"i have 20 pens and 500 pencils\"\n",
        "pattern = \"\\d+\"\n",
        "sub = \"**\"\n",
        "\n",
        "output = re.sub(pattern,sub, main)\n",
        "\n",
        "print(output)"
      ],
      "execution_count": 6,
      "outputs": [
        {
          "output_type": "stream",
          "name": "stdout",
          "text": [
            "i have ** pens and ** pencils\n"
          ]
        }
      ]
    },
    {
      "cell_type": "code",
      "metadata": {
        "colab": {
          "base_uri": "https://localhost:8080/"
        },
        "id": "zY6KySpqdMQU",
        "outputId": "bad9051c-7fd9-44de-ed2e-7cb9aa9a483a"
      },
      "source": [
        "#subn\n",
        "\n",
        "main = \"i have 20 pens and 500 pencils 789\"\n",
        "pattern = \"\\d+\"\n",
        "sub = \"**\"\n",
        "\n",
        "output = re.subn(pattern,sub, main)\n",
        "\n",
        "print(output)"
      ],
      "execution_count": 8,
      "outputs": [
        {
          "output_type": "stream",
          "name": "stdout",
          "text": [
            "('i have ** pens and ** pencils **', 3)\n"
          ]
        }
      ]
    },
    {
      "cell_type": "code",
      "metadata": {
        "colab": {
          "base_uri": "https://localhost:8080/"
        },
        "id": "p8aRJ10heFAK",
        "outputId": "5bea3a8e-2b34-4408-a7b3-0f14c943fccf"
      },
      "source": [
        "#\\d{2}-\\d{2}-\\d{4}\n",
        "\n",
        "\n",
        "main = \"Today date is 02-12-2021 and tomorrow date is 03-12-2021\"\n",
        "pattern = \"\\d{2}-\\d{2}-\\d{4}\"\n",
        "\n",
        "output = re.findall(pattern, main)\n",
        "\n",
        "print(output)"
      ],
      "execution_count": 9,
      "outputs": [
        {
          "output_type": "stream",
          "name": "stdout",
          "text": [
            "['02-12-2021', '03-12-2021']\n"
          ]
        }
      ]
    },
    {
      "cell_type": "code",
      "metadata": {
        "colab": {
          "base_uri": "https://localhost:8080/"
        },
        "id": "bki0ZVrwdMTZ",
        "outputId": "0e765936-d59f-4b26-e2c7-efe4645ce38a"
      },
      "source": [
        "#search/group\n",
        "main = \"Today date is 02-12-2021 and tomorrow date is 03-12-2021\"\n",
        "pattern = \"(\\d{2})-\\d{2}-(\\d{4})\"\n",
        "\n",
        "\n",
        "output = re.search(pattern, main)\n",
        "\n",
        "print(output.group())\n",
        "print(output.group(1))\n",
        "print(output.group(2))\n",
        "\n",
        "\n",
        "\n"
      ],
      "execution_count": 12,
      "outputs": [
        {
          "output_type": "stream",
          "name": "stdout",
          "text": [
            "02-12-2021\n",
            "02\n",
            "2021\n"
          ]
        }
      ]
    },
    {
      "cell_type": "code",
      "metadata": {
        "colab": {
          "base_uri": "https://localhost:8080/"
        },
        "id": "Rf5UscIpevmP",
        "outputId": "50a6f3f8-2220-47c5-90ec-7ba3a0deee60"
      },
      "source": [
        "print(output.span())\n",
        "print(output.start())\n",
        "print(output.end())"
      ],
      "execution_count": 14,
      "outputs": [
        {
          "output_type": "stream",
          "name": "stdout",
          "text": [
            "(14, 24)\n",
            "14\n",
            "24\n"
          ]
        }
      ]
    },
    {
      "cell_type": "code",
      "metadata": {
        "id": "auVHEU3DfA2V"
      },
      "source": [
        "https://www.programiz.com/python-programming/regex"
      ],
      "execution_count": null,
      "outputs": []
    }
  ]
}