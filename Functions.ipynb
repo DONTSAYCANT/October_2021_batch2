{
 "cells": [
  {
   "cell_type": "code",
   "execution_count": null,
   "metadata": {},
   "outputs": [],
   "source": [
    "#Function:\n",
    "\n",
    "\n",
    "\n",
    "#Function definition\n",
    "#function call\n",
    "#arguement or paramter\n",
    "#return\n",
    "\n",
    "\n",
    "#inbuilt function or builtin functions\n",
    "#User defined functions\n",
    "\n",
    "#optional parameter in user \n",
    "\n",
    "#Recursive function\n",
    "\n",
    "#function inside class is called as method"
   ]
  },
  {
   "cell_type": "code",
   "execution_count": 2,
   "metadata": {},
   "outputs": [
    {
     "name": "stdout",
     "output_type": "stream",
     "text": [
      "The addition of two values are 30\n",
      "The addition of two values are 70\n",
      "The addition of two values are 40\n"
     ]
    }
   ],
   "source": [
    "a = 10\n",
    "b = 20\n",
    "\n",
    "c = a + b\n",
    "print(\"The addition of two values are\",c)\n",
    "\n",
    "\n",
    "\n",
    "e = 25\n",
    "f = 45\n",
    "\n",
    "g = e + f\n",
    "print(\"The addition of two values are\",g)\n",
    "\n",
    "\n",
    "\n",
    "\n",
    "x = 18\n",
    "y = 22\n",
    "\n",
    "z = x + y\n",
    "print(\"The addition of two values are\",z)\n"
   ]
  },
  {
   "cell_type": "code",
   "execution_count": 4,
   "metadata": {},
   "outputs": [
    {
     "name": "stdout",
     "output_type": "stream",
     "text": [
      "The addition of two values are 30\n",
      "The addition of two values are 70\n",
      "The addition of two values are 40\n"
     ]
    }
   ],
   "source": [
    "def function_name(arg1, arg2):\n",
    "    return \"The addition of two values are \" + str(arg1 + arg2)\n",
    "\n",
    "print(function_name(10,20))#function call 1\n",
    "print(function_name(25,45))#function call 2\n",
    "print(function_name(18,22))#function call 3\n"
   ]
  },
  {
   "cell_type": "code",
   "execution_count": null,
   "metadata": {},
   "outputs": [],
   "source": [
    "#function def:\n",
    "\n",
    "#Operation or process \n",
    "\n",
    "#Function call:\n",
    "\n",
    "Calling function def"
   ]
  },
  {
   "cell_type": "markdown",
   "metadata": {},
   "source": [
    "## Inbuilt functions"
   ]
  },
  {
   "cell_type": "code",
   "execution_count": 5,
   "metadata": {},
   "outputs": [
    {
     "name": "stdout",
     "output_type": "stream",
     "text": [
      "hello\n"
     ]
    }
   ],
   "source": [
    "print(\"hello\") #function call only available for inbuilt func"
   ]
  },
  {
   "cell_type": "code",
   "execution_count": 7,
   "metadata": {},
   "outputs": [
    {
     "name": "stdout",
     "output_type": "stream",
     "text": [
      "hello1*,hello2\n",
      "hello3\n"
     ]
    }
   ],
   "source": [
    "print(\"hello1\", end=\"*,\") #by default end=\"\\n\"\n",
    "print(\"hello2\") #==> print(\"hello2\", end=\"\\n\")\n",
    "print(\"hello3\")"
   ]
  },
  {
   "cell_type": "code",
   "execution_count": 9,
   "metadata": {},
   "outputs": [
    {
     "name": "stdout",
     "output_type": "stream",
     "text": [
      "hello#$hello1#$hello2****"
     ]
    }
   ],
   "source": [
    "print(\"hello\",\"hello1\",\"hello2\",sep=\"#$\", end =\"****\")"
   ]
  },
  {
   "cell_type": "code",
   "execution_count": 10,
   "metadata": {},
   "outputs": [
    {
     "name": "stdout",
     "output_type": "stream",
     "text": [
      "<class 'list'>\n"
     ]
    }
   ],
   "source": [
    "#type\n",
    "\n",
    "print(type([\"hi\", \"hello\"]))"
   ]
  },
  {
   "cell_type": "code",
   "execution_count": null,
   "metadata": {},
   "outputs": [],
   "source": [
    "#https://www.w3schools.com/python/python_ref_functions.asp\n",
    "\n",
    "#zip\n",
    "#list   ok\n",
    "#tuple ok\n",
    "#int ok \n",
    "#str ok \n",
    "#ord ok\n",
    "#chr ok\n",
    "#abs ok\n",
    "#all ok \n",
    "#any ok \n",
    "#bin ok\n",
    "#oct ok\n",
    "#hex ok\n",
    "#dict ok \n",
    "#pow\n",
    "#divmod\n",
    "#input ok\n",
    "#len ok\n",
    "#range ok\n",
    "\n"
   ]
  },
  {
   "cell_type": "code",
   "execution_count": 12,
   "metadata": {},
   "outputs": [
    {
     "name": "stdout",
     "output_type": "stream",
     "text": [
      "122\n",
      "x\n"
     ]
    }
   ],
   "source": [
    "a = \"z\"\n",
    "\n",
    "print(ord(a))\n",
    "\n",
    "a = 120\n",
    "\n",
    "print(chr(a))"
   ]
  },
  {
   "cell_type": "code",
   "execution_count": 13,
   "metadata": {},
   "outputs": [
    {
     "name": "stdout",
     "output_type": "stream",
     "text": [
      "7.5\n"
     ]
    }
   ],
   "source": [
    "a = -7.5\n",
    "\n",
    "print(abs(a))"
   ]
  },
  {
   "cell_type": "code",
   "execution_count": 17,
   "metadata": {},
   "outputs": [
    {
     "name": "stdout",
     "output_type": "stream",
     "text": [
      "True\n",
      "False\n",
      "True\n",
      "False\n"
     ]
    }
   ],
   "source": [
    "#any all\n",
    "\n",
    "print(any([True, True, False]))\n",
    "print(any([False, False, False]))\n",
    "\n",
    "\n",
    "print(all([True, True, True]))\n",
    "print(all([False, False, True]))"
   ]
  },
  {
   "cell_type": "code",
   "execution_count": 18,
   "metadata": {},
   "outputs": [
    {
     "name": "stdout",
     "output_type": "stream",
     "text": [
      "0b10010\n",
      "0x12\n",
      "0o22\n"
     ]
    }
   ],
   "source": [
    "a =18\n",
    "\n",
    "print(bin(a))\n",
    "print(hex(a))\n",
    "print(oct(a))"
   ]
  },
  {
   "cell_type": "code",
   "execution_count": 19,
   "metadata": {},
   "outputs": [
    {
     "name": "stdout",
     "output_type": "stream",
     "text": [
      "3125\n"
     ]
    }
   ],
   "source": [
    "a = 5\n",
    "b = 5\n",
    "\n",
    "print(pow(a,b))"
   ]
  },
  {
   "cell_type": "code",
   "execution_count": 20,
   "metadata": {},
   "outputs": [
    {
     "name": "stdout",
     "output_type": "stream",
     "text": [
      "(1, 3)\n"
     ]
    }
   ],
   "source": [
    "a = 8\n",
    "b = 5\n",
    "\n",
    "print(divmod(a,b))"
   ]
  },
  {
   "cell_type": "code",
   "execution_count": 24,
   "metadata": {},
   "outputs": [
    {
     "name": "stdout",
     "output_type": "stream",
     "text": [
      "{2: 'python', 3: 'cpp', 4: 'php', 5: 'java'}\n"
     ]
    }
   ],
   "source": [
    "#zip\n",
    "\n",
    "Li1 = [2,3,4,5]\n",
    "Li2 = [\"python\",\"cpp\",\"php\",\"java\"]\n",
    "\n",
    "a = list(zip(Li1, Li2))\n",
    "a = dict(zip(Li1, Li2))\n",
    "\n",
    "print(a)"
   ]
  },
  {
   "cell_type": "code",
   "execution_count": 25,
   "metadata": {},
   "outputs": [
    {
     "name": "stdout",
     "output_type": "stream",
     "text": [
      "1\n",
      "4\n",
      "10\n"
     ]
    }
   ],
   "source": [
    "a = [1,2,3,4]\n",
    "\n",
    "print(min(a))\n",
    "print(max(a))\n",
    "print(sum(a))"
   ]
  },
  {
   "cell_type": "markdown",
   "metadata": {},
   "source": [
    "## User Defined Functions"
   ]
  },
  {
   "cell_type": "code",
   "execution_count": null,
   "metadata": {},
   "outputs": [],
   "source": [
    "def function_name(arg1, arg2):\n",
    "    return \"The addition of two values are \" + str(arg1 + arg2)\n",
    "\n",
    "print(function_name(10,20))#function call 1\n",
    "print(function_name(25,45))#function call 2\n",
    "print(function_name(18,22))#function call 3"
   ]
  },
  {
   "cell_type": "code",
   "execution_count": 26,
   "metadata": {},
   "outputs": [
    {
     "name": "stdout",
     "output_type": "stream",
     "text": [
      "60\n"
     ]
    }
   ],
   "source": [
    "#fixed number of args\n",
    "\n",
    "def sum_args(arg1, arg2, arg3):\n",
    "    return arg1 + arg2 + arg3\n",
    "\n",
    "print(sum_args(10,20,30))"
   ]
  },
  {
   "cell_type": "code",
   "execution_count": 27,
   "metadata": {},
   "outputs": [
    {
     "name": "stdout",
     "output_type": "stream",
     "text": [
      "60\n",
      "130\n"
     ]
    }
   ],
   "source": [
    "#optional number of args\n",
    "\n",
    "def sum_args(arg1, arg2, arg3 = 100):\n",
    "    return arg1 + arg2 + arg3\n",
    "\n",
    "print(sum_args(10,20,30))\n",
    "print(sum_args(10,20))"
   ]
  },
  {
   "cell_type": "code",
   "execution_count": 29,
   "metadata": {},
   "outputs": [
    {
     "name": "stdout",
     "output_type": "stream",
     "text": [
      "not a palindrome\n"
     ]
    }
   ],
   "source": [
    "#palindrome check\n",
    "\n",
    "def palindrome_check(str1):\n",
    "    return str1 == str1[::-1]\n",
    "\n",
    "if palindrome_check(\"python\"):\n",
    "    print(\"palindrome\")\n",
    "else:\n",
    "    print(\"not a palindrome\")"
   ]
  },
  {
   "cell_type": "code",
   "execution_count": 31,
   "metadata": {},
   "outputs": [
    {
     "name": "stdout",
     "output_type": "stream",
     "text": [
      "pngo\n",
      "cpja\n"
     ]
    }
   ],
   "source": [
    "def function_return(str1, str2):\n",
    "    val = str1[0] + str1[-1] + str2[0] + str2[-1]\n",
    "    return val\n",
    "    \n",
    "print(function_return(\"python\", \"go\"))\n",
    "\n",
    "print(function_return(\"cpp\", \"java\"))"
   ]
  },
  {
   "cell_type": "code",
   "execution_count": null,
   "metadata": {},
   "outputs": [],
   "source": [
    "#https://www.w3schools.com/python/python_functions.asp\n",
    "#https://www.w3schools.com/python/python_ref_functions.asp"
   ]
  }
 ],
 "metadata": {
  "kernelspec": {
   "display_name": "Python 3",
   "language": "python",
   "name": "python3"
  },
  "language_info": {
   "codemirror_mode": {
    "name": "ipython",
    "version": 3
   },
   "file_extension": ".py",
   "mimetype": "text/x-python",
   "name": "python",
   "nbconvert_exporter": "python",
   "pygments_lexer": "ipython3",
   "version": "3.7.6"
  }
 },
 "nbformat": 4,
 "nbformat_minor": 4
}
