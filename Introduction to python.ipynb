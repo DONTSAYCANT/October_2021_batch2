{
 "cells": [
  {
   "cell_type": "code",
   "execution_count": null,
   "metadata": {},
   "outputs": [],
   "source": [
    "1. IDLE python / pycharm / jupyter\n",
    "\n",
    "https://www.python.org/downloads/\n",
    "\n",
    "2. Hackerrank.com\n",
    "\n",
    "https://www.hackerrank.com/dashboard\n",
    "    "
   ]
  },
  {
   "cell_type": "code",
   "execution_count": null,
   "metadata": {},
   "outputs": [],
   "source": [
    "programming ?\n",
    "\n",
    "python ?\n",
    "\n",
    "aws/cloud/devops ==> groovy/shell/python\n",
    "AI/ml  ==> R/python\n",
    "QA ===> java sele, python\n",
    "develpment ===> Django\n",
    "\n",
    "pie chart ==> c language\n",
    "seaborn \n",
    "\n",
    "Library is rich \n",
    "\n",
    "2)\n",
    "\n",
    "Framework\n",
    "\n",
    "web tech\n",
    "html css \n",
    "python\n",
    "\n",
    "10 developers ===> 2 testers ==> website()\n",
    "\n",
    "CI/CD\n",
    "\n",
    "azure git ==> change ==> build ===> test (smoke unit inter)  ===> nexus \n",
    "\n",
    "\n",
    "3) \n",
    "\n",
    "Number of lines and readability \n",
    "\n",
    "int a = 10;\n",
    "a = 50.55\n",
    "\n",
    "function fibo{\n",
    "    value1....\n",
    "    .....\n",
    "}\n",
    "\n",
    "\n",
    "\n",
    "Indentation ===> scope \n",
    "\n",
    "deep copy shallow copy\n",
    "\n",
    "\n",
    "advantages of python\n",
    "\n",
    "programming terms"
   ]
  },
  {
   "cell_type": "code",
   "execution_count": 3,
   "metadata": {},
   "outputs": [
    {
     "name": "stdout",
     "output_type": "stream",
     "text": [
      "python\n",
      "a\n",
      "b\n",
      "c\n"
     ]
    },
    {
     "data": {
      "text/plain": [
       "'hello'"
      ]
     },
     "execution_count": 3,
     "metadata": {},
     "output_type": "execute_result"
    }
   ],
   "source": [
    "def fibo():\n",
    "    print(\"a\")\n",
    "    print(\"b\")\n",
    "    print(\"c\")\n",
    "    return \"hello\"\n",
    "print(\"python\")\n",
    "fibo()    \n",
    "    "
   ]
  },
  {
   "cell_type": "code",
   "execution_count": 4,
   "metadata": {},
   "outputs": [
    {
     "name": "stdout",
     "output_type": "stream",
     "text": [
      "if condition\n",
      "palindrome\n"
     ]
    }
   ],
   "source": [
    "a = \"malayalam\"\n",
    " \n",
    "if a == a[::-1]:\n",
    "    print(\"if condition\")\n",
    "    print(\"palindrome\")\n",
    "else:\n",
    "    print(\"Not a palindrome\")"
   ]
  },
  {
   "cell_type": "code",
   "execution_count": null,
   "metadata": {},
   "outputs": [],
   "source": [
    "variable :\n",
    "    \n",
    "    dymamic \n",
    "    contanier for storing \n",
    "    \n",
    "1. rules for creating variables in python\n",
    "\n",
    "2. /   //  %  ** differenct between operators  "
   ]
  },
  {
   "cell_type": "code",
   "execution_count": null,
   "metadata": {},
   "outputs": [],
   "source": [
    "for \n",
    "for else\n",
    "\n",
    "\n"
   ]
  },
  {
   "cell_type": "code",
   "execution_count": 5,
   "metadata": {},
   "outputs": [
    {
     "name": "stdout",
     "output_type": "stream",
     "text": [
      "10\n",
      "11\n",
      "12\n",
      "13\n",
      "14\n",
      "15\n",
      "16\n",
      "17\n",
      "18\n",
      "19\n",
      "20\n",
      "21\n",
      "22\n",
      "23\n",
      "24\n",
      "25\n",
      "26\n",
      "27\n",
      "28\n",
      "29\n",
      "30\n",
      "31\n",
      "32\n",
      "33\n",
      "34\n",
      "35\n",
      "36\n",
      "37\n",
      "38\n",
      "39\n",
      "40\n",
      "41\n",
      "42\n",
      "43\n",
      "44\n",
      "45\n",
      "46\n",
      "47\n",
      "48\n",
      "49\n"
     ]
    }
   ],
   "source": [
    "for i in range(10,50):\n",
    "    print(i)"
   ]
  },
  {
   "cell_type": "code",
   "execution_count": 6,
   "metadata": {},
   "outputs": [
    {
     "name": "stdout",
     "output_type": "stream",
     "text": [
      "python\n",
      "c\n",
      "cpp\n",
      "groovy\n"
     ]
    }
   ],
   "source": [
    "List1 = [\"python\", \"c\", \"cpp\", \"groovy\"]\n",
    "\n",
    "for temp in List1:\n",
    "    print(temp)"
   ]
  },
  {
   "cell_type": "code",
   "execution_count": null,
   "metadata": {},
   "outputs": [],
   "source": []
  }
 ],
 "metadata": {
  "kernelspec": {
   "display_name": "Python 3",
   "language": "python",
   "name": "python3"
  },
  "language_info": {
   "codemirror_mode": {
    "name": "ipython",
    "version": 3
   },
   "file_extension": ".py",
   "mimetype": "text/x-python",
   "name": "python",
   "nbconvert_exporter": "python",
   "pygments_lexer": "ipython3",
   "version": "3.7.6"
  }
 },
 "nbformat": 4,
 "nbformat_minor": 4
}
