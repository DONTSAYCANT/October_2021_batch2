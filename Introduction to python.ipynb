{
 "cells": [
  {
   "cell_type": "code",
   "execution_count": null,
   "metadata": {},
   "outputs": [],
   "source": [
    "1. IDLE python / pycharm / jupyter\n",
    "\n",
    "https://www.python.org/downloads/\n",
    "\n",
    "2. Hackerrank.com\n",
    "\n",
    "https://www.hackerrank.com/dashboard\n",
    "    "
   ]
  },
  {
   "cell_type": "code",
   "execution_count": null,
   "metadata": {},
   "outputs": [],
   "source": [
    "programming ?\n",
    "\n",
    "python ?\n",
    "\n",
    "aws/cloud/devops ==> groovy/shell/python\n",
    "AI/ml  ==> R/python\n",
    "QA ===> java sele, python\n",
    "develpment ===> Django\n",
    "\n",
    "pie chart ==> c language\n",
    "seaborn \n",
    "\n",
    "Library is rich \n",
    "\n",
    "2)\n",
    "\n",
    "Framework\n",
    "\n",
    "web tech\n",
    "html css \n",
    "python\n",
    "\n",
    "10 developers ===> 2 testers ==> website()\n",
    "\n",
    "CI/CD\n",
    "\n",
    "azure git ==> change ==> build ===> test (smoke unit inter)  ===> nexus \n",
    "\n",
    "\n",
    "3) \n",
    "\n",
    "Number of lines and readability \n",
    "\n",
    "int a = 10;\n",
    "a = 50.55\n",
    "\n",
    "function fibo{\n",
    "    value1....\n",
    "    .....\n",
    "}\n",
    "\n",
    "\n",
    "\n",
    "Indentation ===> scope \n",
    "\n",
    "deep copy shallow copy\n",
    "\n",
    "\n",
    "advantages of python\n",
    "\n",
    "programming terms"
   ]
  },
  {
   "cell_type": "code",
   "execution_count": 3,
   "metadata": {},
   "outputs": [
    {
     "name": "stdout",
     "output_type": "stream",
     "text": [
      "python\n",
      "a\n",
      "b\n",
      "c\n"
     ]
    },
    {
     "data": {
      "text/plain": [
       "'hello'"
      ]
     },
     "execution_count": 3,
     "metadata": {},
     "output_type": "execute_result"
    }
   ],
   "source": [
    "def fibo():\n",
    "    print(\"a\")\n",
    "    print(\"b\")\n",
    "    print(\"c\")\n",
    "    return \"hello\"\n",
    "print(\"python\")\n",
    "fibo()    \n",
    "    "
   ]
  },
  {
   "cell_type": "code",
   "execution_count": 4,
   "metadata": {},
   "outputs": [
    {
     "name": "stdout",
     "output_type": "stream",
     "text": [
      "if condition\n",
      "palindrome\n"
     ]
    }
   ],
   "source": [
    "a = \"malayalam\"\n",
    " \n",
    "if a == a[::-1]:\n",
    "    print(\"if condition\")\n",
    "    print(\"palindrome\")\n",
    "else:\n",
    "    print(\"Not a palindrome\")"
   ]
  },
  {
   "cell_type": "code",
   "execution_count": null,
   "metadata": {},
   "outputs": [],
   "source": [
    "variable :\n",
    "    \n",
    "    dymamic \n",
    "    contanier for storing \n",
    "    \n",
    "1. rules for creating variables in python\n",
    "\n",
    "2. /   //  %  ** differenct between operators  "
   ]
  },
  {
   "cell_type": "code",
   "execution_count": null,
   "metadata": {},
   "outputs": [],
   "source": [
    "for \n",
    "for else\n",
    "\n",
    "\n"
   ]
  },
  {
   "cell_type": "code",
   "execution_count": 5,
   "metadata": {},
   "outputs": [
    {
     "name": "stdout",
     "output_type": "stream",
     "text": [
      "10\n",
      "11\n",
      "12\n",
      "13\n",
      "14\n",
      "15\n",
      "16\n",
      "17\n",
      "18\n",
      "19\n",
      "20\n",
      "21\n",
      "22\n",
      "23\n",
      "24\n",
      "25\n",
      "26\n",
      "27\n",
      "28\n",
      "29\n",
      "30\n",
      "31\n",
      "32\n",
      "33\n",
      "34\n",
      "35\n",
      "36\n",
      "37\n",
      "38\n",
      "39\n",
      "40\n",
      "41\n",
      "42\n",
      "43\n",
      "44\n",
      "45\n",
      "46\n",
      "47\n",
      "48\n",
      "49\n"
     ]
    }
   ],
   "source": [
    "for i in range(10,50):\n",
    "    print(i)"
   ]
  },
  {
   "cell_type": "code",
   "execution_count": 6,
   "metadata": {},
   "outputs": [
    {
     "name": "stdout",
     "output_type": "stream",
     "text": [
      "python\n",
      "c\n",
      "cpp\n",
      "groovy\n"
     ]
    }
   ],
   "source": [
    "List1 = [\"python\", \"c\", \"cpp\", \"groovy\"]\n",
    "\n",
    "for temp in List1:\n",
    "    print(temp)"
   ]
  },
  {
   "cell_type": "code",
   "execution_count": null,
   "metadata": {},
   "outputs": [],
   "source": [
    "#Rules for variable creation\n",
    "\n",
    "#variable can be combination of alphabets/numbers/_ \n",
    "#No special chars\n",
    "\n",
    "#It should start with _ or alphabet\n",
    "#It should not start with number\n",
    "\n",
    "#It's case senstive\n",
    "\n",
    "#key words should nt be used, user def fun/inbuilt function name"
   ]
  },
  {
   "cell_type": "code",
   "execution_count": null,
   "metadata": {},
   "outputs": [],
   "source": [
    "# /   //  %  ** differenct between operators \n",
    "    \n",
    "#/  ==> division \n",
    "#// ===> decimal , rounds the nearest \n",
    "#% ==> modulo \n",
    "#** ==> power"
   ]
  },
  {
   "cell_type": "code",
   "execution_count": 11,
   "metadata": {},
   "outputs": [
    {
     "name": "stdout",
     "output_type": "stream",
     "text": [
      "13\n",
      "7\n",
      "30\n",
      "3.3333333333333335\n",
      "3\n",
      "-4\n"
     ]
    }
   ],
   "source": [
    "a = 10\n",
    "b = 3\n",
    "\n",
    "print(a+b)\n",
    "print(a-b)\n",
    "print(a*b)\n",
    "print(a/b)\n",
    "print(a//b)\n",
    "\n",
    "c = -10\n",
    "d = 3\n",
    "\n",
    "print(c // d)\n",
    "\n",
    "#Floor division\n",
    "\n",
    "#divison\n",
    "#\n",
    "\n",
    "-4 -3 -2 -1 0 1 2 3 4 \n",
    "\n"
   ]
  },
  {
   "cell_type": "code",
   "execution_count": 14,
   "metadata": {},
   "outputs": [
    {
     "name": "stdout",
     "output_type": "stream",
     "text": [
      "1000\n",
      "1\n"
     ]
    }
   ],
   "source": [
    "a = 10\n",
    "b = 3\n",
    "\n",
    "print(a**b)#power operation\n",
    "\n",
    "print(a%b)"
   ]
  },
  {
   "cell_type": "code",
   "execution_count": null,
   "metadata": {},
   "outputs": [],
   "source": [
    "#function ==> set of repeated code\n",
    "\n",
    "#Inbuilt ===> user defined function\n",
    "\n",
    "#function def \n",
    "#function call"
   ]
  },
  {
   "cell_type": "code",
   "execution_count": 17,
   "metadata": {},
   "outputs": [
    {
     "ename": "SyntaxError",
     "evalue": "invalid syntax (<ipython-input-17-d2a3b4f7b761>, line 2)",
     "output_type": "error",
     "traceback": [
      "\u001b[1;36m  File \u001b[1;32m\"<ipython-input-17-d2a3b4f7b761>\"\u001b[1;36m, line \u001b[1;32m2\u001b[0m\n\u001b[1;33m    10a = \"python\"\u001b[0m\n\u001b[1;37m      ^\u001b[0m\n\u001b[1;31mSyntaxError\u001b[0m\u001b[1;31m:\u001b[0m invalid syntax\n"
     ]
    }
   ],
   "source": [
    "def fibo():#user defined function\n",
    "    a = \"python\"\n",
    "    b = \"world\"\n",
    "    return a[::-2] + b[::2]\n",
    "\n",
    "def fibo1():#user defined function\n",
    "    a = \"python\"\n",
    "    b = \"world\"\n",
    "    return a[::-2] + b[::2]\n",
    "\n",
    "fibo()\n",
    "fibo1()\n"
   ]
  },
  {
   "cell_type": "code",
   "execution_count": 16,
   "metadata": {},
   "outputs": [
    {
     "name": "stdout",
     "output_type": "stream",
     "text": [
      "hello world\n"
     ]
    }
   ],
   "source": [
    "print(\"hello world\")#inbuilt function"
   ]
  },
  {
   "cell_type": "code",
   "execution_count": null,
   "metadata": {},
   "outputs": [],
   "source": [
    "#interpreter"
   ]
  },
  {
   "cell_type": "code",
   "execution_count": null,
   "metadata": {},
   "outputs": [],
   "source": [
    "#print\n",
    "#type\n",
    "#single line comment \n",
    "#Multi line comment or doc strings"
   ]
  },
  {
   "cell_type": "code",
   "execution_count": 23,
   "metadata": {},
   "outputs": [
    {
     "name": "stdout",
     "output_type": "stream",
     "text": [
      "hello\n",
      "hello\n",
      "welcome to python\n",
      "world \n",
      "this is class 2\n",
      "welcome to python\n",
      "world \n",
      "this is class 2\n",
      "I'm fine\n",
      "I'm fine\n"
     ]
    }
   ],
   "source": [
    "print(\"hello\")\n",
    "\n",
    "print('hello')\n",
    "\n",
    "print('''welcome to python\n",
    "world \n",
    "this is class 2''')\n",
    "\n",
    "print(\"\"\"welcome to python\n",
    "world \n",
    "this is class 2\"\"\")\n",
    "\n",
    "print(\"I'm fine\")\n",
    "\n",
    "print('I\\'m fine') #escape seq"
   ]
  },
  {
   "cell_type": "code",
   "execution_count": 31,
   "metadata": {},
   "outputs": [
    {
     "name": "stdout",
     "output_type": "stream",
     "text": [
      "10\n",
      "<class 'int'>\n",
      "<class 'float'>\n",
      "<class 'str'>\n",
      "<class 'bool'>\n",
      "<class 'bool'>\n",
      "100.99\n"
     ]
    }
   ],
   "source": [
    "#type function\n",
    "\n",
    "#inbuilt function ==> data type or data strucuture of the arg\n",
    "\n",
    "a = 10\n",
    "\n",
    "print(a)\n",
    "print(type(a))\n",
    "\n",
    "b = 10.00\n",
    "\n",
    "print(type(b))\n",
    "\n",
    "c= \"10.99\"\n",
    "\n",
    "print(type(c))\n",
    "\n",
    "#string ===> \" \" or ' ' ==> global data type\n",
    "\n",
    "d = True\n",
    "print(type(d))\n",
    "\n",
    "e = False\n",
    "print(type(e))\n",
    "\n",
    "false = 100.99\n",
    "\n",
    "print(false)"
   ]
  },
  {
   "cell_type": "code",
   "execution_count": 34,
   "metadata": {},
   "outputs": [
    {
     "name": "stdout",
     "output_type": "stream",
     "text": [
      "True\n",
      "If condition\n"
     ]
    }
   ],
   "source": [
    "a = 10\n",
    "b = 20\n",
    "\n",
    "print(a<b)\n",
    "\n",
    "if a < b:\n",
    "    print(\"If condition\")\n",
    "else:\n",
    "    print(\"else\")"
   ]
  },
  {
   "cell_type": "code",
   "execution_count": 35,
   "metadata": {},
   "outputs": [
    {
     "name": "stdout",
     "output_type": "stream",
     "text": [
      "<class 'str'>\n"
     ]
    }
   ],
   "source": [
    "a = 10\n",
    "\n",
    "a = \"python\"\n",
    "\n",
    "print(type(a))"
   ]
  },
  {
   "cell_type": "code",
   "execution_count": 36,
   "metadata": {},
   "outputs": [
    {
     "name": "stdout",
     "output_type": "stream",
     "text": [
      "<class 'tuple'>\n"
     ]
    }
   ],
   "source": [
    "#Conversion table\n",
    "\n",
    "#tuple ==> immutable\n",
    "\n",
    "a = (10,20)\n",
    "\n",
    "print(type(a))\n",
    "\n"
   ]
  },
  {
   "cell_type": "code",
   "execution_count": null,
   "metadata": {},
   "outputs": [],
   "source": [
    "\n",
    "#Variable creation\n",
    "a = 10\n",
    "b = 20\n",
    "\n",
    "#Addition operation\n",
    "print(a+b)"
   ]
  },
  {
   "cell_type": "code",
   "execution_count": 37,
   "metadata": {},
   "outputs": [
    {
     "name": "stdout",
     "output_type": "stream",
     "text": [
      "True\n",
      "If condition\n"
     ]
    }
   ],
   "source": [
    "a = 10\n",
    "b = 20\n",
    "\n",
    "print(a<b)\n",
    "\n",
    "'''\n",
    "Condition to check a and b\n",
    "if a is lower b value will execute\n",
    "otherwise else block will execute\n",
    "'''\n",
    "\n",
    "if a < b:\n",
    "    print(\"If condition\")\n",
    "else:\n",
    "    print(\"else\")"
   ]
  },
  {
   "cell_type": "code",
   "execution_count": 39,
   "metadata": {},
   "outputs": [
    {
     "name": "stdout",
     "output_type": "stream",
     "text": [
      "<class 'float'>\n",
      "<class 'int'>\n"
     ]
    }
   ],
   "source": [
    "#data type conversion\n",
    "\n",
    "a = 10.00\n",
    "print(type(a))\n",
    "\n",
    "b = int(a)\n",
    "print(type(b))\n",
    "\n",
    "#int something in to integer\n",
    "#float something in to float\n",
    "#bool something in to bool\n",
    "#str something to string"
   ]
  },
  {
   "cell_type": "code",
   "execution_count": 40,
   "metadata": {},
   "outputs": [
    {
     "name": "stdout",
     "output_type": "stream",
     "text": [
      "0\n"
     ]
    }
   ],
   "source": [
    "a = False\n",
    "b = int(a)\n",
    "\n",
    "print(b)"
   ]
  },
  {
   "cell_type": "code",
   "execution_count": null,
   "metadata": {},
   "outputs": [],
   "source": []
  }
 ],
 "metadata": {
  "kernelspec": {
   "display_name": "Python 3",
   "language": "python",
   "name": "python3"
  },
  "language_info": {
   "codemirror_mode": {
    "name": "ipython",
    "version": 3
   },
   "file_extension": ".py",
   "mimetype": "text/x-python",
   "name": "python",
   "nbconvert_exporter": "python",
   "pygments_lexer": "ipython3",
   "version": "3.7.6"
  }
 },
 "nbformat": 4,
 "nbformat_minor": 4
}
