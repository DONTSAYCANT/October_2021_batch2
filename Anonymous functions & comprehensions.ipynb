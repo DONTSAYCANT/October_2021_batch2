{
 "cells": [
  {
   "cell_type": "code",
   "execution_count": null,
   "metadata": {},
   "outputs": [],
   "source": [
    "#Anonymous functions:\n",
    "\n",
    "#simple functions\n",
    "#functions without any name \n",
    "\n",
    "\n",
    "#keywrods: lambda\n",
    "\n",
    "#inbuilt functions map, reduce\n",
    "\n",
    "reduce\n",
    "\n"
   ]
  },
  {
   "cell_type": "code",
   "execution_count": 4,
   "metadata": {},
   "outputs": [
    {
     "name": "stdout",
     "output_type": "stream",
     "text": [
      "512\n"
     ]
    }
   ],
   "source": [
    "cube = lambda x,y : x ** y\n",
    "print(cube(8,3))"
   ]
  },
  {
   "cell_type": "code",
   "execution_count": 5,
   "metadata": {},
   "outputs": [
    {
     "name": "stdout",
     "output_type": "stream",
     "text": [
      "512\n"
     ]
    }
   ],
   "source": [
    "def cube(x,y):\n",
    "    return x ** y\n",
    "print(cube(8, 3))"
   ]
  },
  {
   "cell_type": "code",
   "execution_count": null,
   "metadata": {},
   "outputs": [],
   "source": [
    "#Map with lambda"
   ]
  },
  {
   "cell_type": "code",
   "execution_count": 6,
   "metadata": {},
   "outputs": [
    {
     "name": "stdout",
     "output_type": "stream",
     "text": [
      "[10, 2, 3, 4, 5, 9, 7, 5, 3]\n"
     ]
    }
   ],
   "source": [
    "Li1 = [\"10\",\"2\",\"3\",\"4\",\"5\",\"9\",\"7\",\"5\",\"3\"]\n",
    "\n",
    "Li2 = []\n",
    "\n",
    "for i in Li1:\n",
    "    Li2.append(int(i))\n",
    "print(Li2)\n"
   ]
  },
  {
   "cell_type": "code",
   "execution_count": 7,
   "metadata": {},
   "outputs": [
    {
     "name": "stdout",
     "output_type": "stream",
     "text": [
      "[10, 2, 3, 4, 5, 9, 7, 5, 3]\n"
     ]
    }
   ],
   "source": [
    "Li1 = [\"10\",\"2\",\"3\",\"4\",\"5\",\"9\",\"7\",\"5\",\"3\"]\n",
    "\n",
    "#map(functionality, ds)\n",
    "\n",
    "Li2 = list(map(int, Li1))\n",
    "print(Li2)"
   ]
  },
  {
   "cell_type": "code",
   "execution_count": 8,
   "metadata": {},
   "outputs": [
    {
     "name": "stdout",
     "output_type": "stream",
     "text": [
      "[1000, 8, 27, 64, 125, 729, 343, 125, 27]\n"
     ]
    }
   ],
   "source": [
    "def cube(x):\n",
    "    return x ** 3\n",
    "\n",
    "Li1 = [10, 2, 3, 4, 5, 9, 7, 5, 3]\n",
    "\n",
    "Li2 = list(map(cube, Li1))\n",
    "print(Li2)"
   ]
  },
  {
   "cell_type": "code",
   "execution_count": null,
   "metadata": {},
   "outputs": [],
   "source": []
  }
 ],
 "metadata": {
  "kernelspec": {
   "display_name": "Python 3",
   "language": "python",
   "name": "python3"
  },
  "language_info": {
   "codemirror_mode": {
    "name": "ipython",
    "version": 3
   },
   "file_extension": ".py",
   "mimetype": "text/x-python",
   "name": "python",
   "nbconvert_exporter": "python",
   "pygments_lexer": "ipython3",
   "version": "3.7.6"
  }
 },
 "nbformat": 4,
 "nbformat_minor": 4
}
