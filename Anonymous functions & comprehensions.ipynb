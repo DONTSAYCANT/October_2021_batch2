{
 "cells": [
  {
   "cell_type": "code",
   "execution_count": null,
   "metadata": {},
   "outputs": [],
   "source": [
    "#Anonymous functions:\n",
    "\n",
    "#simple functions\n",
    "#functions without any name \n",
    "\n",
    "\n",
    "#keywrods: lambda\n",
    "\n",
    "#inbuilt functions map, reduce\n",
    "\n",
    "reduce\n",
    "\n"
   ]
  },
  {
   "cell_type": "code",
   "execution_count": 4,
   "metadata": {},
   "outputs": [
    {
     "name": "stdout",
     "output_type": "stream",
     "text": [
      "512\n"
     ]
    }
   ],
   "source": [
    "cube = lambda x,y : x ** y\n",
    "print(cube(8,3))"
   ]
  },
  {
   "cell_type": "code",
   "execution_count": 5,
   "metadata": {},
   "outputs": [
    {
     "name": "stdout",
     "output_type": "stream",
     "text": [
      "512\n"
     ]
    }
   ],
   "source": [
    "def cube(x,y):\n",
    "    return x ** y\n",
    "print(cube(8, 3))"
   ]
  },
  {
   "cell_type": "code",
   "execution_count": null,
   "metadata": {},
   "outputs": [],
   "source": [
    "#Map with lambda"
   ]
  },
  {
   "cell_type": "code",
   "execution_count": 6,
   "metadata": {},
   "outputs": [
    {
     "name": "stdout",
     "output_type": "stream",
     "text": [
      "[10, 2, 3, 4, 5, 9, 7, 5, 3]\n"
     ]
    }
   ],
   "source": [
    "Li1 = [\"10\",\"2\",\"3\",\"4\",\"5\",\"9\",\"7\",\"5\",\"3\"]\n",
    "\n",
    "Li2 = []\n",
    "\n",
    "for i in Li1:\n",
    "    Li2.append(int(i))\n",
    "print(Li2)\n"
   ]
  },
  {
   "cell_type": "code",
   "execution_count": 7,
   "metadata": {},
   "outputs": [
    {
     "name": "stdout",
     "output_type": "stream",
     "text": [
      "[10, 2, 3, 4, 5, 9, 7, 5, 3]\n"
     ]
    }
   ],
   "source": [
    "Li1 = [\"10\",\"2\",\"3\",\"4\",\"5\",\"9\",\"7\",\"5\",\"3\"]\n",
    "\n",
    "#map(functionality, ds)\n",
    "\n",
    "Li2 = list(map(int, Li1))\n",
    "print(Li2)"
   ]
  },
  {
   "cell_type": "code",
   "execution_count": 8,
   "metadata": {},
   "outputs": [
    {
     "name": "stdout",
     "output_type": "stream",
     "text": [
      "[1000, 8, 27, 64, 125, 729, 343, 125, 27]\n"
     ]
    }
   ],
   "source": [
    "def cube(x):\n",
    "    return x ** 3\n",
    "\n",
    "Li1 = [10, 2, 3, 4, 5, 9, 7, 5, 3]\n",
    "\n",
    "Li2 = list(map(cube, Li1))\n",
    "print(Li2)"
   ]
  },
  {
   "cell_type": "code",
   "execution_count": 1,
   "metadata": {},
   "outputs": [
    {
     "name": "stdout",
     "output_type": "stream",
     "text": [
      "[9, 16, 25, 36, 4, 49, 64]\n"
     ]
    }
   ],
   "source": [
    "Li1 = [3,4,5,6,2,7,8]\n",
    "\n",
    "Li2 = list(map(lambda x: x ** 2, Li1))\n",
    "\n",
    "print(Li2)"
   ]
  },
  {
   "cell_type": "markdown",
   "metadata": {},
   "source": [
    "## Filter"
   ]
  },
  {
   "cell_type": "code",
   "execution_count": 3,
   "metadata": {},
   "outputs": [
    {
     "name": "stdout",
     "output_type": "stream",
     "text": [
      "[10, 2, 4]\n"
     ]
    }
   ],
   "source": [
    "def cube(x):\n",
    "    return x % 2 == 0\n",
    "\n",
    "Li1 = [10, 2, 3, 4, 5, 9, 7, 5, 3]\n",
    "\n",
    "Li2 = list(filter(cube, Li1))\n",
    "print(Li2)"
   ]
  },
  {
   "cell_type": "code",
   "execution_count": 4,
   "metadata": {},
   "outputs": [
    {
     "name": "stdout",
     "output_type": "stream",
     "text": [
      "[3, 9, 3]\n"
     ]
    }
   ],
   "source": [
    "Li1 = [10, 2, 3, 4, 5, 9, 7, 5, 3]\n",
    "\n",
    "Li2 = list(filter(lambda x: x%3 == 0, Li1))\n",
    "print(Li2)"
   ]
  },
  {
   "cell_type": "markdown",
   "metadata": {},
   "source": [
    "## Reduce"
   ]
  },
  {
   "cell_type": "code",
   "execution_count": 6,
   "metadata": {},
   "outputs": [],
   "source": [
    "from functools import reduce"
   ]
  },
  {
   "cell_type": "code",
   "execution_count": 8,
   "metadata": {},
   "outputs": [
    {
     "ename": "TypeError",
     "evalue": "<lambda>() missing 1 required positional argument: 'z'",
     "output_type": "error",
     "traceback": [
      "\u001b[1;31m---------------------------------------------------------------------------\u001b[0m",
      "\u001b[1;31mTypeError\u001b[0m                                 Traceback (most recent call last)",
      "\u001b[1;32m<ipython-input-8-2bcc0f67c70f>\u001b[0m in \u001b[0;36m<module>\u001b[1;34m\u001b[0m\n\u001b[0;32m      1\u001b[0m \u001b[0mLi1\u001b[0m \u001b[1;33m=\u001b[0m \u001b[1;33m[\u001b[0m\u001b[1;36m4\u001b[0m\u001b[1;33m,\u001b[0m\u001b[1;36m5\u001b[0m\u001b[1;33m,\u001b[0m\u001b[1;36m6\u001b[0m\u001b[1;33m,\u001b[0m\u001b[1;36m3\u001b[0m\u001b[1;33m,\u001b[0m\u001b[1;36m7\u001b[0m\u001b[1;33m,\u001b[0m\u001b[1;36m9\u001b[0m\u001b[1;33m]\u001b[0m\u001b[1;33m\u001b[0m\u001b[1;33m\u001b[0m\u001b[0m\n\u001b[0;32m      2\u001b[0m \u001b[1;33m\u001b[0m\u001b[0m\n\u001b[1;32m----> 3\u001b[1;33m \u001b[0mval\u001b[0m \u001b[1;33m=\u001b[0m \u001b[0mreduce\u001b[0m\u001b[1;33m(\u001b[0m\u001b[1;32mlambda\u001b[0m \u001b[0mx\u001b[0m\u001b[1;33m,\u001b[0m\u001b[0my\u001b[0m\u001b[1;33m,\u001b[0m\u001b[0mz\u001b[0m \u001b[1;33m:\u001b[0m \u001b[0mx\u001b[0m\u001b[1;33m+\u001b[0m\u001b[0my\u001b[0m\u001b[1;33m+\u001b[0m\u001b[0mz\u001b[0m\u001b[1;33m,\u001b[0m \u001b[0mLi1\u001b[0m\u001b[1;33m)\u001b[0m\u001b[1;33m\u001b[0m\u001b[1;33m\u001b[0m\u001b[0m\n\u001b[0m\u001b[0;32m      4\u001b[0m \u001b[1;33m\u001b[0m\u001b[0m\n\u001b[0;32m      5\u001b[0m \u001b[0mprint\u001b[0m\u001b[1;33m(\u001b[0m\u001b[0mval\u001b[0m\u001b[1;33m)\u001b[0m\u001b[1;33m\u001b[0m\u001b[1;33m\u001b[0m\u001b[0m\n",
      "\u001b[1;31mTypeError\u001b[0m: <lambda>() missing 1 required positional argument: 'z'"
     ]
    }
   ],
   "source": [
    "Li1 = [4,5,6,3,7,9]\n",
    "\n",
    "val = reduce(lambda x,y,z : x+y+z, Li1)\n",
    "\n",
    "print(val)"
   ]
  },
  {
   "cell_type": "code",
   "execution_count": null,
   "metadata": {},
   "outputs": [],
   "source": [
    "#[4,5,6,3,7,9]\n",
    "#[9,6,3,7,9]\n",
    "#[15,3,7,9]\n",
    "#[18,7,9]\n",
    "#[25,9]\n",
    "#34"
   ]
  },
  {
   "cell_type": "markdown",
   "metadata": {},
   "source": [
    "## List Comprehension"
   ]
  },
  {
   "cell_type": "code",
   "execution_count": 9,
   "metadata": {},
   "outputs": [
    {
     "name": "stdout",
     "output_type": "stream",
     "text": [
      "[9, 16, 25, 36, 49, 100]\n"
     ]
    }
   ],
   "source": [
    "Li1 = [3,4,5,6,7,10]\n",
    "\n",
    "#\n",
    "\n",
    "Li2 = []\n",
    "\n",
    "for i in Li1:\n",
    "    Li2.append(i**2)\n",
    "    \n",
    "print(Li2)    "
   ]
  },
  {
   "cell_type": "code",
   "execution_count": 10,
   "metadata": {},
   "outputs": [
    {
     "name": "stdout",
     "output_type": "stream",
     "text": [
      "[9, 16, 25, 36, 49, 100]\n"
     ]
    }
   ],
   "source": [
    "Li1 = [3,4,5,6,7,10]\n",
    "\n",
    "Li2 = [i** 2 for i in Li1]\n",
    "\n",
    "print(Li2)"
   ]
  },
  {
   "cell_type": "code",
   "execution_count": 12,
   "metadata": {},
   "outputs": [
    {
     "name": "stdout",
     "output_type": "stream",
     "text": [
      "[False, True, False, True, False, True]\n"
     ]
    }
   ],
   "source": [
    "Li1 = [3,4,5,6,7,10]\n",
    "\n",
    "Li2 = [i%2==0 for i in Li1]\n",
    "\n",
    "print(Li2)"
   ]
  },
  {
   "cell_type": "code",
   "execution_count": 13,
   "metadata": {},
   "outputs": [
    {
     "name": "stdout",
     "output_type": "stream",
     "text": [
      "[16, 36, 100]\n"
     ]
    }
   ],
   "source": [
    "Li1 = [3,4,5,6,7,10]\n",
    "\n",
    "Li2 = [i**2 for i in Li1 if i % 2 == 0]\n",
    "\n",
    "print(Li2)"
   ]
  },
  {
   "cell_type": "code",
   "execution_count": 15,
   "metadata": {},
   "outputs": [
    {
     "name": "stdout",
     "output_type": "stream",
     "text": [
      "[False, True, False, True, False, True]\n"
     ]
    }
   ],
   "source": [
    "Li1 = [3,4,5,6,7,10]\n",
    "\n",
    "Li2 = [True if i % 2 == 0 else False for i in Li1]\n",
    "\n",
    "print(Li2)"
   ]
  },
  {
   "cell_type": "code",
   "execution_count": 17,
   "metadata": {},
   "outputs": [
    {
     "name": "stdout",
     "output_type": "stream",
     "text": [
      "{36, 100, 9, 16, 49, 25}\n"
     ]
    }
   ],
   "source": [
    "Li1 = [3,4,5,6,7,10]\n",
    "\n",
    "Li2 = {i**2 for i in Li1}\n",
    "\n",
    "print(Li2)"
   ]
  },
  {
   "cell_type": "code",
   "execution_count": 18,
   "metadata": {},
   "outputs": [
    {
     "name": "stdout",
     "output_type": "stream",
     "text": [
      "{3: 9, 4: 16, 5: 25, 6: 36, 7: 49, 10: 100}\n"
     ]
    }
   ],
   "source": [
    "Li1 = [3,4,5,6,7,10]\n",
    "\n",
    "Li2 = {i:i**2 for i in Li1}\n",
    "\n",
    "print(Li2)"
   ]
  },
  {
   "cell_type": "code",
   "execution_count": 21,
   "metadata": {},
   "outputs": [
    {
     "name": "stdout",
     "output_type": "stream",
     "text": [
      "(9, 16, 25, 36, 49, 100)\n"
     ]
    }
   ],
   "source": [
    "Li1 = [3,4,5,6,7,10]\n",
    "\n",
    "Li2 = tuple(i**2 for i in Li1)\n",
    "\n",
    "print(Li2)"
   ]
  },
  {
   "cell_type": "code",
   "execution_count": null,
   "metadata": {},
   "outputs": [],
   "source": []
  }
 ],
 "metadata": {
  "kernelspec": {
   "display_name": "Python 3",
   "language": "python",
   "name": "python3"
  },
  "language_info": {
   "codemirror_mode": {
    "name": "ipython",
    "version": 3
   },
   "file_extension": ".py",
   "mimetype": "text/x-python",
   "name": "python",
   "nbconvert_exporter": "python",
   "pygments_lexer": "ipython3",
   "version": "3.7.6"
  }
 },
 "nbformat": 4,
 "nbformat_minor": 4
}
