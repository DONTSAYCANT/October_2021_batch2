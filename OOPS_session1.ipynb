{
  "nbformat": 4,
  "nbformat_minor": 0,
  "metadata": {
    "colab": {
      "name": "OOPS session1.ipynb",
      "provenance": [],
      "collapsed_sections": []
    },
    "kernelspec": {
      "name": "python3",
      "display_name": "Python 3"
    },
    "language_info": {
      "name": "python"
    }
  },
  "cells": [
    {
      "cell_type": "code",
      "metadata": {
        "id": "ViVnuPINfyWJ"
      },
      "source": [
        "#Functional programming\n",
        "\n",
        "#variables and functions \n",
        "\n",
        "\n",
        "\n",
        "#Object oriented prograamming\n",
        "\n",
        "#classes and object\n",
        "#variables ==> attributes  functions ==> Methods\n",
        "\n",
        "#Basic python DC/dtypes are implemeneted using OOPS\n",
        "\n",
        "#Reusability ==> inheritance\n",
        "#abstract class\n",
        "#encapsulation\n",
        "\n",
        "#class ==> attributes and method\n",
        "\n",
        "#blueprint\n",
        "#structure\n",
        "\n",
        "#Form\n",
        "\n",
        "#Object  ==> instant of the class\n",
        "\n",
        "#student1 (rrrr, 10, \"fgfggf-67676\") ===> object1\n",
        "#student2 (ggggg, 9 , jhgfhgjkjg-78999)  ===> object2\n",
        "#student3 (iiiiii, 8,  uyth nhjjf-90001)  ===> object3\n",
        "\n"
      ],
      "execution_count": null,
      "outputs": []
    },
    {
      "cell_type": "code",
      "metadata": {
        "colab": {
          "base_uri": "https://localhost:8080/"
        },
        "id": "QIDwiplogY6G",
        "outputId": "c659280f-d5a9-4994-91ed-a0ab89e703ed"
      },
      "source": [
        "a = 10\n",
        "print(type(a))"
      ],
      "execution_count": 1,
      "outputs": [
        {
          "output_type": "stream",
          "name": "stdout",
          "text": [
            "<class 'int'>\n"
          ]
        }
      ]
    },
    {
      "cell_type": "code",
      "metadata": {
        "id": "0L7YD7wZgbcF"
      },
      "source": [
        "#class and object\n",
        "\n",
        "#empty class creation\n",
        "\n",
        "class Student:  #class creation\n",
        "  pass\n",
        "\n",
        "student_1 = Student() #student_1 object \n",
        "\n",
        "student_2 = Student() #student_2 object\n"
      ],
      "execution_count": 2,
      "outputs": []
    },
    {
      "cell_type": "code",
      "metadata": {
        "colab": {
          "base_uri": "https://localhost:8080/"
        },
        "id": "FIutljHpi7UJ",
        "outputId": "1dba53af-8055-49c7-ad9c-b886a2f0eef3"
      },
      "source": [
        "#with attributes abd methods\n",
        "#class attribute and how to change it\n",
        "\n",
        "class Student:\n",
        "  school_name = \"kkk int school\" #class attribute\n",
        "  city = \"chennai\" #class attribute\n",
        "\n",
        "\n",
        "student_1 = Student()\n",
        "print(student_1.school_name)\n",
        "\n",
        "\n",
        "student_2 = Student()\n",
        "print(student_2.city)\n",
        "\n",
        "Student.school_name = \"jjj int school\"\n",
        "Student.city = \"Trichy\"\n",
        "\n",
        "print(student_1.school_name)\n",
        "print(student_2.city)\n",
        "\n"
      ],
      "execution_count": 5,
      "outputs": [
        {
          "output_type": "stream",
          "name": "stdout",
          "text": [
            "kkk int school\n",
            "chennai\n",
            "jjj int school\n",
            "Trichy\n"
          ]
        }
      ]
    },
    {
      "cell_type": "code",
      "metadata": {
        "colab": {
          "base_uri": "https://localhost:8080/"
        },
        "id": "G59soNKoji_X",
        "outputId": "806c80c8-160f-4510-e443-adde95346200"
      },
      "source": [
        "#object attribute\n",
        "\n",
        "class Student:\n",
        "  school_name = \"kkk int school\" #class attribute\n",
        "  city = \"chennai\" #class attribute\n",
        "\n",
        "student_1 = Student()\n",
        "print(student_1.school_name)\n",
        "print(student_1.city)\n",
        "\n",
        "student_2 = Student()\n",
        "print(student_2.school_name)\n",
        "print(student_2.city)\n",
        "\n",
        "student_2.school_name = \"aaa int school\"\n",
        "student_2.city = \"coimbatore\"\n",
        "\n",
        "\n",
        "print(student_1.school_name)\n",
        "print(student_1.city)\n",
        "\n",
        "\n",
        "print(student_2.school_name)\n",
        "print(student_2.city)"
      ],
      "execution_count": 10,
      "outputs": [
        {
          "output_type": "stream",
          "name": "stdout",
          "text": [
            "kkk int school\n",
            "chennai\n",
            "kkk int school\n",
            "chennai\n",
            "kkk int school\n",
            "chennai\n",
            "aaa int school\n",
            "coimbatore\n"
          ]
        }
      ]
    },
    {
      "cell_type": "code",
      "metadata": {
        "id": "oCQaTqlUkerP"
      },
      "source": [
        "#public\n",
        "#private\n",
        "#protected"
      ],
      "execution_count": null,
      "outputs": []
    },
    {
      "cell_type": "code",
      "metadata": {
        "colab": {
          "base_uri": "https://localhost:8080/"
        },
        "id": "VAYatCXelVu1",
        "outputId": "7ca608e4-5541-4e8a-9186-cb404ae3d523"
      },
      "source": [
        "class Student:\n",
        "  school_name = \"kkk int school\" #class attribute\n",
        "  city = \"chennai\" #class attribute\n",
        "\n",
        "  def auditorium(self):\n",
        "    return \"auditorium located near by your class room\"\n",
        "\n",
        "  def addition(self, value1, value2):\n",
        "    return value1 + value2\n",
        "\n",
        "  def print_func(self):\n",
        "    print(self)\n",
        "    print(self.school_name)\n",
        "    return \"normal print function\"\n",
        "\n",
        "student1 = Student()\n",
        "print(student1.auditorium())\n",
        "print(student1.addition(10,20))\n",
        "#print(student1.print_func())\n",
        "\n",
        "print(Student.print_func(student1)) \n",
        "print(student1.print_func())"
      ],
      "execution_count": 21,
      "outputs": [
        {
          "output_type": "stream",
          "name": "stdout",
          "text": [
            "auditorium located near by your class room\n",
            "30\n",
            "<__main__.Student object at 0x7f85c153c1d0>\n",
            "kkk int school\n",
            "normal print function\n",
            "<__main__.Student object at 0x7f85c153c1d0>\n",
            "kkk int school\n",
            "normal print function\n"
          ]
        }
      ]
    },
    {
      "cell_type": "code",
      "metadata": {
        "colab": {
          "base_uri": "https://localhost:8080/",
          "height": 209
        },
        "id": "v58jYXmnl-OL",
        "outputId": "22e14e17-14e6-4226-fd94-d2cd6bf2af62"
      },
      "source": [
        "def func():\n",
        "  return \"output\"\n",
        "\n",
        "print(func(\"val\"))"
      ],
      "execution_count": 15,
      "outputs": [
        {
          "output_type": "error",
          "ename": "TypeError",
          "evalue": "ignored",
          "traceback": [
            "\u001b[0;31m---------------------------------------------------------------------------\u001b[0m",
            "\u001b[0;31mTypeError\u001b[0m                                 Traceback (most recent call last)",
            "\u001b[0;32m<ipython-input-15-d5bd4f69377e>\u001b[0m in \u001b[0;36m<module>\u001b[0;34m()\u001b[0m\n\u001b[1;32m      2\u001b[0m   \u001b[0;32mreturn\u001b[0m \u001b[0;34m\"output\"\u001b[0m\u001b[0;34m\u001b[0m\u001b[0;34m\u001b[0m\u001b[0m\n\u001b[1;32m      3\u001b[0m \u001b[0;34m\u001b[0m\u001b[0m\n\u001b[0;32m----> 4\u001b[0;31m \u001b[0mprint\u001b[0m\u001b[0;34m(\u001b[0m\u001b[0mfunc\u001b[0m\u001b[0;34m(\u001b[0m\u001b[0;34m\"val\"\u001b[0m\u001b[0;34m)\u001b[0m\u001b[0;34m)\u001b[0m\u001b[0;34m\u001b[0m\u001b[0;34m\u001b[0m\u001b[0m\n\u001b[0m",
            "\u001b[0;31mTypeError\u001b[0m: func() takes 0 positional arguments but 1 was given"
          ]
        }
      ]
    },
    {
      "cell_type": "code",
      "metadata": {
        "id": "Q2uwNwpumvkY"
      },
      "source": [
        "#Constructor (__init__)\n",
        "#destructor\n",
        "#inheritance\n",
        "#class method vs static mehod vs normal method\n",
        "#overrding\n",
        "#abstract class abstract method\n",
        "#encapsulation\n",
        "#ploymophism"
      ],
      "execution_count": null,
      "outputs": []
    }
  ]
}